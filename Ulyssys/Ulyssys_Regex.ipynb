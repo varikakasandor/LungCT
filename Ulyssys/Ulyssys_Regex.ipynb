{
 "cells": [
  {
   "cell_type": "code",
   "execution_count": 3,
   "id": "757833ef",
   "metadata": {},
   "outputs": [],
   "source": [
    "import os\n",
    "import glob\n",
    "import re\n",
    "import shutil\n",
    "import pandas as pd\n",
    "import copy"
   ]
  },
  {
   "cell_type": "code",
   "execution_count": 48,
   "id": "37c7b380",
   "metadata": {},
   "outputs": [],
   "source": [
    "df=pd.DataFrame(columns=[\"PatientID\",\"Pulmonary tumour\", \"Pulmonary embolism\", \"Lymphoglandular metastasis\", \"Pulmonary metastasis\", \"Covid\", \"Emphysema\", \"Bronchiectasia\", \"Cardiomegalia\"])\n",
    "default_patient={disease:\"\" for disease in df}\n",
    "cnt={disease:0 for disease in df}"
   ]
  },
  {
   "cell_type": "code",
   "execution_count": 49,
   "id": "3bfd83ed",
   "metadata": {},
   "outputs": [],
   "source": [
    "special_remover = '(\\s+)|(\\.)|(\\-)'\n",
    "replace_special = ''"
   ]
  },
  {
   "cell_type": "code",
   "execution_count": 50,
   "id": "77648b51",
   "metadata": {},
   "outputs": [],
   "source": [
    "neg=r\"((?!(nem|nincs)).*)\"\n",
    "regexes= {\n",
    "    \"Pulmonary tumour\": fr\"tu(pulm|plum){neg}\",\n",
    "    \"Pulmonary embolism\": fr\"emboliapulm{neg}\",\n",
    "    \"Lymphoglandular metastasis\": fr\"metlgl{neg}\",\n",
    "    \"Pulmonary metastasis\": fr\"metpulm{neg}\",\n",
    "    \"Covid\": fr\"covid((19)?)(((tipusu)|(típusu)|(típusú))?)(pneumo((m)?)ni((a)?)){neg}\",\n",
    "    \"Emphysema\": fr\"emphysema{neg}\",\n",
    "    \"Bronchiectasia\": fr\"bronchiectasia{neg}\",\n",
    "    \"Cardiomegalia\": fr\"((cardiomegalia)|(((sziv)|(szív))nagyobb)){neg}\"\n",
    "}"
   ]
  },
  {
   "cell_type": "code",
   "execution_count": 51,
   "id": "758e59d5",
   "metadata": {},
   "outputs": [],
   "source": [
    "for patient_path in glob.iglob('/mnt/idms/PROJECTS/Lung/Tudo-Ulyssys-Unzipped/*'):\n",
    "    txt_path=glob.glob(f'{patient_path}/*.txt')[0]\n",
    "    with open(txt_path, 'r', encoding='latin1', errors='ignore') as file:\n",
    "        data = file.read().lower()\n",
    "        data,_ = re.subn(special_remover, replace_special, data)\n",
    "        patient=copy.deepcopy(default_patient)\n",
    "        patient[\"PatientID\"]=patient_path\n",
    "        for disease, regex in regexes.items():\n",
    "            if re.search(regex, data) is not None:\n",
    "                patient[disease]=\"1\"\n",
    "                cnt[disease]+=1\n",
    "        df=df.append(pd.Series(patient),ignore_index=True)"
   ]
  },
  {
   "cell_type": "code",
   "execution_count": 52,
   "id": "f129ea47",
   "metadata": {},
   "outputs": [],
   "source": [
    "cnt[\"PatientID\"]=\"Sum\""
   ]
  },
  {
   "cell_type": "code",
   "execution_count": 53,
   "id": "e42932d1",
   "metadata": {},
   "outputs": [],
   "source": [
    "df_stat=df.append(pd.Series({k:str(v) for k,v in cnt.items()}), ignore_index=True)"
   ]
  },
  {
   "cell_type": "code",
   "execution_count": 54,
   "id": "620d7003",
   "metadata": {},
   "outputs": [],
   "source": [
    "df_stat.to_csv('./Statistics.csv', index=False)"
   ]
  },
  {
   "cell_type": "code",
   "execution_count": 55,
   "id": "b31722f5",
   "metadata": {},
   "outputs": [],
   "source": [
    "df.to_csv('./Verdicts.csv',index=False)"
   ]
  }
 ],
 "metadata": {
  "kernelspec": {
   "display_name": "Python 3",
   "language": "python",
   "name": "python3"
  },
  "language_info": {
   "codemirror_mode": {
    "name": "ipython",
    "version": 3
   },
   "file_extension": ".py",
   "mimetype": "text/x-python",
   "name": "python",
   "nbconvert_exporter": "python",
   "pygments_lexer": "ipython3",
   "version": "3.6.13"
  }
 },
 "nbformat": 4,
 "nbformat_minor": 5
}
