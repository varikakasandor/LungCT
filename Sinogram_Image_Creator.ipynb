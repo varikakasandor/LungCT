{
 "cells": [
  {
   "cell_type": "code",
   "execution_count": 1,
   "id": "17a832bf",
   "metadata": {},
   "outputs": [],
   "source": [
    "import math\n",
    "import pandas as pd\n",
    "import numpy as np\n",
    "import itertools, functools\n",
    "import matplotlib.pyplot as plt\n",
    "from PIL import Image, ImageEnhance, ImageFilter\n",
    "\n",
    "from skimage.io import imread\n",
    "from skimage.data import shepp_logan_phantom\n",
    "from skimage.transform import iradon, iradon_sart, radon, rescale\n",
    "\n",
    "import pickle\n",
    "import os\n",
    "import multiprocessing as mp\n",
    "import glob\n",
    "\n",
    "import time"
   ]
  },
  {
   "cell_type": "markdown",
   "id": "be7e3b96",
   "metadata": {},
   "source": [
    "## Defining constants"
   ]
  },
  {
   "cell_type": "code",
   "execution_count": 11,
   "id": "185040fe",
   "metadata": {},
   "outputs": [],
   "source": [
    "SLICES=5 #How many slices/periods to load"
   ]
  },
  {
   "cell_type": "code",
   "execution_count": 12,
   "id": "a21ade4f",
   "metadata": {},
   "outputs": [],
   "source": [
    "ANGLES=720*2*2 #Number of views to use for a sinogram\n",
    "HALF_ANGLES=ANGLES//2\n",
    "PROJECTIONS=896\n",
    "HALF_PROJECTIONS=PROJECTIONS//2\n",
    "START_PERIOD=7 #From where to take the views for the sinogram. If x, then view number x*ANGLES is the first view to use.\n",
    "SMALL_R=518\n",
    "BIG_R=910\n",
    "FULL_CIRCLE=2*math.pi\n",
    "SEMI_CIRCLE=FULL_CIRCLE/2\n",
    "PERPENDICULAR_ANGLE=math.pi/2\n",
    "THICKNESS=16"
   ]
  },
  {
   "cell_type": "code",
   "execution_count": 13,
   "id": "1194a905",
   "metadata": {},
   "outputs": [],
   "source": [
    "MAX_DISPLACEMENT=math.sqrt(SMALL_R**2-(BIG_R/2)**2)\n",
    "HALF_VIEW_ANGLE=math.asin(MAX_DISPLACEMENT/SMALL_R)\n",
    "VIEW_ANGLE=2*HALF_VIEW_ANGLE"
   ]
  },
  {
   "cell_type": "markdown",
   "id": "6238be58",
   "metadata": {},
   "source": [
    "## Multi-threaded reading of view measurements from csv"
   ]
  },
  {
   "cell_type": "code",
   "execution_count": 14,
   "id": "91edf690",
   "metadata": {},
   "outputs": [],
   "source": [
    "count_errors = itertools.count() #I am not perfectly sure if this is atomic.\n",
    "#Atomic stuff seems to be a surprising downside of Python\n",
    "# - at least I couldn't find trivial packages for this purpose.\n",
    "\n",
    "def set_strip(do_exp, csv_path):\n",
    "    try:\n",
    "        arr=np.genfromtxt(csv_path,delimiter=',')\n",
    "        if do_exp:\n",
    "            arr=np.exp(arr)\n",
    "            arr=np.clip(arr,0,255)\n",
    "            arr=np.uint8(arr)\n",
    "        else:\n",
    "            arr=(arr-np.min(arr))/(np.max(arr)-np.min(arr))*255\n",
    "        return arr\n",
    "    except: #Some csv-s are empty, DON'T KNOW WHY\n",
    "        value = next(count_errors)\n",
    "        print(f\"ERROR number {value} in file {csv_path}\")\n",
    "        return None\n",
    "\n",
    "def get_strips(dose, do_exp=False, max_cnt=None, parallel_jobs=mp.cpu_count()):\n",
    "    views_location=f\"/mnt/idms/PROJECTS/Lung/sinogram_Domi/spr_dose{dose}/out\"\n",
    "    cnt=0\n",
    "    csv_paths=sorted(glob.glob(f\"{views_location}/*.csv\"),key=lambda x:int(x[59:-4]))\n",
    "    if not max_cnt:\n",
    "        max_cnt=len(csv_paths)\n",
    "\n",
    "    start = time.time()\n",
    "    print(f\"Reading of {dose} mAs dose input started\")\n",
    "    print(f\"It will take approximately {3.0*max_cnt/48000} minutes on Hulk5 or {5.0*max_cnt/48000} on Gpu2.\")\n",
    "\n",
    "    with mp.Pool(parallel_jobs) as pool:\n",
    "        strips = pool.map(functools.partial(set_strip,do_exp), csv_paths[:max_cnt])\n",
    "        strips=np.array([x for x in list(strips) if x is not None])\n",
    "        \n",
    "    end = time.time()\n",
    "    print(f\"Reading of {dose} mAs dose input has finished\")\n",
    "    print(f\"{len(strips)} views were read\")\n",
    "    print(f\"It took {(end - start)/60} minutes\")\n",
    "    \n",
    "    return strips"
   ]
  },
  {
   "cell_type": "code",
   "execution_count": 15,
   "id": "242ec081",
   "metadata": {},
   "outputs": [
    {
     "name": "stdout",
     "output_type": "stream",
     "text": [
      "Reading of 020 mAs dose input started\n",
      "It will take approximately 0.9 minutes on Hulk5 or 1.5 on Gpu2.\n",
      "Reading of 020 mAs dose input has finished\n",
      "14400 views were read\n",
      "It took 0.689779810110728 minutes\n",
      "Reading of 080 mAs dose input started\n",
      "It will take approximately 0.9 minutes on Hulk5 or 1.5 on Gpu2.\n",
      "Reading of 080 mAs dose input has finished\n",
      "14400 views were read\n",
      "It took 0.6719696640968322 minutes\n",
      "Reading of 280 mAs dose input started\n",
      "It will take approximately 0.9 minutes on Hulk5 or 1.5 on Gpu2.\n",
      "Reading of 280 mAs dose input has finished\n",
      "14400 views were read\n",
      "It took 0.691663670539856 minutes\n"
     ]
    }
   ],
   "source": [
    "doses=[\"020\",\"080\",\"280\"]\n",
    "used_doses=doses # OR [\"280\"]\n",
    "strips=dict()\n",
    "for dose in used_doses:\n",
    "    strips[dose]=get_strips(dose, max_cnt=ANGLES*SLICES)"
   ]
  },
  {
   "cell_type": "markdown",
   "id": "b0d304ea",
   "metadata": {},
   "source": [
    "## Helper functions"
   ]
  },
  {
   "cell_type": "code",
   "execution_count": 16,
   "id": "55f10cf0",
   "metadata": {},
   "outputs": [],
   "source": [
    "def plot_sinogram(sinogram, method, angle_range=180.0):\n",
    "    plt.figure()\n",
    "    plt.title(method)\n",
    "    plt.xlabel('angle (pixel)')\n",
    "    plt.ylabel('projection (pixel)')\n",
    "    plt.imshow(sinogram,cmap=plt.cm.Greys_r)\n",
    "    plt.show()"
   ]
  },
  {
   "cell_type": "code",
   "execution_count": 17,
   "id": "1b4ea672",
   "metadata": {},
   "outputs": [],
   "source": [
    "def my_round(v,maxi):\n",
    "    return min(maxi-1,round(v))"
   ]
  },
  {
   "cell_type": "code",
   "execution_count": 18,
   "id": "6100018b",
   "metadata": {},
   "outputs": [],
   "source": [
    "def my_round_vec(v,maxi):\n",
    "    return np.minimum(np.round(v),maxi-1).astype(int)"
   ]
  },
  {
   "cell_type": "markdown",
   "id": "bc5af50f",
   "metadata": {},
   "source": [
    "## Defining sinogram creators"
   ]
  },
  {
   "cell_type": "code",
   "execution_count": null,
   "id": "ad91d3f2",
   "metadata": {},
   "outputs": [],
   "source": [
    "def create_sinogram_stupid_360(strips, shift=0):\n",
    "    sinogram = Image.new('L', (ANGLES,PROJECTIONS))\n",
    "    for idx in range(START_PERIOD*ANGLES+shift,(START_PERIOD+1)*ANGLES+shift):\n",
    "        strip=Image.fromarray(np.expand_dims(np.mean(np.array(strips[idx]),axis=0),axis=1))\n",
    "        i=idx-(START_PERIOD*ANGLES+shift)\n",
    "        sinogram.paste(strip, (i, 0))\n",
    "    plot_sinogram(sinogram,\"sinogram_stupid_360\",360)\n",
    "    return sinogram"
   ]
  },
  {
   "cell_type": "code",
   "execution_count": null,
   "id": "0e98cf73",
   "metadata": {},
   "outputs": [],
   "source": [
    "def create_sinogram_stupid_180(strips):\n",
    "    sinogram = Image.new('L', (HALF_ANGLES,PROJECTIONS))\n",
    "    pixels=sinogram.load()\n",
    "    for idx in range(START_PERIOD*ANGLES,(START_PERIOD+1)*ANGLES):\n",
    "        strip=np.mean(np.array(strips[idx]),axis=0)\n",
    "        i=(idx-START_PERIOD*ANGLES)\n",
    "        for j in range(PROJECTIONS):\n",
    "            if(i<HALF_ANGLES):\n",
    "                pixels[i,j]+=int(strip[j]/2)\n",
    "            else:\n",
    "                pixels[i-HALF_ANGLES,PROJECTIONS-j-1]+=int(strip[j]/2)\n",
    "    plot_sinogram(sinogram,\"sinogram_stupid_180\",180)\n",
    "    return sinogram"
   ]
  },
  {
   "cell_type": "code",
   "execution_count": null,
   "id": "79b38027",
   "metadata": {},
   "outputs": [],
   "source": [
    "def create_sinogram_stupid_full(strips):\n",
    "    num=len(strips)\n",
    "    sinogram = Image.new('L', (PROJECTIONS, num))\n",
    "    for i in range(num):\n",
    "        strip=Image.fromarray(np.expand_dims(np.mean(np.array(strips[i]),axis=0),axis=1))\n",
    "        sinogram.paste(strip, (i, 0))\n",
    "    plot_sinogram(sinogram,\"sinogram_stupid_full\",num)\n",
    "    return sinogram"
   ]
  },
  {
   "cell_type": "code",
   "execution_count": null,
   "id": "a4bbd135",
   "metadata": {},
   "outputs": [],
   "source": [
    "def create_sinogram_intuitive_360(strips):\n",
    "    sinogram=Image.new('L',(ANGLES,PROJECTIONS))\n",
    "    pixels=sinogram.load()\n",
    "    for idx in range(START_PERIOD*ANGLES,(START_PERIOD+1)*ANGLES):\n",
    "        strip=np.mean(np.array(strips[idx]),axis=0)\n",
    "        i=idx-START_PERIOD*ANGLES\n",
    "        for j in range(PROJECTIONS):\n",
    "            pixels[(i+j)%ANGLES,j]=int(strip[j])\n",
    "    plot_sinogram(sinogram,\"sinogram_intuitive_360\",360)\n",
    "    return sinogram"
   ]
  },
  {
   "cell_type": "code",
   "execution_count": null,
   "id": "c4182762",
   "metadata": {},
   "outputs": [],
   "source": [
    "def create_sinogram_intuitive_180(strips):\n",
    "    sinogram=Image.new('L',(HALF_ANGLES,PROJECTIONS))\n",
    "    pixels=sinogram.load()\n",
    "    for idx in range(START_PERIOD*ANGLES,(START_PERIOD+1)*ANGLES):\n",
    "        strip=np.mean(np.array(strips[idx]),axis=0)\n",
    "        i=idx-START_PERIOD*ANGLES\n",
    "        for j in range(PROJECTIONS):\n",
    "            pixels[(i+j)%HALF_ANGLES,j]=int(strip[j]/2)\n",
    "    plot_sinogram(sinogram,\"sinogram_intuitive_180\",180)\n",
    "    return sinogram"
   ]
  },
  {
   "cell_type": "code",
   "execution_count": null,
   "id": "54ce705a",
   "metadata": {},
   "outputs": [],
   "source": [
    "def create_sinogram_intuitive_param_180(strips,slope):\n",
    "    sinogram=Image.new('L',(HALF_ANGLES,PROJECTIONS))\n",
    "    pixels=sinogram.load()\n",
    "    for idx in range(START_PERIOD*ANGLES,(START_PERIOD+1)*ANGLES):\n",
    "        strip=np.mean(np.array(strips[idx]),axis=0)\n",
    "        i=idx-START_PERIOD*ANGLES\n",
    "        for j in range(PROJECTIONS):\n",
    "            pixels[(i+j*slope)%HALF_ANGLES,j]=int(strip[j]/2)\n",
    "    plot_sinogram(sinogram,\"sinogram_intuitive_180\",180)\n",
    "    return sinogram"
   ]
  },
  {
   "cell_type": "code",
   "execution_count": null,
   "id": "ff66cfec",
   "metadata": {},
   "outputs": [],
   "source": [
    "def create_sinogram_trigonometry_360(strips):\n",
    "    \n",
    "    sinogram=Image.new('L',(ANGLES,PROJECTIONS))#,color=128)\n",
    "    pixels=sinogram.load()\n",
    "    central_angles=np.linspace(0,FULL_CIRCLE,ANGLES)\n",
    "    displacement_angles=np.linspace(0,HALF_VIEW_ANGLE,HALF_PROJECTIONS,endpoint=False)\n",
    "    displacements=np.sin(displacement_angles)*SMALL_R\n",
    "    \n",
    "    \n",
    "    for idx in range(START_PERIOD*ANGLES,(START_PERIOD+1)*ANGLES):\n",
    "        \n",
    "        strip=np.min(np.array(strips[idx]),axis=0)\n",
    "        i=idx-START_PERIOD*ANGLES\n",
    "        \n",
    "        for j in range(HALF_PROJECTIONS):\n",
    "            angle_rad=(central_angles[i]+displacement_angles[j])%FULL_CIRCLE\n",
    "            angle_pixel=my_round(ANGLES*angle_rad/FULL_CIRCLE,ANGLES)\n",
    "            projection_pixel=my_round(HALF_PROJECTIONS+HALF_PROJECTIONS*(displacements[j]/MAX_DISPLACEMENT),PROJECTIONS)\n",
    "            pixels[angle_pixel,projection_pixel]=int(strip[HALF_PROJECTIONS+j])\n",
    "        \n",
    "        for j in range(HALF_PROJECTIONS):\n",
    "            angle_rad=(central_angles[i]-displacement_angles[j]+FULL_CIRCLE)%FULL_CIRCLE\n",
    "            angle_pixel=my_round(ANGLES*angle_rad/FULL_CIRCLE,ANGLES)\n",
    "            projection_pixel=my_round(HALF_PROJECTIONS-HALF_PROJECTIONS*(displacements[j]/MAX_DISPLACEMENT),PROJECTIONS)\n",
    "            pixels[angle_pixel,projection_pixel]=int(strip[HALF_PROJECTIONS-j])\n",
    "    \n",
    "    \n",
    "    plot_sinogram(sinogram, \"sinogram_trigonometry_360\",360)\n",
    "    return sinogram"
   ]
  },
  {
   "cell_type": "code",
   "execution_count": null,
   "id": "8d5f601b",
   "metadata": {},
   "outputs": [],
   "source": [
    "def create_sinogram_trigonometry_reverse_360(strips):\n",
    "    \n",
    "    sinogram=Image.new('L',(ANGLES,PROJECTIONS))#,color=128)\n",
    "    pixels=sinogram.load()\n",
    "    central_angles=np.linspace(0,FULL_CIRCLE,ANGLES)\n",
    "    displacement_angles=np.linspace(0,HALF_VIEW_ANGLE,HALF_PROJECTIONS,endpoint=False)\n",
    "    displacements=np.sin(displacement_angles)*SMALL_R\n",
    "    \n",
    "    \n",
    "    for idx in range(START_PERIOD*ANGLES,(START_PERIOD+1)*ANGLES):\n",
    "        \n",
    "        strip=np.min(np.array(strips[idx]),axis=0)\n",
    "        i=idx-START_PERIOD*ANGLES\n",
    "        \n",
    "        for j in range(HALF_PROJECTIONS):\n",
    "            angle_rad=(central_angles[i]+displacement_angles[j])%FULL_CIRCLE\n",
    "            angle_pixel=my_round(ANGLES*angle_rad/FULL_CIRCLE,ANGLES)\n",
    "            projection_pixel=my_round(HALF_PROJECTIONS+HALF_PROJECTIONS*(displacements[j]/MAX_DISPLACEMENT),PROJECTIONS)\n",
    "            pixels[angle_pixel,projection_pixel]=int(strip[HALF_PROJECTIONS+j])\n",
    "        \n",
    "        for j in range(HALF_PROJECTIONS):\n",
    "            angle_rad=(central_angles[i]-displacement_angles[j]+FULL_CIRCLE)%FULL_CIRCLE\n",
    "            angle_pixel=my_round(ANGLES*angle_rad/FULL_CIRCLE,ANGLES)\n",
    "            projection_pixel=my_round(HALF_PROJECTIONS-HALF_PROJECTIONS*(displacements[j]/MAX_DISPLACEMENT),PROJECTIONS)\n",
    "            pixels[angle_pixel,projection_pixel]=int(strip[HALF_PROJECTIONS-j])\n",
    "    \n",
    "    \n",
    "    plot_sinogram(sinogram, \"sinogram_trigonometry_360\",360)\n",
    "    return sinogram"
   ]
  },
  {
   "cell_type": "code",
   "execution_count": null,
   "id": "eab4fd5a",
   "metadata": {},
   "outputs": [],
   "source": [
    "def create_sinogram_trigonometry_normal(strips):\n",
    "    \n",
    "    sinogram=Image.new('L',(HALF_ANGLES,PROJECTIONS))#,color=128)\n",
    "    pixels=sinogram.load()\n",
    "    central_angles=np.linspace(0,FULL_CIRCLE,ANGLES)\n",
    "    displacement_angles=np.linspace(-HALF_VIEW_ANGLE,HALF_VIEW_ANGLE,PROJECTIONS,endpoint=False)  #[::-1]\n",
    "    displacements=np.sin(displacement_angles)*SMALL_R\n",
    "    \n",
    "    \n",
    "    for idx in range(START_PERIOD*ANGLES,(START_PERIOD+1)*ANGLES):\n",
    "        \n",
    "        strip=np.mean(np.array(strips[idx]),axis=0)\n",
    "        i=idx-START_PERIOD*ANGLES\n",
    "        \n",
    "        for j in range(PROJECTIONS):\n",
    "            normal_angle=(central_angles[i]+displacement_angles[j]+PERPENDICULAR_ANGLE)%FULL_CIRCLE\n",
    "            projection_dist=displacements[j]\n",
    "            if normal_angle > SEMI_CIRCLE+PERPENDICULAR_ANGLE:\n",
    "                normal_angle-=SEMI_CIRCLE\n",
    "                projection_dist*=(-1)\n",
    "            projection_pixel=my_round(PROJECTIONS*((projection_dist-MAX_DISPLACEMENT)/(2*MAX_DISPLACEMENT)),PROJECTIONS)\n",
    "            angle_pixel=my_round(HALF_ANGLES*(normal_angle/SEMI_CIRCLE),HALF_ANGLES)\n",
    "            pixels[angle_pixel,projection_pixel]+=int(strip[j]/2)\n",
    "            \n",
    "    plot_sinogram(sinogram, \"sinogram_trigonometry_normal\",180)\n",
    "    return sinogram"
   ]
  },
  {
   "cell_type": "code",
   "execution_count": null,
   "id": "03fb5d29",
   "metadata": {},
   "outputs": [],
   "source": [
    "def create_sinogram_trigonometry_180(strips):\n",
    "    \n",
    "    sinogram=Image.new('L',(HALF_ANGLES,PROJECTIONS))#,color=128)\n",
    "    pixels=sinogram.load()\n",
    "    central_angles=np.linspace(0,FULL_CIRCLE,ANGLES)\n",
    "    displacement_angles=np.linspace(0,HALF_VIEW_ANGLE,HALF_PROJECTIONS,endpoint=False)\n",
    "    displacements=np.sin(displacement_angles)*SMALL_R\n",
    "    \n",
    "    \n",
    "    for idx in range(START_PERIOD*ANGLES,(START_PERIOD+1)*ANGLES):\n",
    "        \n",
    "        strip=np.mean(np.array(strips[idx]),axis=0)\n",
    "        i=idx-START_PERIOD*ANGLES\n",
    "        \n",
    "        for j in range(HALF_PROJECTIONS):\n",
    "            angle_rad=(central_angles[i]+displacement_angles[j])%FULL_CIRCLE\n",
    "            angle_pixel=my_round(HALF_ANGLES*angle_rad/FULL_CIRCLE,HALF_ANGLES)\n",
    "            projection_pixel=my_round(HALF_PROJECTIONS+HALF_PROJECTIONS*(displacements[j]/MAX_DISPLACEMENT),PROJECTIONS)\n",
    "            pixels[angle_pixel,projection_pixel]+=int(strip[HALF_PROJECTIONS+j]/2)\n",
    "        \n",
    "        for j in range(HALF_PROJECTIONS):\n",
    "            angle_rad=(central_angles[i]-displacement_angles[j]+FULL_CIRCLE)%FULL_CIRCLE\n",
    "            angle_pixel=my_round(HALF_ANGLES*angle_rad/FULL_CIRCLE,HALF_ANGLES)\n",
    "            projection_pixel=my_round(HALF_PROJECTIONS-HALF_PROJECTIONS*(displacements[j]/MAX_DISPLACEMENT),PROJECTIONS)\n",
    "            pixels[angle_pixel,projection_pixel]+=int(strip[HALF_PROJECTIONS-j]/2)\n",
    "    plot_sinogram(sinogram, \"sinogram_trigonometry_180\",180)\n",
    "    return sinogram"
   ]
  },
  {
   "cell_type": "code",
   "execution_count": null,
   "id": "cdd5902e",
   "metadata": {},
   "outputs": [],
   "source": [
    "def create_sinogram_trigonometry_reverse_old(strips):\n",
    "    \n",
    "    sinogram=Image.new('L',(HALF_ANGLES,PROJECTIONS),color=0)\n",
    "    pixels=sinogram.load()\n",
    "    \n",
    "    for angle_pixel in range(HALF_ANGLES):\n",
    "        theta=SEMI_CIRCLE*angle_pixel/HALF_ANGLES\n",
    "        for proj_pixel in range(PROJECTIONS):\n",
    "            s=-MAX_DISPLACEMENT+(proj_pixel/PROJECTIONS)*2*MAX_DISPLACEMENT\n",
    "            beta=math.asin(s/SMALL_R)\n",
    "            alpha=theta-beta\n",
    "            \n",
    "            P=my_round(PROJECTIONS*((HALF_VIEW_ANGLE+beta)/VIEW_ANGLE),PROJECTIONS)\n",
    "            V=my_round(HALF_ANGLES*(alpha/SEMI_CIRCLE),HALF_ANGLES)\n",
    "            val=np.mean(strips[START_PERIOD*ANGLES+V],axis=0)[P]\n",
    "            \n",
    "            pixels[angle_pixel, my_round(PROJECTIONS-proj_pixel,PROJECTIONS)]=int(val)\n",
    "        \n",
    "            \n",
    "    plot_sinogram(sinogram, \"sinogram_trigonometry_reverse\",180)\n",
    "    return sinogram"
   ]
  },
  {
   "cell_type": "code",
   "execution_count": null,
   "id": "f70df992",
   "metadata": {},
   "outputs": [],
   "source": [
    "def create_sinogram_trigonometry_reverse(strips):\n",
    "    \n",
    "    sinogram=Image.new('L',(HALF_ANGLES,PROJECTIONS),color=0)\n",
    "    pixels=sinogram.load()\n",
    "    \n",
    "    for angle_pixel in range(HALF_ANGLES):\n",
    "        theta=SEMI_CIRCLE*angle_pixel/HALF_ANGLES\n",
    "        for proj_pixel in range(PROJECTIONS):\n",
    "            s=-MAX_DISPLACEMENT+(proj_pixel/PROJECTIONS)*2*MAX_DISPLACEMENT\n",
    "            beta=math.asin(s/SMALL_R)\n",
    "            alpha=theta-beta\n",
    "            \n",
    "            P=my_round(PROJECTIONS*((HALF_VIEW_ANGLE+beta)/VIEW_ANGLE),PROJECTIONS)\n",
    "            V=my_round(HALF_ANGLES*(alpha/SEMI_CIRCLE),HALF_ANGLES)\n",
    "            val=np.mean(np.array(strips[START_PERIOD*ANGLES+V]),axis=0)[P]/2\n",
    "            \n",
    "            P_opposite=my_round(PROJECTIONS*((HALF_VIEW_ANGLE-beta)/VIEW_ANGLE),PROJECTIONS)\n",
    "            V_opposite=my_round(HALF_ANGLES*((alpha+SEMI_CIRCLE)/SEMI_CIRCLE),ANGLES)\n",
    "            val_opposite=np.mean(np.array(strips[START_PERIOD*ANGLES+V_opposite]),axis=0)[P_opposite]/2\n",
    "            \n",
    "            pixels[angle_pixel, my_round(PROJECTIONS-proj_pixel,PROJECTIONS)]=int(val+val_opposite)\n",
    "        \n",
    "            \n",
    "    plot_sinogram(sinogram, \"sinogram_trigonometry_reverse\",180)\n",
    "    return sinogram"
   ]
  },
  {
   "cell_type": "code",
   "execution_count": null,
   "id": "94b5a111",
   "metadata": {},
   "outputs": [],
   "source": [
    "def set_pixel(inp):\n",
    "    (strips, pixels, angle_pixel, proj_pixel)=inp\n",
    "    \n",
    "    theta=SEMI_CIRCLE*angle_pixel/HALF_ANGLES\n",
    "    s=-MAX_DISPLACEMENT+(proj_pixel/PROJECTIONS)*2*MAX_DISPLACEMENT\n",
    "    \n",
    "    beta=math.asin(s/SMALL_R)\n",
    "    alpha=theta-beta\n",
    "\n",
    "    P=my_round(PROJECTIONS*((HALF_VIEW_ANGLE+beta)/VIEW_ANGLE),PROJECTIONS)\n",
    "    V=my_round(HALF_ANGLES*(alpha/SEMI_CIRCLE),HALF_ANGLES)\n",
    "    val=np.mean(np.array(strips[START_PERIOD*ANGLES+V]),axis=0)[P]/2\n",
    "\n",
    "    P_opposite=my_round(PROJECTIONS*((HALF_VIEW_ANGLE-beta)/VIEW_ANGLE),PROJECTIONS)\n",
    "    V_opposite=my_round(HALF_ANGLES*((alpha+SEMI_CIRCLE)/SEMI_CIRCLE),ANGLES)\n",
    "    val_opposite=np.mean(np.array(strips[START_PERIOD*ANGLES+V_opposite]),axis=0)[P_opposite]/2\n",
    "    \n",
    "    pixels[angle_pixel, my_round(PROJECTIONS-proj_pixel,PROJECTIONS)]=int(val+val_opposite)\n",
    "    \n",
    "\n",
    "def create_sinogram_parallel(strips, parallel_jobs=mp.cpu_count()): #VEEEEEERY SLOW, I DON'T HAVE A CLUE WHY\n",
    "    pixels=np.zeros((HALF_ANGLES,PROJECTIONS))\n",
    "    \n",
    "    with mp.Manager() as manager:\n",
    "        shared_pixels = manager.list(pixels)\n",
    "        pool = mp.Pool(parallel_jobs)\n",
    "        pixel_cnt=HALF_ANGLES*PROJECTIONS\n",
    "        idxs=list(itertools.product(list(range(HALF_ANGLES)),list(range(PROJECTIONS))))\n",
    "        angle_idxs=[x for (x,y) in idxs]\n",
    "        proj_idxs=[y for (x,y) in idxs]\n",
    "        pool.map(set_pixel, zip([strips]*pixel_cnt,[shared_pixels]*pixel_cnt,angle_idxs,proj_idxs))\n",
    "        pixels=np.array(list(shared_pixels))\n",
    "    \n",
    "    sinogram=Image.fromarray(pixels, mode='L')\n",
    "    plot_sinogram(sinogram, \"sinogram_trigonometry_reverse\",180)\n",
    "    return sinogram"
   ]
  },
  {
   "cell_type": "code",
   "execution_count": null,
   "id": "a53c2416",
   "metadata": {},
   "outputs": [],
   "source": [
    "def create_sinogram_trigonometry_reverse_vectorized(views): #DOESN'T WORK YET\n",
    "    pixels=np.zeros((HALF_ANGLES,PROJECTIONS))\n",
    "    \n",
    "    angle_pixels=np.array(list(range(HALF_ANGLES)))\n",
    "    proj_pixels=np.array(list(range(PROJECTIONS)))\n",
    "    theta=angle_pixels*SEMI_CIRCLE/HALF_ANGLES\n",
    "    s=(proj_pixels/PROJECTIONS)*2*MAX_DISPLACEMENT-MAX_DISPLACEMENT\n",
    "    beta=np.arcsin(s/SMALL_R)\n",
    "    P=my_round_vec(PROJECTIONS*((HALF_VIEW_ANGLE+beta)/VIEW_ANGLE),PROJECTIONS)\n",
    "    \n",
    "    idxs=list(itertools.product(list(range(HALF_ANGLES)),list(range(PROJECTIONS))))\n",
    "    angle_idxs=np.array([x for (x,y) in idxs])\n",
    "    proj_idxs=np.array([y for (x,y) in idxs])\n",
    "    alpha=theta[angle_idxs]-beta[proj_idxs]      \n",
    "    V=my_round_vec(HALF_ANGLES*(alpha/SEMI_CIRCLE),HALF_ANGLES)\n",
    "    val=np.mean(views[V+START_PERIOD*ANGLES],axis=1)[P]\n",
    "\n",
    "    pixels[angle_idxs, my_round_vec(PROJECTIONS-proj_idxs,PROJECTIONS)]=val.astype(np.uint8)\n",
    "        \n",
    "    sinogram=Image.fromarray(pixels,mode='L')       \n",
    "    plot_sinogram(sinogram, \"sinogram_trigonometry_reverse\",180)\n",
    "    return sinogram"
   ]
  },
  {
   "cell_type": "markdown",
   "id": "70410774",
   "metadata": {},
   "source": [
    "#### Official one"
   ]
  },
  {
   "cell_type": "code",
   "execution_count": 19,
   "id": "a96b194e",
   "metadata": {},
   "outputs": [],
   "source": [
    "def create_sinogram(views, start_period=START_PERIOD, method=np.mean):\n",
    "    print(f\"View with start_period={start_period} has started\")\n",
    "    \"\"\"\n",
    "    Keyword arguments:\n",
    "    start_period -- from which ANGLES period to start taking the views\n",
    "    method -- what to do with the length 16 axis. So far, ideas are: np.mean, lambda x:x[0], lambda x:x[k]\n",
    "    \n",
    "    Returns:\n",
    "    a sinogram as a PIL image\n",
    "    \"\"\"\n",
    "    sinogram=Image.new('L',(HALF_ANGLES,PROJECTIONS),color=0)\n",
    "    pixels=sinogram.load()\n",
    "    \n",
    "    for angle_pixel in range(HALF_ANGLES):\n",
    "        if(angle_pixel==50):\n",
    "            print(f\"View with start_period={start_period} is on its way.\")\n",
    "        theta=SEMI_CIRCLE*angle_pixel/HALF_ANGLES\n",
    "        for proj_pixel in range(PROJECTIONS):\n",
    "            s=-MAX_DISPLACEMENT+(proj_pixel/PROJECTIONS)*2*MAX_DISPLACEMENT\n",
    "            beta=math.asin(s/SMALL_R)\n",
    "            alpha=theta-beta\n",
    "            alpha_opposite = alpha+(SEMI_CIRCLE+2*beta)\n",
    "            \n",
    "            P=math.floor(PROJECTIONS*((HALF_VIEW_ANGLE+beta)/VIEW_ANGLE))\n",
    "            V=math.floor(HALF_ANGLES*(alpha/SEMI_CIRCLE))\n",
    "            val=method(views[start_period*ANGLES+V],axis=0)[P]/2\n",
    "            \n",
    "            P_opposite=math.floor(PROJECTIONS*((HALF_VIEW_ANGLE-beta)/VIEW_ANGLE)-1)\n",
    "            V_opposite=math.floor(HALF_ANGLES*(alpha_opposite/SEMI_CIRCLE))  \n",
    "            val_opposite=method(views[start_period*ANGLES+V_opposite],axis=0)[P_opposite]/2\n",
    "            \n",
    "            pixels[angle_pixel, proj_pixel]=int(val+val_opposite) #OR: PROJECTIONS-proj_pixel-1, to flip\n",
    "        \n",
    "    print(f\"View with start_period={start_period} has finished\")\n",
    "    plot_sinogram(sinogram, \"sinogram\")\n",
    "    return sinogram"
   ]
  },
  {
   "cell_type": "markdown",
   "id": "5d346a95",
   "metadata": {},
   "source": [
    "## Creating sinograms from views"
   ]
  },
  {
   "cell_type": "code",
   "execution_count": null,
   "id": "e86ae962",
   "metadata": {
    "scrolled": true
   },
   "outputs": [],
   "source": [
    "%%time\n",
    "sinograms=dict()\n",
    "for dose, views in strips.items():\n",
    "    sinograms[dose]=create_sinogram(views)"
   ]
  },
  {
   "cell_type": "code",
   "execution_count": 27,
   "id": "c2ef24d7",
   "metadata": {},
   "outputs": [],
   "source": [
    "def helper(k):\n",
    "    def choose_kth_row(view):\n",
    "        return view[k]\n",
    "    return choose_kth_row\n",
    "\n",
    "def create_all_sinograms(views, parallel_jobs=mp.cpu_count()):\n",
    "    start_periods=list(range(math.floor((views.shape[0])/ANGLES)))\n",
    "    methods=[helper(k) for k in range(THICKNESS)]\n",
    "    all_comb=list(itertools.product(start_periods, methods))\n",
    "    start_periods=[x for (x,_) in all_comb]\n",
    "    methods=[y for (_,y) in all_comb]\n",
    "    print(f\"Preparation done.\")\n",
    "    with mp.Pool(parallel_jobs) as pool:\n",
    "        print(f\"Multiprocessing starts.\")\n",
    "        slices=pool.starmap(functools.partial(create_sinogram, views),zip(start_periods, methods))\n",
    "    return slices"
   ]
  },
  {
   "cell_type": "code",
   "execution_count": null,
   "id": "c32f9140",
   "metadata": {},
   "outputs": [
    {
     "name": "stdout",
     "output_type": "stream",
     "text": [
      "Preparation done.\n",
      "Multiprocessing starts.\n"
     ]
    }
   ],
   "source": [
    "%%time\n",
    "all_sinograms=dict()\n",
    "for dose, views in strips.items():\n",
    "    all_sinograms[dose]=create_all_sinograms(views)"
   ]
  },
  {
   "cell_type": "markdown",
   "id": "40279099",
   "metadata": {},
   "source": [
    "## Image restoration / interpolation"
   ]
  },
  {
   "cell_type": "code",
   "execution_count": null,
   "id": "3ed7a951",
   "metadata": {},
   "outputs": [],
   "source": [
    "def remove_horizontal_lines(sinogram): #Might be needed if using trigonometry and rounding\n",
    "    gray = np.array(sinogram)\n",
    "    thresh = cv2.threshold(gray, 0, 255, cv2.THRESH_BINARY_INV + cv2.THRESH_OTSU)[1]\n",
    "\n",
    "    horizontal_kernel = cv2.getStructuringElement(cv2.MORPH_RECT, (25, 1))\n",
    "    detected_lines = cv2.morphologyEx(thresh, cv2.MORPH_OPEN,\n",
    "    horizontal_kernel, iterations=2)\n",
    "\n",
    "    cnts = cv2.findContours(detected_lines, cv2.RETR_EXTERNAL, cv2.CHAIN_APPROX_SIMPLE)\n",
    "    cnts = cnts[0] if len(cnts) == 2 else cnts[1]\n",
    "\n",
    "    for c in cnts:\n",
    "        cv2.drawContours(gray, [c], -1, 255, 2)\n",
    "\n",
    "    repair_kernel = cv2.getStructuringElement(cv2.MORPH_RECT, (1, 6))\n",
    "\n",
    "    result = 255 - cv2.morphologyEx(255 - gray, cv2.MORPH_CLOSE, repair_kernel,\n",
    "    iterations=1)\n",
    "\n",
    "    plt.imshow(result, cmap = 'gray')#, interpolation = 'bicubic')\n",
    "    return result"
   ]
  },
  {
   "cell_type": "code",
   "execution_count": null,
   "id": "01ffbb33",
   "metadata": {},
   "outputs": [],
   "source": [
    "def remove_horizontal_lines2(sinogram):\n",
    "    gray = np.array(sinogram)\n",
    "    thresh = cv2.threshold(gray, 0, 255, cv2.THRESH_BINARY_INV + cv2.THRESH_OTSU)[1]\n",
    "\n",
    "    # Remove horizontal\n",
    "    horizontal_kernel = cv2.getStructuringElement(cv2.MORPH_RECT, (100,1))\n",
    "    detected_lines = cv2.morphologyEx(thresh, cv2.MORPH_OPEN, horizontal_kernel, iterations=2)\n",
    "    #print(detected_lines)\n",
    "    cnts = cv2.findContours(detected_lines, cv2.RETR_EXTERNAL, cv2.CHAIN_APPROX_SIMPLE)\n",
    "    cnts = cnts[0] if len(cnts) == 2 else cnts[1]\n",
    "    for c in cnts:\n",
    "        cv2.drawContours(gray, [c], -1, 255, 2)\n",
    "\n",
    "    # Repair image\n",
    "    repair_kernel = cv2.getStructuringElement(cv2.MORPH_RECT, (1,6))\n",
    "    result = 255 - cv2.morphologyEx(255 - gray, cv2.MORPH_CLOSE, repair_kernel, iterations=1)\n",
    "\n",
    "    plt.imshow(result, cmap = 'gray')\n",
    "    plt.imshow(detected_lines, cmap='gray')\n",
    "    return result"
   ]
  },
  {
   "cell_type": "code",
   "execution_count": null,
   "id": "1144db3c",
   "metadata": {},
   "outputs": [],
   "source": [
    "def remove_horizontal_lines3(sinogram):\n",
    "    gray = np.array(sinogram)\n",
    "    edges = cv2.Canny(gray,50,150,apertureSize = 3)\n",
    "    lines = cv2.HoughLinesP(image=edges,rho=1,theta=np.pi/180, threshold=100,lines=np.array([]), minLineLength=100,maxLineGap=80)\n",
    "    a,b,c = lines.shape\n",
    "    for i in range(a):\n",
    "        #TODO: instead should smooth/interpolate these lines, not draw them in black, but I don't know how to do it.\n",
    "        cv2.line(gray, (lines[i][0][0], lines[i][0][1]), (lines[i][0][2], lines[i][0][3]), (0, 0, 255), 3, cv2.LINE_AA)\n",
    "    plt.imshow(gray, cmap='gray')"
   ]
  },
  {
   "cell_type": "code",
   "execution_count": null,
   "id": "a8b1b2ad",
   "metadata": {},
   "outputs": [],
   "source": [
    "remove_horizontal_lines3(sinogram)"
   ]
  },
  {
   "cell_type": "code",
   "execution_count": null,
   "id": "4ee6ac16",
   "metadata": {},
   "outputs": [],
   "source": [
    "remove_horizontal_lines3(sinogram)"
   ]
  },
  {
   "cell_type": "code",
   "execution_count": null,
   "id": "aa09ee51",
   "metadata": {},
   "outputs": [],
   "source": [
    "sinogram.resize((45, 56), Image.BICUBIC)"
   ]
  },
  {
   "cell_type": "code",
   "execution_count": null,
   "id": "ce07883e",
   "metadata": {},
   "outputs": [],
   "source": [
    "sinogram.filter(ImageFilter.GaussianBlur(1))"
   ]
  },
  {
   "cell_type": "code",
   "execution_count": null,
   "id": "c7b58d86",
   "metadata": {},
   "outputs": [],
   "source": [
    "sinogram.filter(ImageFilter.SMOOTH_MORE)"
   ]
  },
  {
   "cell_type": "markdown",
   "id": "ed2e9a4f",
   "metadata": {},
   "source": [
    "## Save nice results"
   ]
  },
  {
   "cell_type": "code",
   "execution_count": null,
   "id": "d7a55503",
   "metadata": {},
   "outputs": [],
   "source": [
    "for dose, sinogram in sinograms.items():\n",
    "    sinogram.save(f\"/mnt/idms/PROJECTS/Lung/sinogram_Domi/spr_dose{dose}/best_sinogram.jpg\")"
   ]
  },
  {
   "cell_type": "markdown",
   "id": "953d14e5",
   "metadata": {},
   "source": [
    "## Inverse Radon"
   ]
  },
  {
   "cell_type": "code",
   "execution_count": null,
   "id": "e45a6315",
   "metadata": {},
   "outputs": [],
   "source": [
    "fig, axs = plt.subplots(1, len(sinograms), figsize=(15.0, 10.0))\n",
    "fig.suptitle('Reconstructed CTs with different doses', size=\"xx-large\", va=\"center\")\n",
    "theta = np.linspace(0, 180, 1440, endpoint=False)\n",
    "\n",
    "for idx, (dose, sinogram) in enumerate(sinograms.items()):\n",
    "    reconstruction_fbp = iradon(np.array(sinogram),theta=theta,circle=True)\n",
    "    axs[idx].set_title(f\"{dose} mAs\")#, size=\"small\")\n",
    "    axs[idx].imshow(reconstruction_fbp, cmap=plt.cm.Greys_r)\n",
    "plt.show()"
   ]
  },
  {
   "cell_type": "markdown",
   "id": "e98f652e",
   "metadata": {},
   "source": [
    "## Further experiment"
   ]
  },
  {
   "cell_type": "markdown",
   "id": "aae000a8",
   "metadata": {},
   "source": [
    "### Adding shift"
   ]
  },
  {
   "cell_type": "code",
   "execution_count": null,
   "id": "17aeafea",
   "metadata": {},
   "outputs": [],
   "source": [
    "for i in np.asarray(np.linspace(0,2880,10)).astype(int):\n",
    "    sinogram = create_sinogram_stupid_360(strips,shift=i)\n",
    "    theta = np.linspace(0, 360, 2880, endpoint=False)\n",
    "    reconstruction_fbp = iradon(np.array(sinogram),theta=theta, output_size=512)#, circle=True)\n",
    "    \n",
    "    plt.figure()\n",
    "    plt.title(\"Reconstruction\\nFiltered back projection\")\n",
    "    plt.imshow(reconstruction_fbp, cmap=plt.cm.Greys_r)\n",
    "    plt.show()"
   ]
  },
  {
   "cell_type": "code",
   "execution_count": null,
   "id": "a1c0ff5f",
   "metadata": {},
   "outputs": [],
   "source": [
    "for s in np.linspace(0,MAX_DISPLACEMENT,HALF_PROJECTIONS):\n",
    "    for theta in np.linspace(0,HALF_VIEW_ANGLE,HALF_ANGLES):\n",
    "        alpha=theta-math.asin(s/SMALL_R)\n",
    "        print(alpha)"
   ]
  },
  {
   "cell_type": "code",
   "execution_count": null,
   "id": "ee277748",
   "metadata": {},
   "outputs": [],
   "source": []
  }
 ],
 "metadata": {
  "kernelspec": {
   "display_name": "Python 3",
   "language": "python",
   "name": "python3"
  },
  "language_info": {
   "codemirror_mode": {
    "name": "ipython",
    "version": 3
   },
   "file_extension": ".py",
   "mimetype": "text/x-python",
   "name": "python",
   "nbconvert_exporter": "python",
   "pygments_lexer": "ipython3",
   "version": "3.9.6"
  }
 },
 "nbformat": 4,
 "nbformat_minor": 5
}
