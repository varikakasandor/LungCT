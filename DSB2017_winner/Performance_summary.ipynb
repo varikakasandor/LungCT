{
 "cells": [
  {
   "cell_type": "code",
   "execution_count": 1,
   "id": "8cd4c9da",
   "metadata": {},
   "outputs": [],
   "source": [
    "import os\n",
    "import glob\n",
    "import re\n",
    "import shutil\n",
    "import matplotlib.pyplot as plt\n",
    "import pydicom\n",
    "import numpy as np\n",
    "import pandas as pd\n",
    "from PIL import Image\n",
    "\n",
    "from sklearn.metrics import roc_curve\n",
    "from sklearn.metrics import roc_auc_score\n",
    "from matplotlib import pyplot"
   ]
  },
  {
   "cell_type": "code",
   "execution_count": 11,
   "id": "02e9a46e",
   "metadata": {},
   "outputs": [],
   "source": [
    "DEFAULT_THRESHOLD=0.5"
   ]
  },
  {
   "cell_type": "code",
   "execution_count": 12,
   "id": "13ab33e1",
   "metadata": {},
   "outputs": [
    {
     "name": "stderr",
     "output_type": "stream",
     "text": [
      "/home/andor/anaconda3/envs/CT4/lib/python3.6/site-packages/ipykernel_launcher.py:7: SettingWithCopyWarning: \n",
      "A value is trying to be set on a copy of a slice from a DataFrame.\n",
      "Try using .loc[row_indexer,col_indexer] = value instead\n",
      "\n",
      "See the caveats in the documentation: https://pandas.pydata.org/pandas-docs/stable/user_guide/indexing.html#returning-a-view-versus-a-copy\n",
      "  import sys\n"
     ]
    },
    {
     "data": {
      "text/html": [
       "<div>\n",
       "<style scoped>\n",
       "    .dataframe tbody tr th:only-of-type {\n",
       "        vertical-align: middle;\n",
       "    }\n",
       "\n",
       "    .dataframe tbody tr th {\n",
       "        vertical-align: top;\n",
       "    }\n",
       "\n",
       "    .dataframe thead th {\n",
       "        text-align: right;\n",
       "    }\n",
       "</style>\n",
       "<table border=\"1\" class=\"dataframe\">\n",
       "  <thead>\n",
       "    <tr style=\"text-align: right;\">\n",
       "      <th></th>\n",
       "      <th>pid</th>\n",
       "      <th>pred</th>\n",
       "      <th>lab</th>\n",
       "      <th>pred_bool</th>\n",
       "    </tr>\n",
       "  </thead>\n",
       "  <tbody>\n",
       "    <tr>\n",
       "      <th>0</th>\n",
       "      <td>LIDC-IDRI-0447</td>\n",
       "      <td>0.493740</td>\n",
       "      <td>1</td>\n",
       "      <td>0</td>\n",
       "    </tr>\n",
       "    <tr>\n",
       "      <th>1</th>\n",
       "      <td>LIDC-IDRI-0831</td>\n",
       "      <td>0.094139</td>\n",
       "      <td>0</td>\n",
       "      <td>0</td>\n",
       "    </tr>\n",
       "    <tr>\n",
       "      <th>2</th>\n",
       "      <td>LIDC-IDRI-0564</td>\n",
       "      <td>0.009712</td>\n",
       "      <td>0</td>\n",
       "      <td>0</td>\n",
       "    </tr>\n",
       "    <tr>\n",
       "      <th>3</th>\n",
       "      <td>LIDC-IDRI-0723</td>\n",
       "      <td>0.050270</td>\n",
       "      <td>1</td>\n",
       "      <td>0</td>\n",
       "    </tr>\n",
       "    <tr>\n",
       "      <th>4</th>\n",
       "      <td>LIDC-IDRI-0632</td>\n",
       "      <td>0.017658</td>\n",
       "      <td>0</td>\n",
       "      <td>0</td>\n",
       "    </tr>\n",
       "    <tr>\n",
       "      <th>5</th>\n",
       "      <td>LIDC-IDRI-0135</td>\n",
       "      <td>0.228096</td>\n",
       "      <td>1</td>\n",
       "      <td>0</td>\n",
       "    </tr>\n",
       "    <tr>\n",
       "      <th>6</th>\n",
       "      <td>LIDC-IDRI-0415</td>\n",
       "      <td>0.690610</td>\n",
       "      <td>1</td>\n",
       "      <td>1</td>\n",
       "    </tr>\n",
       "    <tr>\n",
       "      <th>7</th>\n",
       "      <td>LIDC-IDRI-0403</td>\n",
       "      <td>0.068024</td>\n",
       "      <td>0</td>\n",
       "      <td>0</td>\n",
       "    </tr>\n",
       "    <tr>\n",
       "      <th>8</th>\n",
       "      <td>LIDC-IDRI-0601</td>\n",
       "      <td>0.399131</td>\n",
       "      <td>1</td>\n",
       "      <td>0</td>\n",
       "    </tr>\n",
       "    <tr>\n",
       "      <th>9</th>\n",
       "      <td>LIDC-IDRI-0229</td>\n",
       "      <td>0.975891</td>\n",
       "      <td>1</td>\n",
       "      <td>1</td>\n",
       "    </tr>\n",
       "    <tr>\n",
       "      <th>10</th>\n",
       "      <td>LIDC-IDRI-0577</td>\n",
       "      <td>0.409251</td>\n",
       "      <td>1</td>\n",
       "      <td>0</td>\n",
       "    </tr>\n",
       "    <tr>\n",
       "      <th>11</th>\n",
       "      <td>LIDC-IDRI-0022</td>\n",
       "      <td>0.924066</td>\n",
       "      <td>0</td>\n",
       "      <td>1</td>\n",
       "    </tr>\n",
       "    <tr>\n",
       "      <th>12</th>\n",
       "      <td>LIDC-IDRI-0055</td>\n",
       "      <td>0.951264</td>\n",
       "      <td>1</td>\n",
       "      <td>1</td>\n",
       "    </tr>\n",
       "    <tr>\n",
       "      <th>13</th>\n",
       "      <td>LIDC-IDRI-0141</td>\n",
       "      <td>0.713689</td>\n",
       "      <td>1</td>\n",
       "      <td>1</td>\n",
       "    </tr>\n",
       "    <tr>\n",
       "      <th>14</th>\n",
       "      <td>LIDC-IDRI-0190</td>\n",
       "      <td>0.399040</td>\n",
       "      <td>1</td>\n",
       "      <td>0</td>\n",
       "    </tr>\n",
       "    <tr>\n",
       "      <th>15</th>\n",
       "      <td>LIDC-IDRI-0436</td>\n",
       "      <td>0.974801</td>\n",
       "      <td>1</td>\n",
       "      <td>1</td>\n",
       "    </tr>\n",
       "    <tr>\n",
       "      <th>16</th>\n",
       "      <td>LIDC-IDRI-0234</td>\n",
       "      <td>0.085058</td>\n",
       "      <td>1</td>\n",
       "      <td>0</td>\n",
       "    </tr>\n",
       "    <tr>\n",
       "      <th>17</th>\n",
       "      <td>LIDC-IDRI-0690</td>\n",
       "      <td>0.023571</td>\n",
       "      <td>0</td>\n",
       "      <td>0</td>\n",
       "    </tr>\n",
       "    <tr>\n",
       "      <th>18</th>\n",
       "      <td>LIDC-IDRI-0528</td>\n",
       "      <td>0.080681</td>\n",
       "      <td>0</td>\n",
       "      <td>0</td>\n",
       "    </tr>\n",
       "    <tr>\n",
       "      <th>19</th>\n",
       "      <td>LIDC-IDRI-0251</td>\n",
       "      <td>0.131988</td>\n",
       "      <td>1</td>\n",
       "      <td>0</td>\n",
       "    </tr>\n",
       "  </tbody>\n",
       "</table>\n",
       "</div>"
      ],
      "text/plain": [
       "               pid      pred  lab  pred_bool\n",
       "0   LIDC-IDRI-0447  0.493740    1          0\n",
       "1   LIDC-IDRI-0831  0.094139    0          0\n",
       "2   LIDC-IDRI-0564  0.009712    0          0\n",
       "3   LIDC-IDRI-0723  0.050270    1          0\n",
       "4   LIDC-IDRI-0632  0.017658    0          0\n",
       "5   LIDC-IDRI-0135  0.228096    1          0\n",
       "6   LIDC-IDRI-0415  0.690610    1          1\n",
       "7   LIDC-IDRI-0403  0.068024    0          0\n",
       "8   LIDC-IDRI-0601  0.399131    1          0\n",
       "9   LIDC-IDRI-0229  0.975891    1          1\n",
       "10  LIDC-IDRI-0577  0.409251    1          0\n",
       "11  LIDC-IDRI-0022  0.924066    0          1\n",
       "12  LIDC-IDRI-0055  0.951264    1          1\n",
       "13  LIDC-IDRI-0141  0.713689    1          1\n",
       "14  LIDC-IDRI-0190  0.399040    1          0\n",
       "15  LIDC-IDRI-0436  0.974801    1          1\n",
       "16  LIDC-IDRI-0234  0.085058    1          0\n",
       "17  LIDC-IDRI-0690  0.023571    0          0\n",
       "18  LIDC-IDRI-0528  0.080681    0          0\n",
       "19  LIDC-IDRI-0251  0.131988    1          0"
      ]
     },
     "execution_count": 12,
     "metadata": {},
     "output_type": "execute_result"
    }
   ],
   "source": [
    "pred=pd.read_csv(\"/mnt/idms/PROJECTS/Lung/LungCT/DSB2017/prediction.csv\")\n",
    "pred.rename(columns={'id': 'pid'}, inplace=True)\n",
    "lab=pd.read_csv(\"/mnt/idms/PROJECTS/Lung/LungCT/DSB2017/LIDC-IDRI_statistics.csv\")\n",
    "merged=pred.merge(lab,on=\"pid\")\n",
    "merged.rename(columns={'cancer_x': 'pred', 'cancer_y': 'lab'}, inplace=True)\n",
    "summary=merged[['pid','pred','lab']]\n",
    "summary['pred_bool']=np.where(summary['pred']>DEFAULT_THRESHOLD,1,0)\n",
    "summary.head(20)"
   ]
  },
  {
   "cell_type": "code",
   "execution_count": 13,
   "id": "019c965e",
   "metadata": {},
   "outputs": [
    {
     "name": "stdout",
     "output_type": "stream",
     "text": [
      "There are 644 correct predictions out of 1005 CTs, giving 64.07960199004975% accuracy.\n"
     ]
    }
   ],
   "source": [
    "correct=np.sum(summary['lab']==summary['pred_bool'])\n",
    "case_cnt=len(summary)\n",
    "print(f\"There are {correct} correct predictions out of {case_cnt} CTs, giving {correct*100/case_cnt}% accuracy.\")"
   ]
  },
  {
   "cell_type": "markdown",
   "id": "500eda97",
   "metadata": {},
   "source": [
    "### ROC-AUC"
   ]
  },
  {
   "cell_type": "code",
   "execution_count": 14,
   "id": "a76b5abb",
   "metadata": {},
   "outputs": [
    {
     "name": "stdout",
     "output_type": "stream",
     "text": [
      "The AUC is 0.8180306761754254.\n"
     ]
    },
    {
     "data": {
      "image/png": "[encoded data removed]",
      "text/plain": [
       "<Figure size 432x288 with 1 Axes>"
      ]
     },
     "metadata": {
      "needs_background": "light"
     },
     "output_type": "display_data"
    }
   ],
   "source": [
    "auc = roc_auc_score(summary['lab'], summary['pred'])\n",
    "fpr, tpr, _ = roc_curve(summary['lab'], summary['pred'])\n",
    "print(f\"The AUC is {auc}.\")\n",
    "pyplot.plot(fpr, tpr, marker='.', label='Lung Cancer')\n",
    "pyplot.xlabel('False Positive Rate')\n",
    "pyplot.ylabel('True Positive Rate')\n",
    "pyplot.legend()\n",
    "pyplot.show()"
   ]
  },
  {
   "cell_type": "markdown",
   "id": "4ec361dc",
   "metadata": {},
   "source": [
    "### Find best threshold"
   ]
  },
  {
   "cell_type": "code",
   "execution_count": 18,
   "id": "7a8d33fd",
   "metadata": {},
   "outputs": [
    {
     "name": "stdout",
     "output_type": "stream",
     "text": [
      "With threshold=0.0,there are 559/1005 correct predictions, giving 55.62189054726368% accuracy.\n",
      "With threshold=0.034482758620689655,there are 671/1005 correct predictions, giving 66.76616915422886% accuracy.\n",
      "With threshold=0.06896551724137931,there are 730/1005 correct predictions, giving 72.636815920398% accuracy.\n",
      "With threshold=0.10344827586206896,there are 759/1005 correct predictions, giving 75.5223880597015% accuracy.\n",
      "With threshold=0.13793103448275862,there are 745/1005 correct predictions, giving 74.12935323383084% accuracy.\n",
      "With threshold=0.1724137931034483,there are 724/1005 correct predictions, giving 72.03980099502488% accuracy.\n",
      "With threshold=0.20689655172413793,there are 713/1005 correct predictions, giving 70.94527363184079% accuracy.\n",
      "With threshold=0.24137931034482757,there are 704/1005 correct predictions, giving 70.04975124378109% accuracy.\n",
      "With threshold=0.27586206896551724,there are 692/1005 correct predictions, giving 68.85572139303483% accuracy.\n",
      "With threshold=0.3103448275862069,there are 688/1005 correct predictions, giving 68.45771144278606% accuracy.\n",
      "With threshold=0.3448275862068966,there are 683/1005 correct predictions, giving 67.96019900497512% accuracy.\n",
      "With threshold=0.3793103448275862,there are 673/1005 correct predictions, giving 66.96517412935323% accuracy.\n",
      "With threshold=0.41379310344827586,there are 661/1005 correct predictions, giving 65.77114427860697% accuracy.\n",
      "With threshold=0.4482758620689655,there are 656/1005 correct predictions, giving 65.27363184079601% accuracy.\n",
      "With threshold=0.48275862068965514,there are 649/1005 correct predictions, giving 64.57711442786069% accuracy.\n",
      "With threshold=0.5172413793103449,there are 640/1005 correct predictions, giving 63.681592039801% accuracy.\n",
      "With threshold=0.5517241379310345,there are 634/1005 correct predictions, giving 63.08457711442786% accuracy.\n",
      "With threshold=0.5862068965517241,there are 628/1005 correct predictions, giving 62.48756218905473% accuracy.\n",
      "With threshold=0.6206896551724138,there are 618/1005 correct predictions, giving 61.492537313432834% accuracy.\n",
      "With threshold=0.6551724137931034,there are 610/1005 correct predictions, giving 60.69651741293532% accuracy.\n",
      "With threshold=0.6896551724137931,there are 598/1005 correct predictions, giving 59.50248756218905% accuracy.\n",
      "With threshold=0.7241379310344828,there are 582/1005 correct predictions, giving 57.91044776119403% accuracy.\n",
      "With threshold=0.7586206896551724,there are 572/1005 correct predictions, giving 56.91542288557214% accuracy.\n",
      "With threshold=0.7931034482758621,there are 554/1005 correct predictions, giving 55.124378109452735% accuracy.\n",
      "With threshold=0.8275862068965517,there are 536/1005 correct predictions, giving 53.333333333333336% accuracy.\n",
      "With threshold=0.8620689655172413,there are 519/1005 correct predictions, giving 51.64179104477612% accuracy.\n",
      "With threshold=0.896551724137931,there are 499/1005 correct predictions, giving 49.65174129353234% accuracy.\n",
      "With threshold=0.9310344827586207,there are 476/1005 correct predictions, giving 47.36318407960199% accuracy.\n",
      "With threshold=0.9655172413793103,there are 460/1005 correct predictions, giving 45.77114427860697% accuracy.\n",
      "With threshold=1.0,there are 446/1005 correct predictions, giving 44.37810945273632% accuracy.\n"
     ]
    }
   ],
   "source": [
    "best_threshold=0\n",
    "best_accuracy=0\n",
    "for threshold in np.linspace(0,1,30):\n",
    "    pred_bool=np.where(summary['pred']>threshold,1,0)\n",
    "    correct=np.sum(summary['lab']==pred_bool)\n",
    "    accuracy=correct*100/case_cnt\n",
    "    if accuracy>best_accuracy:\n",
    "        best_accuracy=accuracy\n",
    "        best_threshold=threshold\n",
    "    print(f\"With threshold={threshold},there are {correct}/{case_cnt} correct predictions, giving {accuracy}% accuracy.\")"
   ]
  },
  {
   "cell_type": "code",
   "execution_count": 19,
   "id": "c981eb39",
   "metadata": {},
   "outputs": [
    {
     "name": "stdout",
     "output_type": "stream",
     "text": [
      "The best threshold is 0.10344827586206896, giving 75.5223880597015% accuracy\n"
     ]
    }
   ],
   "source": [
    "print(f\"The best threshold is {best_threshold}, giving {best_accuracy}% accuracy\")"
   ]
  },
  {
   "cell_type": "code",
   "execution_count": null,
   "id": "6d635ea6",
   "metadata": {},
   "outputs": [],
   "source": []
  }
 ],
 "metadata": {
  "kernelspec": {
   "display_name": "Python 3",
   "language": "python",
   "name": "python3"
  },
  "language_info": {
   "codemirror_mode": {
    "name": "ipython",
    "version": 3
   },
   "file_extension": ".py",
   "mimetype": "text/x-python",
   "name": "python",
   "nbconvert_exporter": "python",
   "pygments_lexer": "ipython3",
   "version": "3.6.13"
  }
 },
 "nbformat": 4,
 "nbformat_minor": 5
}
