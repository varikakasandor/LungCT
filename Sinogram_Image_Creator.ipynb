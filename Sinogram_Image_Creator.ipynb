{
 "cells": [
  {
   "cell_type": "code",
   "execution_count": 9,
   "id": "17a832bf",
   "metadata": {},
   "outputs": [],
   "source": [
    "import math\n",
    "import pandas as pd\n",
    "import numpy as np\n",
    "import itertools\n",
    "import matplotlib.pyplot as plt\n",
    "from PIL import Image, ImageEnhance, ImageFilter\n",
    "import cv2\n",
    "\n",
    "from skimage.io import imread\n",
    "from skimage.data import shepp_logan_phantom\n",
    "from skimage.transform import iradon, iradon_sart, radon, rescale\n",
    "\n",
    "import pickle\n",
    "import os\n",
    "import multiprocessing as mp\n",
    "import glob\n",
    "\n",
    "import time"
   ]
  },
  {
   "cell_type": "markdown",
   "id": "6238be58",
   "metadata": {},
   "source": [
    "### Multi-threaded reading of view measurements from csv"
   ]
  },
  {
   "cell_type": "code",
   "execution_count": 12,
   "id": "91edf690",
   "metadata": {},
   "outputs": [],
   "source": [
    "count_errors = itertools.count() #I am not perfectly sure if this is atomic.\n",
    "#Atomic stuff seems to be a surprising downside of Python\n",
    "# - at least I couldn't find trivial packages for this purpose.\n",
    "\n",
    "def set_strip(inp):\n",
    "    (csv_path, idx, shared_list, do_exp)=inp\n",
    "    try:\n",
    "        arr=np.genfromtxt(csv_path,delimiter=',')\n",
    "        if do_exp:\n",
    "            arr=np.exp(arr)\n",
    "            arr=np.clip(arr,0,255)\n",
    "            arr=np.uint8(arr)\n",
    "        else:\n",
    "            arr=(arr-np.min(arr))/(np.max(arr)-np.min(arr))*255\n",
    "        im=Image.fromarray(arr)\n",
    "        shared_list[idx]=im\n",
    "    except:\n",
    "        value = next(count_errors)\n",
    "        print(f\"ERROR number {value} in file {csv_path}\")\n",
    "\n",
    "def get_strips(dose, do_exp=False, max_cnt=None, parallel_jobs=mp.cpu_count()):\n",
    "    views_location=f\"/mnt/idms/PROJECTS/Lung/sinogram_Domi/spr_dose{dose}/out\"\n",
    "    cnt=0\n",
    "    csv_paths=sorted(glob.glob(f\"{views_location}/*.csv\"),key=lambda x:int(x[59:-4]))\n",
    "    if not max_cnt:\n",
    "        max_cnt=len(csv_paths)\n",
    "\n",
    "    start = time.time()\n",
    "    print(f\"Reading of {dose} dose input started\")\n",
    "    print(f\"It will take approximately {5.0*max_cnt/48000} minutes\")\n",
    "\n",
    "    with mp.Manager() as manager:    \n",
    "        strips = manager.list([None]*max_cnt)\n",
    "        pool = mp.Pool(parallel_jobs)\n",
    "        pool.map(set_strip, zip(csv_paths[:max_cnt],range(max_cnt),[strips]*max_cnt,[do_exp]*max_cnt))\n",
    "        strips=list(strips)\n",
    "        strips=list(filter(None, strips))\n",
    "\n",
    "    end = time.time()\n",
    "    print(f\"Reading of {dose} dose input has finished\")\n",
    "    print(f\"{len(strips)} views were read\")\n",
    "    print(f\"It took {(end - start)/60} minutes\")\n",
    "    \n",
    "    return strips"
   ]
  },
  {
   "cell_type": "code",
   "execution_count": 13,
   "id": "242ec081",
   "metadata": {},
   "outputs": [
    {
     "name": "stdout",
     "output_type": "stream",
     "text": [
      "Reading of 020 dose input started\n",
      "It will take approximately 5.0408333333333335 minutes\n"
     ]
    },
    {
     "name": "stderr",
     "output_type": "stream",
     "text": [
      "/home/andor/anaconda3/envs/CT4/lib/python3.6/site-packages/ipykernel_launcher.py:5: UserWarning: genfromtxt: Empty input file: \"/mnt/idms/PROJECTS/Lung/sinogram_Domi/spr_dose020/out/data_48390.csv\"\n",
      "  \"\"\"\n"
     ]
    },
    {
     "name": "stdout",
     "output_type": "stream",
     "text": [
      "ERROR number 0 in file /mnt/idms/PROJECTS/Lung/sinogram_Domi/spr_dose020/out/data_48390.csv\n"
     ]
    },
    {
     "name": "stderr",
     "output_type": "stream",
     "text": [
      "/home/andor/anaconda3/envs/CT4/lib/python3.6/site-packages/ipykernel_launcher.py:5: UserWarning: genfromtxt: Empty input file: \"/mnt/idms/PROJECTS/Lung/sinogram_Domi/spr_dose020/out/data_48391.csv\"\n",
      "  \"\"\"\n"
     ]
    },
    {
     "name": "stdout",
     "output_type": "stream",
     "text": [
      "ERROR number 1 in file /mnt/idms/PROJECTS/Lung/sinogram_Domi/spr_dose020/out/data_48391.csv\n",
      "Reading of 020 dose input has finished\n",
      "48390 views were read\n",
      "It took 4.658220422267914 minutes\n",
      "Reading of 080 dose input started\n",
      "It will take approximately 5.040520833333333 minutes\n"
     ]
    },
    {
     "name": "stderr",
     "output_type": "stream",
     "text": [
      "/home/andor/anaconda3/envs/CT4/lib/python3.6/site-packages/ipykernel_launcher.py:5: UserWarning: genfromtxt: Empty input file: \"/mnt/idms/PROJECTS/Lung/sinogram_Domi/spr_dose080/out/data_48387.csv\"\n",
      "  \"\"\"\n"
     ]
    },
    {
     "name": "stdout",
     "output_type": "stream",
     "text": [
      "ERROR number 0 in file /mnt/idms/PROJECTS/Lung/sinogram_Domi/spr_dose080/out/data_48387.csv\n"
     ]
    },
    {
     "name": "stderr",
     "output_type": "stream",
     "text": [
      "/home/andor/anaconda3/envs/CT4/lib/python3.6/site-packages/ipykernel_launcher.py:5: UserWarning: genfromtxt: Empty input file: \"/mnt/idms/PROJECTS/Lung/sinogram_Domi/spr_dose080/out/data_48388.csv\"\n",
      "  \"\"\"\n"
     ]
    },
    {
     "name": "stdout",
     "output_type": "stream",
     "text": [
      "ERROR number 1 in file /mnt/idms/PROJECTS/Lung/sinogram_Domi/spr_dose080/out/data_48388.csv\n",
      "Reading of 080 dose input has finished\n",
      "48387 views were read\n",
      "It took 5.6647635499636335 minutes\n",
      "Reading of 280 dose input started\n",
      "It will take approximately 5.0408333333333335 minutes\n"
     ]
    },
    {
     "name": "stderr",
     "output_type": "stream",
     "text": [
      "/home/andor/anaconda3/envs/CT4/lib/python3.6/site-packages/ipykernel_launcher.py:5: UserWarning: genfromtxt: Empty input file: \"/mnt/idms/PROJECTS/Lung/sinogram_Domi/spr_dose280/out/data_24928.csv\"\n",
      "  \"\"\"\n"
     ]
    },
    {
     "name": "stdout",
     "output_type": "stream",
     "text": [
      "ERROR number 0 in file /mnt/idms/PROJECTS/Lung/sinogram_Domi/spr_dose280/out/data_24928.csv\n"
     ]
    },
    {
     "name": "stderr",
     "output_type": "stream",
     "text": [
      "/home/andor/anaconda3/envs/CT4/lib/python3.6/site-packages/ipykernel_launcher.py:5: UserWarning: genfromtxt: Empty input file: \"/mnt/idms/PROJECTS/Lung/sinogram_Domi/spr_dose280/out/data_24929.csv\"\n",
      "  \"\"\"\n"
     ]
    },
    {
     "name": "stdout",
     "output_type": "stream",
     "text": [
      "ERROR number 1 in file /mnt/idms/PROJECTS/Lung/sinogram_Domi/spr_dose280/out/data_24929.csv\n"
     ]
    },
    {
     "name": "stderr",
     "output_type": "stream",
     "text": [
      "/home/andor/anaconda3/envs/CT4/lib/python3.6/site-packages/ipykernel_launcher.py:5: UserWarning: genfromtxt: Empty input file: \"/mnt/idms/PROJECTS/Lung/sinogram_Domi/spr_dose280/out/data_24930.csv\"\n",
      "  \"\"\"\n"
     ]
    },
    {
     "name": "stdout",
     "output_type": "stream",
     "text": [
      "ERROR number 2 in file /mnt/idms/PROJECTS/Lung/sinogram_Domi/spr_dose280/out/data_24930.csv\n"
     ]
    },
    {
     "name": "stderr",
     "output_type": "stream",
     "text": [
      "/home/andor/anaconda3/envs/CT4/lib/python3.6/site-packages/ipykernel_launcher.py:5: UserWarning: genfromtxt: Empty input file: \"/mnt/idms/PROJECTS/Lung/sinogram_Domi/spr_dose280/out/data_24931.csv\"\n",
      "  \"\"\"\n"
     ]
    },
    {
     "name": "stdout",
     "output_type": "stream",
     "text": [
      "ERROR number 3 in file /mnt/idms/PROJECTS/Lung/sinogram_Domi/spr_dose280/out/data_24931.csv\n"
     ]
    },
    {
     "name": "stderr",
     "output_type": "stream",
     "text": [
      "/home/andor/anaconda3/envs/CT4/lib/python3.6/site-packages/ipykernel_launcher.py:5: UserWarning: genfromtxt: Empty input file: \"/mnt/idms/PROJECTS/Lung/sinogram_Domi/spr_dose280/out/data_24932.csv\"\n",
      "  \"\"\"\n"
     ]
    },
    {
     "name": "stdout",
     "output_type": "stream",
     "text": [
      "ERROR number 4 in file /mnt/idms/PROJECTS/Lung/sinogram_Domi/spr_dose280/out/data_24932.csv\n"
     ]
    },
    {
     "name": "stderr",
     "output_type": "stream",
     "text": [
      "/home/andor/anaconda3/envs/CT4/lib/python3.6/site-packages/ipykernel_launcher.py:5: UserWarning: genfromtxt: Empty input file: \"/mnt/idms/PROJECTS/Lung/sinogram_Domi/spr_dose280/out/data_24933.csv\"\n",
      "  \"\"\"\n"
     ]
    },
    {
     "name": "stdout",
     "output_type": "stream",
     "text": [
      "ERROR number 5 in file /mnt/idms/PROJECTS/Lung/sinogram_Domi/spr_dose280/out/data_24933.csv\n"
     ]
    },
    {
     "name": "stderr",
     "output_type": "stream",
     "text": [
      "/home/andor/anaconda3/envs/CT4/lib/python3.6/site-packages/ipykernel_launcher.py:5: UserWarning: genfromtxt: Empty input file: \"/mnt/idms/PROJECTS/Lung/sinogram_Domi/spr_dose280/out/data_24934.csv\"\n",
      "  \"\"\"\n"
     ]
    },
    {
     "name": "stdout",
     "output_type": "stream",
     "text": [
      "ERROR number 6 in file /mnt/idms/PROJECTS/Lung/sinogram_Domi/spr_dose280/out/data_24934.csv\n"
     ]
    },
    {
     "name": "stderr",
     "output_type": "stream",
     "text": [
      "/home/andor/anaconda3/envs/CT4/lib/python3.6/site-packages/ipykernel_launcher.py:5: UserWarning: genfromtxt: Empty input file: \"/mnt/idms/PROJECTS/Lung/sinogram_Domi/spr_dose280/out/data_24935.csv\"\n",
      "  \"\"\"\n"
     ]
    },
    {
     "name": "stdout",
     "output_type": "stream",
     "text": [
      "ERROR number 7 in file /mnt/idms/PROJECTS/Lung/sinogram_Domi/spr_dose280/out/data_24935.csv\n"
     ]
    },
    {
     "name": "stderr",
     "output_type": "stream",
     "text": [
      "/home/andor/anaconda3/envs/CT4/lib/python3.6/site-packages/ipykernel_launcher.py:5: UserWarning: genfromtxt: Empty input file: \"/mnt/idms/PROJECTS/Lung/sinogram_Domi/spr_dose280/out/data_24936.csv\"\n",
      "  \"\"\"\n"
     ]
    },
    {
     "name": "stdout",
     "output_type": "stream",
     "text": [
      "ERROR number 8 in file /mnt/idms/PROJECTS/Lung/sinogram_Domi/spr_dose280/out/data_24936.csv\n"
     ]
    },
    {
     "name": "stderr",
     "output_type": "stream",
     "text": [
      "/home/andor/anaconda3/envs/CT4/lib/python3.6/site-packages/ipykernel_launcher.py:5: UserWarning: genfromtxt: Empty input file: \"/mnt/idms/PROJECTS/Lung/sinogram_Domi/spr_dose280/out/data_24937.csv\"\n",
      "  \"\"\"\n"
     ]
    },
    {
     "name": "stdout",
     "output_type": "stream",
     "text": [
      "ERROR number 9 in file /mnt/idms/PROJECTS/Lung/sinogram_Domi/spr_dose280/out/data_24937.csv\n"
     ]
    },
    {
     "name": "stderr",
     "output_type": "stream",
     "text": [
      "/home/andor/anaconda3/envs/CT4/lib/python3.6/site-packages/ipykernel_launcher.py:5: UserWarning: genfromtxt: Empty input file: \"/mnt/idms/PROJECTS/Lung/sinogram_Domi/spr_dose280/out/data_24938.csv\"\n",
      "  \"\"\"\n"
     ]
    },
    {
     "name": "stdout",
     "output_type": "stream",
     "text": [
      "ERROR number 10 in file /mnt/idms/PROJECTS/Lung/sinogram_Domi/spr_dose280/out/data_24938.csv\n"
     ]
    },
    {
     "name": "stderr",
     "output_type": "stream",
     "text": [
      "/home/andor/anaconda3/envs/CT4/lib/python3.6/site-packages/ipykernel_launcher.py:5: UserWarning: genfromtxt: Empty input file: \"/mnt/idms/PROJECTS/Lung/sinogram_Domi/spr_dose280/out/data_24939.csv\"\n",
      "  \"\"\"\n"
     ]
    },
    {
     "name": "stdout",
     "output_type": "stream",
     "text": [
      "ERROR number 11 in file /mnt/idms/PROJECTS/Lung/sinogram_Domi/spr_dose280/out/data_24939.csv\n"
     ]
    },
    {
     "name": "stderr",
     "output_type": "stream",
     "text": [
      "/home/andor/anaconda3/envs/CT4/lib/python3.6/site-packages/ipykernel_launcher.py:5: UserWarning: genfromtxt: Empty input file: \"/mnt/idms/PROJECTS/Lung/sinogram_Domi/spr_dose280/out/data_24940.csv\"\n",
      "  \"\"\"\n"
     ]
    },
    {
     "name": "stdout",
     "output_type": "stream",
     "text": [
      "ERROR number 12 in file /mnt/idms/PROJECTS/Lung/sinogram_Domi/spr_dose280/out/data_24940.csv\n"
     ]
    },
    {
     "name": "stderr",
     "output_type": "stream",
     "text": [
      "/home/andor/anaconda3/envs/CT4/lib/python3.6/site-packages/ipykernel_launcher.py:5: UserWarning: genfromtxt: Empty input file: \"/mnt/idms/PROJECTS/Lung/sinogram_Domi/spr_dose280/out/data_24941.csv\"\n",
      "  \"\"\"\n"
     ]
    },
    {
     "name": "stdout",
     "output_type": "stream",
     "text": [
      "ERROR number 13 in file /mnt/idms/PROJECTS/Lung/sinogram_Domi/spr_dose280/out/data_24941.csv\n"
     ]
    },
    {
     "name": "stderr",
     "output_type": "stream",
     "text": [
      "/home/andor/anaconda3/envs/CT4/lib/python3.6/site-packages/ipykernel_launcher.py:5: UserWarning: genfromtxt: Empty input file: \"/mnt/idms/PROJECTS/Lung/sinogram_Domi/spr_dose280/out/data_24942.csv\"\n",
      "  \"\"\"\n"
     ]
    },
    {
     "name": "stdout",
     "output_type": "stream",
     "text": [
      "ERROR number 14 in file /mnt/idms/PROJECTS/Lung/sinogram_Domi/spr_dose280/out/data_24942.csv\n"
     ]
    },
    {
     "name": "stderr",
     "output_type": "stream",
     "text": [
      "/home/andor/anaconda3/envs/CT4/lib/python3.6/site-packages/ipykernel_launcher.py:5: UserWarning: genfromtxt: Empty input file: \"/mnt/idms/PROJECTS/Lung/sinogram_Domi/spr_dose280/out/data_24943.csv\"\n",
      "  \"\"\"\n"
     ]
    },
    {
     "name": "stdout",
     "output_type": "stream",
     "text": [
      "ERROR number 15 in file /mnt/idms/PROJECTS/Lung/sinogram_Domi/spr_dose280/out/data_24943.csv\n"
     ]
    },
    {
     "name": "stderr",
     "output_type": "stream",
     "text": [
      "/home/andor/anaconda3/envs/CT4/lib/python3.6/site-packages/ipykernel_launcher.py:5: UserWarning: genfromtxt: Empty input file: \"/mnt/idms/PROJECTS/Lung/sinogram_Domi/spr_dose280/out/data_24944.csv\"\n",
      "  \"\"\"\n"
     ]
    },
    {
     "name": "stdout",
     "output_type": "stream",
     "text": [
      "ERROR number 16 in file /mnt/idms/PROJECTS/Lung/sinogram_Domi/spr_dose280/out/data_24944.csv\n"
     ]
    },
    {
     "name": "stderr",
     "output_type": "stream",
     "text": [
      "/home/andor/anaconda3/envs/CT4/lib/python3.6/site-packages/ipykernel_launcher.py:5: UserWarning: genfromtxt: Empty input file: \"/mnt/idms/PROJECTS/Lung/sinogram_Domi/spr_dose280/out/data_24945.csv\"\n",
      "  \"\"\"\n"
     ]
    },
    {
     "name": "stdout",
     "output_type": "stream",
     "text": [
      "ERROR number 17 in file /mnt/idms/PROJECTS/Lung/sinogram_Domi/spr_dose280/out/data_24945.csv\n"
     ]
    },
    {
     "name": "stderr",
     "output_type": "stream",
     "text": [
      "/home/andor/anaconda3/envs/CT4/lib/python3.6/site-packages/ipykernel_launcher.py:5: UserWarning: genfromtxt: Empty input file: \"/mnt/idms/PROJECTS/Lung/sinogram_Domi/spr_dose280/out/data_24946.csv\"\n",
      "  \"\"\"\n"
     ]
    },
    {
     "name": "stdout",
     "output_type": "stream",
     "text": [
      "ERROR number 18 in file /mnt/idms/PROJECTS/Lung/sinogram_Domi/spr_dose280/out/data_24946.csv\n"
     ]
    },
    {
     "name": "stderr",
     "output_type": "stream",
     "text": [
      "/home/andor/anaconda3/envs/CT4/lib/python3.6/site-packages/ipykernel_launcher.py:5: UserWarning: genfromtxt: Empty input file: \"/mnt/idms/PROJECTS/Lung/sinogram_Domi/spr_dose280/out/data_24947.csv\"\n",
      "  \"\"\"\n"
     ]
    },
    {
     "name": "stdout",
     "output_type": "stream",
     "text": [
      "ERROR number 19 in file /mnt/idms/PROJECTS/Lung/sinogram_Domi/spr_dose280/out/data_24947.csv\n"
     ]
    },
    {
     "name": "stderr",
     "output_type": "stream",
     "text": [
      "/home/andor/anaconda3/envs/CT4/lib/python3.6/site-packages/ipykernel_launcher.py:5: UserWarning: genfromtxt: Empty input file: \"/mnt/idms/PROJECTS/Lung/sinogram_Domi/spr_dose280/out/data_24948.csv\"\n",
      "  \"\"\"\n"
     ]
    },
    {
     "name": "stdout",
     "output_type": "stream",
     "text": [
      "ERROR number 20 in file /mnt/idms/PROJECTS/Lung/sinogram_Domi/spr_dose280/out/data_24948.csv\n"
     ]
    },
    {
     "name": "stderr",
     "output_type": "stream",
     "text": [
      "/home/andor/anaconda3/envs/CT4/lib/python3.6/site-packages/ipykernel_launcher.py:5: UserWarning: genfromtxt: Empty input file: \"/mnt/idms/PROJECTS/Lung/sinogram_Domi/spr_dose280/out/data_24949.csv\"\n",
      "  \"\"\"\n"
     ]
    },
    {
     "name": "stdout",
     "output_type": "stream",
     "text": [
      "ERROR number 21 in file /mnt/idms/PROJECTS/Lung/sinogram_Domi/spr_dose280/out/data_24949.csv\n"
     ]
    },
    {
     "name": "stderr",
     "output_type": "stream",
     "text": [
      "/home/andor/anaconda3/envs/CT4/lib/python3.6/site-packages/ipykernel_launcher.py:5: UserWarning: genfromtxt: Empty input file: \"/mnt/idms/PROJECTS/Lung/sinogram_Domi/spr_dose280/out/data_24950.csv\"\n",
      "  \"\"\"\n"
     ]
    },
    {
     "name": "stdout",
     "output_type": "stream",
     "text": [
      "ERROR number 22 in file /mnt/idms/PROJECTS/Lung/sinogram_Domi/spr_dose280/out/data_24950.csv\n"
     ]
    },
    {
     "name": "stderr",
     "output_type": "stream",
     "text": [
      "/home/andor/anaconda3/envs/CT4/lib/python3.6/site-packages/ipykernel_launcher.py:5: UserWarning: genfromtxt: Empty input file: \"/mnt/idms/PROJECTS/Lung/sinogram_Domi/spr_dose280/out/data_24951.csv\"\n",
      "  \"\"\"\n"
     ]
    },
    {
     "name": "stdout",
     "output_type": "stream",
     "text": [
      "ERROR number 23 in file /mnt/idms/PROJECTS/Lung/sinogram_Domi/spr_dose280/out/data_24951.csv\n"
     ]
    },
    {
     "name": "stderr",
     "output_type": "stream",
     "text": [
      "/home/andor/anaconda3/envs/CT4/lib/python3.6/site-packages/ipykernel_launcher.py:5: UserWarning: genfromtxt: Empty input file: \"/mnt/idms/PROJECTS/Lung/sinogram_Domi/spr_dose280/out/data_24952.csv\"\n",
      "  \"\"\"\n"
     ]
    },
    {
     "name": "stdout",
     "output_type": "stream",
     "text": [
      "ERROR number 24 in file /mnt/idms/PROJECTS/Lung/sinogram_Domi/spr_dose280/out/data_24952.csv\n"
     ]
    },
    {
     "name": "stderr",
     "output_type": "stream",
     "text": [
      "/home/andor/anaconda3/envs/CT4/lib/python3.6/site-packages/ipykernel_launcher.py:5: UserWarning: genfromtxt: Empty input file: \"/mnt/idms/PROJECTS/Lung/sinogram_Domi/spr_dose280/out/data_24953.csv\"\n",
      "  \"\"\"\n"
     ]
    },
    {
     "name": "stdout",
     "output_type": "stream",
     "text": [
      "ERROR number 25 in file /mnt/idms/PROJECTS/Lung/sinogram_Domi/spr_dose280/out/data_24953.csv\n"
     ]
    },
    {
     "name": "stderr",
     "output_type": "stream",
     "text": [
      "/home/andor/anaconda3/envs/CT4/lib/python3.6/site-packages/ipykernel_launcher.py:5: UserWarning: genfromtxt: Empty input file: \"/mnt/idms/PROJECTS/Lung/sinogram_Domi/spr_dose280/out/data_24954.csv\"\n",
      "  \"\"\"\n"
     ]
    },
    {
     "name": "stdout",
     "output_type": "stream",
     "text": [
      "ERROR number 26 in file /mnt/idms/PROJECTS/Lung/sinogram_Domi/spr_dose280/out/data_24954.csv\n"
     ]
    },
    {
     "name": "stderr",
     "output_type": "stream",
     "text": [
      "/home/andor/anaconda3/envs/CT4/lib/python3.6/site-packages/ipykernel_launcher.py:5: UserWarning: genfromtxt: Empty input file: \"/mnt/idms/PROJECTS/Lung/sinogram_Domi/spr_dose280/out/data_24955.csv\"\n",
      "  \"\"\"\n"
     ]
    },
    {
     "name": "stdout",
     "output_type": "stream",
     "text": [
      "ERROR number 27 in file /mnt/idms/PROJECTS/Lung/sinogram_Domi/spr_dose280/out/data_24955.csv\n"
     ]
    },
    {
     "name": "stderr",
     "output_type": "stream",
     "text": [
      "/home/andor/anaconda3/envs/CT4/lib/python3.6/site-packages/ipykernel_launcher.py:5: UserWarning: genfromtxt: Empty input file: \"/mnt/idms/PROJECTS/Lung/sinogram_Domi/spr_dose280/out/data_24956.csv\"\n",
      "  \"\"\"\n"
     ]
    },
    {
     "name": "stdout",
     "output_type": "stream",
     "text": [
      "ERROR number 28 in file /mnt/idms/PROJECTS/Lung/sinogram_Domi/spr_dose280/out/data_24956.csv\n"
     ]
    },
    {
     "name": "stderr",
     "output_type": "stream",
     "text": [
      "/home/andor/anaconda3/envs/CT4/lib/python3.6/site-packages/ipykernel_launcher.py:5: UserWarning: genfromtxt: Empty input file: \"/mnt/idms/PROJECTS/Lung/sinogram_Domi/spr_dose280/out/data_24957.csv\"\n",
      "  \"\"\"\n"
     ]
    },
    {
     "name": "stdout",
     "output_type": "stream",
     "text": [
      "ERROR number 29 in file /mnt/idms/PROJECTS/Lung/sinogram_Domi/spr_dose280/out/data_24957.csv\n"
     ]
    },
    {
     "name": "stderr",
     "output_type": "stream",
     "text": [
      "/home/andor/anaconda3/envs/CT4/lib/python3.6/site-packages/ipykernel_launcher.py:5: UserWarning: genfromtxt: Empty input file: \"/mnt/idms/PROJECTS/Lung/sinogram_Domi/spr_dose280/out/data_24958.csv\"\n",
      "  \"\"\"\n"
     ]
    },
    {
     "name": "stdout",
     "output_type": "stream",
     "text": [
      "ERROR number 30 in file /mnt/idms/PROJECTS/Lung/sinogram_Domi/spr_dose280/out/data_24958.csv\n"
     ]
    },
    {
     "name": "stderr",
     "output_type": "stream",
     "text": [
      "/home/andor/anaconda3/envs/CT4/lib/python3.6/site-packages/ipykernel_launcher.py:5: UserWarning: genfromtxt: Empty input file: \"/mnt/idms/PROJECTS/Lung/sinogram_Domi/spr_dose280/out/data_24959.csv\"\n",
      "  \"\"\"\n"
     ]
    },
    {
     "name": "stdout",
     "output_type": "stream",
     "text": [
      "ERROR number 31 in file /mnt/idms/PROJECTS/Lung/sinogram_Domi/spr_dose280/out/data_24959.csv\n"
     ]
    },
    {
     "name": "stderr",
     "output_type": "stream",
     "text": [
      "/home/andor/anaconda3/envs/CT4/lib/python3.6/site-packages/ipykernel_launcher.py:5: UserWarning: genfromtxt: Empty input file: \"/mnt/idms/PROJECTS/Lung/sinogram_Domi/spr_dose280/out/data_24960.csv\"\n",
      "  \"\"\"\n"
     ]
    },
    {
     "name": "stdout",
     "output_type": "stream",
     "text": [
      "ERROR number 32 in file /mnt/idms/PROJECTS/Lung/sinogram_Domi/spr_dose280/out/data_24960.csv\n"
     ]
    },
    {
     "name": "stderr",
     "output_type": "stream",
     "text": [
      "/home/andor/anaconda3/envs/CT4/lib/python3.6/site-packages/ipykernel_launcher.py:5: UserWarning: genfromtxt: Empty input file: \"/mnt/idms/PROJECTS/Lung/sinogram_Domi/spr_dose280/out/data_24961.csv\"\n",
      "  \"\"\"\n"
     ]
    },
    {
     "name": "stdout",
     "output_type": "stream",
     "text": [
      "ERROR number 33 in file /mnt/idms/PROJECTS/Lung/sinogram_Domi/spr_dose280/out/data_24961.csv\n"
     ]
    },
    {
     "name": "stderr",
     "output_type": "stream",
     "text": [
      "/home/andor/anaconda3/envs/CT4/lib/python3.6/site-packages/ipykernel_launcher.py:5: UserWarning: genfromtxt: Empty input file: \"/mnt/idms/PROJECTS/Lung/sinogram_Domi/spr_dose280/out/data_24962.csv\"\n",
      "  \"\"\"\n"
     ]
    },
    {
     "name": "stdout",
     "output_type": "stream",
     "text": [
      "ERROR number 34 in file /mnt/idms/PROJECTS/Lung/sinogram_Domi/spr_dose280/out/data_24962.csv\n"
     ]
    },
    {
     "name": "stderr",
     "output_type": "stream",
     "text": [
      "/home/andor/anaconda3/envs/CT4/lib/python3.6/site-packages/ipykernel_launcher.py:5: UserWarning: genfromtxt: Empty input file: \"/mnt/idms/PROJECTS/Lung/sinogram_Domi/spr_dose280/out/data_24963.csv\"\n",
      "  \"\"\"\n"
     ]
    },
    {
     "name": "stdout",
     "output_type": "stream",
     "text": [
      "ERROR number 35 in file /mnt/idms/PROJECTS/Lung/sinogram_Domi/spr_dose280/out/data_24963.csv\n"
     ]
    },
    {
     "name": "stderr",
     "output_type": "stream",
     "text": [
      "/home/andor/anaconda3/envs/CT4/lib/python3.6/site-packages/ipykernel_launcher.py:5: UserWarning: genfromtxt: Empty input file: \"/mnt/idms/PROJECTS/Lung/sinogram_Domi/spr_dose280/out/data_24964.csv\"\n",
      "  \"\"\"\n"
     ]
    },
    {
     "name": "stdout",
     "output_type": "stream",
     "text": [
      "ERROR number 36 in file /mnt/idms/PROJECTS/Lung/sinogram_Domi/spr_dose280/out/data_24964.csv\n"
     ]
    },
    {
     "name": "stderr",
     "output_type": "stream",
     "text": [
      "/home/andor/anaconda3/envs/CT4/lib/python3.6/site-packages/ipykernel_launcher.py:5: UserWarning: genfromtxt: Empty input file: \"/mnt/idms/PROJECTS/Lung/sinogram_Domi/spr_dose280/out/data_24965.csv\"\n",
      "  \"\"\"\n"
     ]
    },
    {
     "name": "stdout",
     "output_type": "stream",
     "text": [
      "ERROR number 37 in file /mnt/idms/PROJECTS/Lung/sinogram_Domi/spr_dose280/out/data_24965.csv\n"
     ]
    },
    {
     "name": "stderr",
     "output_type": "stream",
     "text": [
      "/home/andor/anaconda3/envs/CT4/lib/python3.6/site-packages/ipykernel_launcher.py:5: UserWarning: genfromtxt: Empty input file: \"/mnt/idms/PROJECTS/Lung/sinogram_Domi/spr_dose280/out/data_24966.csv\"\n",
      "  \"\"\"\n"
     ]
    },
    {
     "name": "stdout",
     "output_type": "stream",
     "text": [
      "ERROR number 38 in file /mnt/idms/PROJECTS/Lung/sinogram_Domi/spr_dose280/out/data_24966.csv\n"
     ]
    },
    {
     "name": "stderr",
     "output_type": "stream",
     "text": [
      "/home/andor/anaconda3/envs/CT4/lib/python3.6/site-packages/ipykernel_launcher.py:5: UserWarning: genfromtxt: Empty input file: \"/mnt/idms/PROJECTS/Lung/sinogram_Domi/spr_dose280/out/data_24967.csv\"\n",
      "  \"\"\"\n"
     ]
    },
    {
     "name": "stdout",
     "output_type": "stream",
     "text": [
      "ERROR number 39 in file /mnt/idms/PROJECTS/Lung/sinogram_Domi/spr_dose280/out/data_24967.csv\n"
     ]
    },
    {
     "name": "stderr",
     "output_type": "stream",
     "text": [
      "/home/andor/anaconda3/envs/CT4/lib/python3.6/site-packages/ipykernel_launcher.py:5: UserWarning: genfromtxt: Empty input file: \"/mnt/idms/PROJECTS/Lung/sinogram_Domi/spr_dose280/out/data_24968.csv\"\n",
      "  \"\"\"\n"
     ]
    },
    {
     "name": "stdout",
     "output_type": "stream",
     "text": [
      "ERROR number 40 in file /mnt/idms/PROJECTS/Lung/sinogram_Domi/spr_dose280/out/data_24968.csv\n"
     ]
    },
    {
     "name": "stderr",
     "output_type": "stream",
     "text": [
      "/home/andor/anaconda3/envs/CT4/lib/python3.6/site-packages/ipykernel_launcher.py:5: UserWarning: genfromtxt: Empty input file: \"/mnt/idms/PROJECTS/Lung/sinogram_Domi/spr_dose280/out/data_24969.csv\"\n",
      "  \"\"\"\n"
     ]
    },
    {
     "name": "stdout",
     "output_type": "stream",
     "text": [
      "ERROR number 41 in file /mnt/idms/PROJECTS/Lung/sinogram_Domi/spr_dose280/out/data_24969.csv\n"
     ]
    },
    {
     "name": "stderr",
     "output_type": "stream",
     "text": [
      "/home/andor/anaconda3/envs/CT4/lib/python3.6/site-packages/ipykernel_launcher.py:5: UserWarning: genfromtxt: Empty input file: \"/mnt/idms/PROJECTS/Lung/sinogram_Domi/spr_dose280/out/data_24970.csv\"\n",
      "  \"\"\"\n"
     ]
    },
    {
     "name": "stdout",
     "output_type": "stream",
     "text": [
      "ERROR number 42 in file /mnt/idms/PROJECTS/Lung/sinogram_Domi/spr_dose280/out/data_24970.csv\n"
     ]
    },
    {
     "name": "stderr",
     "output_type": "stream",
     "text": [
      "/home/andor/anaconda3/envs/CT4/lib/python3.6/site-packages/ipykernel_launcher.py:5: UserWarning: genfromtxt: Empty input file: \"/mnt/idms/PROJECTS/Lung/sinogram_Domi/spr_dose280/out/data_24971.csv\"\n",
      "  \"\"\"\n"
     ]
    },
    {
     "name": "stdout",
     "output_type": "stream",
     "text": [
      "ERROR number 43 in file /mnt/idms/PROJECTS/Lung/sinogram_Domi/spr_dose280/out/data_24971.csv\n"
     ]
    },
    {
     "name": "stderr",
     "output_type": "stream",
     "text": [
      "/home/andor/anaconda3/envs/CT4/lib/python3.6/site-packages/ipykernel_launcher.py:5: UserWarning: genfromtxt: Empty input file: \"/mnt/idms/PROJECTS/Lung/sinogram_Domi/spr_dose280/out/data_24972.csv\"\n",
      "  \"\"\"\n"
     ]
    },
    {
     "name": "stdout",
     "output_type": "stream",
     "text": [
      "ERROR number 44 in file /mnt/idms/PROJECTS/Lung/sinogram_Domi/spr_dose280/out/data_24972.csv\n"
     ]
    },
    {
     "name": "stderr",
     "output_type": "stream",
     "text": [
      "/home/andor/anaconda3/envs/CT4/lib/python3.6/site-packages/ipykernel_launcher.py:5: UserWarning: genfromtxt: Empty input file: \"/mnt/idms/PROJECTS/Lung/sinogram_Domi/spr_dose280/out/data_24973.csv\"\n",
      "  \"\"\"\n"
     ]
    },
    {
     "name": "stdout",
     "output_type": "stream",
     "text": [
      "ERROR number 45 in file /mnt/idms/PROJECTS/Lung/sinogram_Domi/spr_dose280/out/data_24973.csv\n"
     ]
    },
    {
     "name": "stderr",
     "output_type": "stream",
     "text": [
      "/home/andor/anaconda3/envs/CT4/lib/python3.6/site-packages/ipykernel_launcher.py:5: UserWarning: genfromtxt: Empty input file: \"/mnt/idms/PROJECTS/Lung/sinogram_Domi/spr_dose280/out/data_24974.csv\"\n",
      "  \"\"\"\n"
     ]
    },
    {
     "name": "stdout",
     "output_type": "stream",
     "text": [
      "ERROR number 46 in file /mnt/idms/PROJECTS/Lung/sinogram_Domi/spr_dose280/out/data_24974.csv\n"
     ]
    },
    {
     "name": "stderr",
     "output_type": "stream",
     "text": [
      "/home/andor/anaconda3/envs/CT4/lib/python3.6/site-packages/ipykernel_launcher.py:5: UserWarning: genfromtxt: Empty input file: \"/mnt/idms/PROJECTS/Lung/sinogram_Domi/spr_dose280/out/data_24975.csv\"\n",
      "  \"\"\"\n"
     ]
    },
    {
     "name": "stdout",
     "output_type": "stream",
     "text": [
      "ERROR number 47 in file /mnt/idms/PROJECTS/Lung/sinogram_Domi/spr_dose280/out/data_24975.csv\n"
     ]
    },
    {
     "name": "stderr",
     "output_type": "stream",
     "text": [
      "/home/andor/anaconda3/envs/CT4/lib/python3.6/site-packages/ipykernel_launcher.py:5: UserWarning: genfromtxt: Empty input file: \"/mnt/idms/PROJECTS/Lung/sinogram_Domi/spr_dose280/out/data_24976.csv\"\n",
      "  \"\"\"\n"
     ]
    },
    {
     "name": "stdout",
     "output_type": "stream",
     "text": [
      "ERROR number 48 in file /mnt/idms/PROJECTS/Lung/sinogram_Domi/spr_dose280/out/data_24976.csv\n"
     ]
    },
    {
     "name": "stderr",
     "output_type": "stream",
     "text": [
      "/home/andor/anaconda3/envs/CT4/lib/python3.6/site-packages/ipykernel_launcher.py:5: UserWarning: genfromtxt: Empty input file: \"/mnt/idms/PROJECTS/Lung/sinogram_Domi/spr_dose280/out/data_24977.csv\"\n",
      "  \"\"\"\n"
     ]
    },
    {
     "name": "stdout",
     "output_type": "stream",
     "text": [
      "ERROR number 49 in file /mnt/idms/PROJECTS/Lung/sinogram_Domi/spr_dose280/out/data_24977.csv\n"
     ]
    },
    {
     "name": "stderr",
     "output_type": "stream",
     "text": [
      "/home/andor/anaconda3/envs/CT4/lib/python3.6/site-packages/ipykernel_launcher.py:5: UserWarning: genfromtxt: Empty input file: \"/mnt/idms/PROJECTS/Lung/sinogram_Domi/spr_dose280/out/data_24978.csv\"\n",
      "  \"\"\"\n"
     ]
    },
    {
     "name": "stdout",
     "output_type": "stream",
     "text": [
      "ERROR number 50 in file /mnt/idms/PROJECTS/Lung/sinogram_Domi/spr_dose280/out/data_24978.csv\n"
     ]
    },
    {
     "name": "stderr",
     "output_type": "stream",
     "text": [
      "/home/andor/anaconda3/envs/CT4/lib/python3.6/site-packages/ipykernel_launcher.py:5: UserWarning: genfromtxt: Empty input file: \"/mnt/idms/PROJECTS/Lung/sinogram_Domi/spr_dose280/out/data_24979.csv\"\n",
      "  \"\"\"\n"
     ]
    },
    {
     "name": "stdout",
     "output_type": "stream",
     "text": [
      "ERROR number 51 in file /mnt/idms/PROJECTS/Lung/sinogram_Domi/spr_dose280/out/data_24979.csv\n"
     ]
    },
    {
     "name": "stderr",
     "output_type": "stream",
     "text": [
      "/home/andor/anaconda3/envs/CT4/lib/python3.6/site-packages/ipykernel_launcher.py:5: UserWarning: genfromtxt: Empty input file: \"/mnt/idms/PROJECTS/Lung/sinogram_Domi/spr_dose280/out/data_24980.csv\"\n",
      "  \"\"\"\n"
     ]
    },
    {
     "name": "stdout",
     "output_type": "stream",
     "text": [
      "ERROR number 52 in file /mnt/idms/PROJECTS/Lung/sinogram_Domi/spr_dose280/out/data_24980.csv\n"
     ]
    },
    {
     "name": "stderr",
     "output_type": "stream",
     "text": [
      "/home/andor/anaconda3/envs/CT4/lib/python3.6/site-packages/ipykernel_launcher.py:5: UserWarning: genfromtxt: Empty input file: \"/mnt/idms/PROJECTS/Lung/sinogram_Domi/spr_dose280/out/data_24981.csv\"\n",
      "  \"\"\"\n"
     ]
    },
    {
     "name": "stdout",
     "output_type": "stream",
     "text": [
      "ERROR number 53 in file /mnt/idms/PROJECTS/Lung/sinogram_Domi/spr_dose280/out/data_24981.csv\n"
     ]
    },
    {
     "name": "stderr",
     "output_type": "stream",
     "text": [
      "/home/andor/anaconda3/envs/CT4/lib/python3.6/site-packages/ipykernel_launcher.py:5: UserWarning: genfromtxt: Empty input file: \"/mnt/idms/PROJECTS/Lung/sinogram_Domi/spr_dose280/out/data_24982.csv\"\n",
      "  \"\"\"\n"
     ]
    },
    {
     "name": "stdout",
     "output_type": "stream",
     "text": [
      "ERROR number 54 in file /mnt/idms/PROJECTS/Lung/sinogram_Domi/spr_dose280/out/data_24982.csv\n"
     ]
    },
    {
     "name": "stderr",
     "output_type": "stream",
     "text": [
      "/home/andor/anaconda3/envs/CT4/lib/python3.6/site-packages/ipykernel_launcher.py:5: UserWarning: genfromtxt: Empty input file: \"/mnt/idms/PROJECTS/Lung/sinogram_Domi/spr_dose280/out/data_24983.csv\"\n",
      "  \"\"\"\n"
     ]
    },
    {
     "name": "stdout",
     "output_type": "stream",
     "text": [
      "ERROR number 55 in file /mnt/idms/PROJECTS/Lung/sinogram_Domi/spr_dose280/out/data_24983.csv\n"
     ]
    },
    {
     "name": "stderr",
     "output_type": "stream",
     "text": [
      "/home/andor/anaconda3/envs/CT4/lib/python3.6/site-packages/ipykernel_launcher.py:5: UserWarning: genfromtxt: Empty input file: \"/mnt/idms/PROJECTS/Lung/sinogram_Domi/spr_dose280/out/data_24984.csv\"\n",
      "  \"\"\"\n"
     ]
    },
    {
     "name": "stdout",
     "output_type": "stream",
     "text": [
      "ERROR number 56 in file /mnt/idms/PROJECTS/Lung/sinogram_Domi/spr_dose280/out/data_24984.csv\n"
     ]
    },
    {
     "name": "stderr",
     "output_type": "stream",
     "text": [
      "/home/andor/anaconda3/envs/CT4/lib/python3.6/site-packages/ipykernel_launcher.py:5: UserWarning: genfromtxt: Empty input file: \"/mnt/idms/PROJECTS/Lung/sinogram_Domi/spr_dose280/out/data_24985.csv\"\n",
      "  \"\"\"\n"
     ]
    },
    {
     "name": "stdout",
     "output_type": "stream",
     "text": [
      "ERROR number 57 in file /mnt/idms/PROJECTS/Lung/sinogram_Domi/spr_dose280/out/data_24985.csv\n"
     ]
    },
    {
     "name": "stderr",
     "output_type": "stream",
     "text": [
      "/home/andor/anaconda3/envs/CT4/lib/python3.6/site-packages/ipykernel_launcher.py:5: UserWarning: genfromtxt: Empty input file: \"/mnt/idms/PROJECTS/Lung/sinogram_Domi/spr_dose280/out/data_24986.csv\"\n",
      "  \"\"\"\n"
     ]
    },
    {
     "name": "stdout",
     "output_type": "stream",
     "text": [
      "ERROR number 58 in file /mnt/idms/PROJECTS/Lung/sinogram_Domi/spr_dose280/out/data_24986.csv\n"
     ]
    },
    {
     "name": "stderr",
     "output_type": "stream",
     "text": [
      "/home/andor/anaconda3/envs/CT4/lib/python3.6/site-packages/ipykernel_launcher.py:5: UserWarning: genfromtxt: Empty input file: \"/mnt/idms/PROJECTS/Lung/sinogram_Domi/spr_dose280/out/data_24987.csv\"\n",
      "  \"\"\"\n"
     ]
    },
    {
     "name": "stdout",
     "output_type": "stream",
     "text": [
      "ERROR number 59 in file /mnt/idms/PROJECTS/Lung/sinogram_Domi/spr_dose280/out/data_24987.csv\n"
     ]
    },
    {
     "name": "stderr",
     "output_type": "stream",
     "text": [
      "/home/andor/anaconda3/envs/CT4/lib/python3.6/site-packages/ipykernel_launcher.py:5: UserWarning: genfromtxt: Empty input file: \"/mnt/idms/PROJECTS/Lung/sinogram_Domi/spr_dose280/out/data_24988.csv\"\n",
      "  \"\"\"\n"
     ]
    },
    {
     "name": "stdout",
     "output_type": "stream",
     "text": [
      "ERROR number 60 in file /mnt/idms/PROJECTS/Lung/sinogram_Domi/spr_dose280/out/data_24988.csv\n"
     ]
    },
    {
     "name": "stderr",
     "output_type": "stream",
     "text": [
      "/home/andor/anaconda3/envs/CT4/lib/python3.6/site-packages/ipykernel_launcher.py:5: UserWarning: genfromtxt: Empty input file: \"/mnt/idms/PROJECTS/Lung/sinogram_Domi/spr_dose280/out/data_24989.csv\"\n",
      "  \"\"\"\n"
     ]
    },
    {
     "name": "stdout",
     "output_type": "stream",
     "text": [
      "ERROR number 61 in file /mnt/idms/PROJECTS/Lung/sinogram_Domi/spr_dose280/out/data_24989.csv\n"
     ]
    },
    {
     "name": "stderr",
     "output_type": "stream",
     "text": [
      "/home/andor/anaconda3/envs/CT4/lib/python3.6/site-packages/ipykernel_launcher.py:5: UserWarning: genfromtxt: Empty input file: \"/mnt/idms/PROJECTS/Lung/sinogram_Domi/spr_dose280/out/data_24990.csv\"\n",
      "  \"\"\"\n"
     ]
    },
    {
     "name": "stdout",
     "output_type": "stream",
     "text": [
      "ERROR number 62 in file /mnt/idms/PROJECTS/Lung/sinogram_Domi/spr_dose280/out/data_24990.csv\n"
     ]
    },
    {
     "name": "stderr",
     "output_type": "stream",
     "text": [
      "/home/andor/anaconda3/envs/CT4/lib/python3.6/site-packages/ipykernel_launcher.py:5: UserWarning: genfromtxt: Empty input file: \"/mnt/idms/PROJECTS/Lung/sinogram_Domi/spr_dose280/out/data_24991.csv\"\n",
      "  \"\"\"\n"
     ]
    },
    {
     "name": "stdout",
     "output_type": "stream",
     "text": [
      "ERROR number 63 in file /mnt/idms/PROJECTS/Lung/sinogram_Domi/spr_dose280/out/data_24991.csv\n"
     ]
    },
    {
     "name": "stderr",
     "output_type": "stream",
     "text": [
      "/home/andor/anaconda3/envs/CT4/lib/python3.6/site-packages/ipykernel_launcher.py:5: UserWarning: genfromtxt: Empty input file: \"/mnt/idms/PROJECTS/Lung/sinogram_Domi/spr_dose280/out/data_24826.csv\"\n",
      "  \"\"\"\n",
      "/home/andor/anaconda3/envs/CT4/lib/python3.6/site-packages/ipykernel_launcher.py:5: UserWarning: genfromtxt: Empty input file: \"/mnt/idms/PROJECTS/Lung/sinogram_Domi/spr_dose280/out/data_24992.csv\"\n",
      "  \"\"\"\n"
     ]
    },
    {
     "name": "stdout",
     "output_type": "stream",
     "text": [
      "ERROR number 0 in file /mnt/idms/PROJECTS/Lung/sinogram_Domi/spr_dose280/out/data_24826.csv\n",
      "ERROR number 64 in file /mnt/idms/PROJECTS/Lung/sinogram_Domi/spr_dose280/out/data_24992.csv\n"
     ]
    },
    {
     "name": "stderr",
     "output_type": "stream",
     "text": [
      "/home/andor/anaconda3/envs/CT4/lib/python3.6/site-packages/ipykernel_launcher.py:5: UserWarning: genfromtxt: Empty input file: \"/mnt/idms/PROJECTS/Lung/sinogram_Domi/spr_dose280/out/data_24827.csv\"\n",
      "  \"\"\"\n",
      "/home/andor/anaconda3/envs/CT4/lib/python3.6/site-packages/ipykernel_launcher.py:5: UserWarning: genfromtxt: Empty input file: \"/mnt/idms/PROJECTS/Lung/sinogram_Domi/spr_dose280/out/data_24993.csv\"\n",
      "  \"\"\"\n"
     ]
    },
    {
     "name": "stdout",
     "output_type": "stream",
     "text": [
      "ERROR number 1 in file /mnt/idms/PROJECTS/Lung/sinogram_Domi/spr_dose280/out/data_24827.csv\n",
      "ERROR number 65 in file /mnt/idms/PROJECTS/Lung/sinogram_Domi/spr_dose280/out/data_24993.csv\n"
     ]
    },
    {
     "name": "stderr",
     "output_type": "stream",
     "text": [
      "/home/andor/anaconda3/envs/CT4/lib/python3.6/site-packages/ipykernel_launcher.py:5: UserWarning: genfromtxt: Empty input file: \"/mnt/idms/PROJECTS/Lung/sinogram_Domi/spr_dose280/out/data_24828.csv\"\n",
      "  \"\"\"\n",
      "/home/andor/anaconda3/envs/CT4/lib/python3.6/site-packages/ipykernel_launcher.py:5: UserWarning: genfromtxt: Empty input file: \"/mnt/idms/PROJECTS/Lung/sinogram_Domi/spr_dose280/out/data_24994.csv\"\n",
      "  \"\"\"\n"
     ]
    },
    {
     "name": "stdout",
     "output_type": "stream",
     "text": [
      "ERROR number 2 in file /mnt/idms/PROJECTS/Lung/sinogram_Domi/spr_dose280/out/data_24828.csv\n",
      "ERROR number 66 in file /mnt/idms/PROJECTS/Lung/sinogram_Domi/spr_dose280/out/data_24994.csv\n"
     ]
    },
    {
     "name": "stderr",
     "output_type": "stream",
     "text": [
      "/home/andor/anaconda3/envs/CT4/lib/python3.6/site-packages/ipykernel_launcher.py:5: UserWarning: genfromtxt: Empty input file: \"/mnt/idms/PROJECTS/Lung/sinogram_Domi/spr_dose280/out/data_24829.csv\"\n",
      "  \"\"\"\n",
      "/home/andor/anaconda3/envs/CT4/lib/python3.6/site-packages/ipykernel_launcher.py:5: UserWarning: genfromtxt: Empty input file: \"/mnt/idms/PROJECTS/Lung/sinogram_Domi/spr_dose280/out/data_24995.csv\"\n",
      "  \"\"\"\n"
     ]
    },
    {
     "name": "stdout",
     "output_type": "stream",
     "text": [
      "ERROR number 3 in file /mnt/idms/PROJECTS/Lung/sinogram_Domi/spr_dose280/out/data_24829.csv\n",
      "ERROR number 67 in file /mnt/idms/PROJECTS/Lung/sinogram_Domi/spr_dose280/out/data_24995.csv\n"
     ]
    },
    {
     "name": "stderr",
     "output_type": "stream",
     "text": [
      "/home/andor/anaconda3/envs/CT4/lib/python3.6/site-packages/ipykernel_launcher.py:5: UserWarning: genfromtxt: Empty input file: \"/mnt/idms/PROJECTS/Lung/sinogram_Domi/spr_dose280/out/data_24830.csv\"\n",
      "  \"\"\"\n",
      "/home/andor/anaconda3/envs/CT4/lib/python3.6/site-packages/ipykernel_launcher.py:5: UserWarning: genfromtxt: Empty input file: \"/mnt/idms/PROJECTS/Lung/sinogram_Domi/spr_dose280/out/data_24996.csv\"\n",
      "  \"\"\"\n"
     ]
    },
    {
     "name": "stdout",
     "output_type": "stream",
     "text": [
      "ERROR number 4 in file /mnt/idms/PROJECTS/Lung/sinogram_Domi/spr_dose280/out/data_24830.csv\n",
      "ERROR number 68 in file /mnt/idms/PROJECTS/Lung/sinogram_Domi/spr_dose280/out/data_24996.csv\n"
     ]
    },
    {
     "name": "stderr",
     "output_type": "stream",
     "text": [
      "/home/andor/anaconda3/envs/CT4/lib/python3.6/site-packages/ipykernel_launcher.py:5: UserWarning: genfromtxt: Empty input file: \"/mnt/idms/PROJECTS/Lung/sinogram_Domi/spr_dose280/out/data_24831.csv\"\n",
      "  \"\"\"\n",
      "/home/andor/anaconda3/envs/CT4/lib/python3.6/site-packages/ipykernel_launcher.py:5: UserWarning: genfromtxt: Empty input file: \"/mnt/idms/PROJECTS/Lung/sinogram_Domi/spr_dose280/out/data_24997.csv\"\n",
      "  \"\"\"\n"
     ]
    },
    {
     "name": "stdout",
     "output_type": "stream",
     "text": [
      "ERROR number 5 in file /mnt/idms/PROJECTS/Lung/sinogram_Domi/spr_dose280/out/data_24831.csv\n",
      "ERROR number 69 in file /mnt/idms/PROJECTS/Lung/sinogram_Domi/spr_dose280/out/data_24997.csv\n"
     ]
    },
    {
     "name": "stderr",
     "output_type": "stream",
     "text": [
      "/home/andor/anaconda3/envs/CT4/lib/python3.6/site-packages/ipykernel_launcher.py:5: UserWarning: genfromtxt: Empty input file: \"/mnt/idms/PROJECTS/Lung/sinogram_Domi/spr_dose280/out/data_24832.csv\"\n",
      "  \"\"\"\n",
      "/home/andor/anaconda3/envs/CT4/lib/python3.6/site-packages/ipykernel_launcher.py:5: UserWarning: genfromtxt: Empty input file: \"/mnt/idms/PROJECTS/Lung/sinogram_Domi/spr_dose280/out/data_24998.csv\"\n",
      "  \"\"\"\n"
     ]
    },
    {
     "name": "stdout",
     "output_type": "stream",
     "text": [
      "ERROR number 6 in file /mnt/idms/PROJECTS/Lung/sinogram_Domi/spr_dose280/out/data_24832.csv\n",
      "ERROR number 70 in file /mnt/idms/PROJECTS/Lung/sinogram_Domi/spr_dose280/out/data_24998.csv\n"
     ]
    },
    {
     "name": "stderr",
     "output_type": "stream",
     "text": [
      "/home/andor/anaconda3/envs/CT4/lib/python3.6/site-packages/ipykernel_launcher.py:5: UserWarning: genfromtxt: Empty input file: \"/mnt/idms/PROJECTS/Lung/sinogram_Domi/spr_dose280/out/data_24833.csv\"\n",
      "  \"\"\"\n",
      "/home/andor/anaconda3/envs/CT4/lib/python3.6/site-packages/ipykernel_launcher.py:5: UserWarning: genfromtxt: Empty input file: \"/mnt/idms/PROJECTS/Lung/sinogram_Domi/spr_dose280/out/data_24999.csv\"\n",
      "  \"\"\"\n"
     ]
    },
    {
     "name": "stdout",
     "output_type": "stream",
     "text": [
      "ERROR number 7 in file /mnt/idms/PROJECTS/Lung/sinogram_Domi/spr_dose280/out/data_24833.csvERROR number 71 in file /mnt/idms/PROJECTS/Lung/sinogram_Domi/spr_dose280/out/data_24999.csv\n",
      "\n"
     ]
    },
    {
     "name": "stderr",
     "output_type": "stream",
     "text": [
      "/home/andor/anaconda3/envs/CT4/lib/python3.6/site-packages/ipykernel_launcher.py:5: UserWarning: genfromtxt: Empty input file: \"/mnt/idms/PROJECTS/Lung/sinogram_Domi/spr_dose280/out/data_25000.csv\"\n",
      "  \"\"\"\n",
      "/home/andor/anaconda3/envs/CT4/lib/python3.6/site-packages/ipykernel_launcher.py:5: UserWarning: genfromtxt: Empty input file: \"/mnt/idms/PROJECTS/Lung/sinogram_Domi/spr_dose280/out/data_24834.csv\"\n",
      "  \"\"\"\n"
     ]
    },
    {
     "name": "stdout",
     "output_type": "stream",
     "text": [
      "ERROR number 72 in file /mnt/idms/PROJECTS/Lung/sinogram_Domi/spr_dose280/out/data_25000.csv\n",
      "ERROR number 8 in file /mnt/idms/PROJECTS/Lung/sinogram_Domi/spr_dose280/out/data_24834.csv\n"
     ]
    },
    {
     "name": "stderr",
     "output_type": "stream",
     "text": [
      "/home/andor/anaconda3/envs/CT4/lib/python3.6/site-packages/ipykernel_launcher.py:5: UserWarning: genfromtxt: Empty input file: \"/mnt/idms/PROJECTS/Lung/sinogram_Domi/spr_dose280/out/data_24835.csv\"\n",
      "  \"\"\"\n"
     ]
    },
    {
     "name": "stdout",
     "output_type": "stream",
     "text": [
      "ERROR number 9 in file /mnt/idms/PROJECTS/Lung/sinogram_Domi/spr_dose280/out/data_24835.csv\n"
     ]
    },
    {
     "name": "stderr",
     "output_type": "stream",
     "text": [
      "/home/andor/anaconda3/envs/CT4/lib/python3.6/site-packages/ipykernel_launcher.py:5: UserWarning: genfromtxt: Empty input file: \"/mnt/idms/PROJECTS/Lung/sinogram_Domi/spr_dose280/out/data_24836.csv\"\n",
      "  \"\"\"\n"
     ]
    },
    {
     "name": "stdout",
     "output_type": "stream",
     "text": [
      "ERROR number 10 in file /mnt/idms/PROJECTS/Lung/sinogram_Domi/spr_dose280/out/data_24836.csv\n"
     ]
    },
    {
     "name": "stderr",
     "output_type": "stream",
     "text": [
      "/home/andor/anaconda3/envs/CT4/lib/python3.6/site-packages/ipykernel_launcher.py:5: UserWarning: genfromtxt: Empty input file: \"/mnt/idms/PROJECTS/Lung/sinogram_Domi/spr_dose280/out/data_24837.csv\"\n",
      "  \"\"\"\n"
     ]
    },
    {
     "name": "stdout",
     "output_type": "stream",
     "text": [
      "ERROR number 11 in file /mnt/idms/PROJECTS/Lung/sinogram_Domi/spr_dose280/out/data_24837.csv\n"
     ]
    },
    {
     "name": "stderr",
     "output_type": "stream",
     "text": [
      "/home/andor/anaconda3/envs/CT4/lib/python3.6/site-packages/ipykernel_launcher.py:5: UserWarning: genfromtxt: Empty input file: \"/mnt/idms/PROJECTS/Lung/sinogram_Domi/spr_dose280/out/data_24838.csv\"\n",
      "  \"\"\"\n"
     ]
    },
    {
     "name": "stdout",
     "output_type": "stream",
     "text": [
      "ERROR number 12 in file /mnt/idms/PROJECTS/Lung/sinogram_Domi/spr_dose280/out/data_24838.csv\n"
     ]
    },
    {
     "name": "stderr",
     "output_type": "stream",
     "text": [
      "/home/andor/anaconda3/envs/CT4/lib/python3.6/site-packages/ipykernel_launcher.py:5: UserWarning: genfromtxt: Empty input file: \"/mnt/idms/PROJECTS/Lung/sinogram_Domi/spr_dose280/out/data_24839.csv\"\n",
      "  \"\"\"\n"
     ]
    },
    {
     "name": "stdout",
     "output_type": "stream",
     "text": [
      "ERROR number 13 in file /mnt/idms/PROJECTS/Lung/sinogram_Domi/spr_dose280/out/data_24839.csv\n"
     ]
    },
    {
     "name": "stderr",
     "output_type": "stream",
     "text": [
      "/home/andor/anaconda3/envs/CT4/lib/python3.6/site-packages/ipykernel_launcher.py:5: UserWarning: genfromtxt: Empty input file: \"/mnt/idms/PROJECTS/Lung/sinogram_Domi/spr_dose280/out/data_24840.csv\"\n",
      "  \"\"\"\n"
     ]
    },
    {
     "name": "stdout",
     "output_type": "stream",
     "text": [
      "ERROR number 14 in file /mnt/idms/PROJECTS/Lung/sinogram_Domi/spr_dose280/out/data_24840.csv\n"
     ]
    },
    {
     "name": "stderr",
     "output_type": "stream",
     "text": [
      "/home/andor/anaconda3/envs/CT4/lib/python3.6/site-packages/ipykernel_launcher.py:5: UserWarning: genfromtxt: Empty input file: \"/mnt/idms/PROJECTS/Lung/sinogram_Domi/spr_dose280/out/data_24841.csv\"\n",
      "  \"\"\"\n"
     ]
    },
    {
     "name": "stdout",
     "output_type": "stream",
     "text": [
      "ERROR number 15 in file /mnt/idms/PROJECTS/Lung/sinogram_Domi/spr_dose280/out/data_24841.csv\n"
     ]
    },
    {
     "name": "stderr",
     "output_type": "stream",
     "text": [
      "/home/andor/anaconda3/envs/CT4/lib/python3.6/site-packages/ipykernel_launcher.py:5: UserWarning: genfromtxt: Empty input file: \"/mnt/idms/PROJECTS/Lung/sinogram_Domi/spr_dose280/out/data_24842.csv\"\n",
      "  \"\"\"\n"
     ]
    },
    {
     "name": "stdout",
     "output_type": "stream",
     "text": [
      "ERROR number 16 in file /mnt/idms/PROJECTS/Lung/sinogram_Domi/spr_dose280/out/data_24842.csv\n"
     ]
    },
    {
     "name": "stderr",
     "output_type": "stream",
     "text": [
      "/home/andor/anaconda3/envs/CT4/lib/python3.6/site-packages/ipykernel_launcher.py:5: UserWarning: genfromtxt: Empty input file: \"/mnt/idms/PROJECTS/Lung/sinogram_Domi/spr_dose280/out/data_24843.csv\"\n",
      "  \"\"\"\n"
     ]
    },
    {
     "name": "stdout",
     "output_type": "stream",
     "text": [
      "ERROR number 17 in file /mnt/idms/PROJECTS/Lung/sinogram_Domi/spr_dose280/out/data_24843.csv\n"
     ]
    },
    {
     "name": "stderr",
     "output_type": "stream",
     "text": [
      "/home/andor/anaconda3/envs/CT4/lib/python3.6/site-packages/ipykernel_launcher.py:5: UserWarning: genfromtxt: Empty input file: \"/mnt/idms/PROJECTS/Lung/sinogram_Domi/spr_dose280/out/data_24844.csv\"\n",
      "  \"\"\"\n"
     ]
    },
    {
     "name": "stdout",
     "output_type": "stream",
     "text": [
      "ERROR number 18 in file /mnt/idms/PROJECTS/Lung/sinogram_Domi/spr_dose280/out/data_24844.csv\n"
     ]
    },
    {
     "name": "stderr",
     "output_type": "stream",
     "text": [
      "/home/andor/anaconda3/envs/CT4/lib/python3.6/site-packages/ipykernel_launcher.py:5: UserWarning: genfromtxt: Empty input file: \"/mnt/idms/PROJECTS/Lung/sinogram_Domi/spr_dose280/out/data_24845.csv\"\n",
      "  \"\"\"\n"
     ]
    },
    {
     "name": "stdout",
     "output_type": "stream",
     "text": [
      "ERROR number 19 in file /mnt/idms/PROJECTS/Lung/sinogram_Domi/spr_dose280/out/data_24845.csv\n"
     ]
    },
    {
     "name": "stderr",
     "output_type": "stream",
     "text": [
      "/home/andor/anaconda3/envs/CT4/lib/python3.6/site-packages/ipykernel_launcher.py:5: UserWarning: genfromtxt: Empty input file: \"/mnt/idms/PROJECTS/Lung/sinogram_Domi/spr_dose280/out/data_24846.csv\"\n",
      "  \"\"\"\n"
     ]
    },
    {
     "name": "stdout",
     "output_type": "stream",
     "text": [
      "ERROR number 20 in file /mnt/idms/PROJECTS/Lung/sinogram_Domi/spr_dose280/out/data_24846.csv\n"
     ]
    },
    {
     "name": "stderr",
     "output_type": "stream",
     "text": [
      "/home/andor/anaconda3/envs/CT4/lib/python3.6/site-packages/ipykernel_launcher.py:5: UserWarning: genfromtxt: Empty input file: \"/mnt/idms/PROJECTS/Lung/sinogram_Domi/spr_dose280/out/data_24847.csv\"\n",
      "  \"\"\"\n"
     ]
    },
    {
     "name": "stdout",
     "output_type": "stream",
     "text": [
      "ERROR number 21 in file /mnt/idms/PROJECTS/Lung/sinogram_Domi/spr_dose280/out/data_24847.csv\n"
     ]
    },
    {
     "name": "stderr",
     "output_type": "stream",
     "text": [
      "/home/andor/anaconda3/envs/CT4/lib/python3.6/site-packages/ipykernel_launcher.py:5: UserWarning: genfromtxt: Empty input file: \"/mnt/idms/PROJECTS/Lung/sinogram_Domi/spr_dose280/out/data_24848.csv\"\n",
      "  \"\"\"\n"
     ]
    },
    {
     "name": "stdout",
     "output_type": "stream",
     "text": [
      "ERROR number 22 in file /mnt/idms/PROJECTS/Lung/sinogram_Domi/spr_dose280/out/data_24848.csv\n"
     ]
    },
    {
     "name": "stderr",
     "output_type": "stream",
     "text": [
      "/home/andor/anaconda3/envs/CT4/lib/python3.6/site-packages/ipykernel_launcher.py:5: UserWarning: genfromtxt: Empty input file: \"/mnt/idms/PROJECTS/Lung/sinogram_Domi/spr_dose280/out/data_24849.csv\"\n",
      "  \"\"\"\n"
     ]
    },
    {
     "name": "stdout",
     "output_type": "stream",
     "text": [
      "ERROR number 23 in file /mnt/idms/PROJECTS/Lung/sinogram_Domi/spr_dose280/out/data_24849.csv\n"
     ]
    },
    {
     "name": "stderr",
     "output_type": "stream",
     "text": [
      "/home/andor/anaconda3/envs/CT4/lib/python3.6/site-packages/ipykernel_launcher.py:5: UserWarning: genfromtxt: Empty input file: \"/mnt/idms/PROJECTS/Lung/sinogram_Domi/spr_dose280/out/data_24850.csv\"\n",
      "  \"\"\"\n"
     ]
    },
    {
     "name": "stdout",
     "output_type": "stream",
     "text": [
      "ERROR number 24 in file /mnt/idms/PROJECTS/Lung/sinogram_Domi/spr_dose280/out/data_24850.csv\n"
     ]
    },
    {
     "name": "stderr",
     "output_type": "stream",
     "text": [
      "/home/andor/anaconda3/envs/CT4/lib/python3.6/site-packages/ipykernel_launcher.py:5: UserWarning: genfromtxt: Empty input file: \"/mnt/idms/PROJECTS/Lung/sinogram_Domi/spr_dose280/out/data_24851.csv\"\n",
      "  \"\"\"\n"
     ]
    },
    {
     "name": "stdout",
     "output_type": "stream",
     "text": [
      "ERROR number 25 in file /mnt/idms/PROJECTS/Lung/sinogram_Domi/spr_dose280/out/data_24851.csv\n"
     ]
    },
    {
     "name": "stderr",
     "output_type": "stream",
     "text": [
      "/home/andor/anaconda3/envs/CT4/lib/python3.6/site-packages/ipykernel_launcher.py:5: UserWarning: genfromtxt: Empty input file: \"/mnt/idms/PROJECTS/Lung/sinogram_Domi/spr_dose280/out/data_24852.csv\"\n",
      "  \"\"\"\n"
     ]
    },
    {
     "name": "stdout",
     "output_type": "stream",
     "text": [
      "ERROR number 26 in file /mnt/idms/PROJECTS/Lung/sinogram_Domi/spr_dose280/out/data_24852.csv\n"
     ]
    },
    {
     "name": "stderr",
     "output_type": "stream",
     "text": [
      "/home/andor/anaconda3/envs/CT4/lib/python3.6/site-packages/ipykernel_launcher.py:5: UserWarning: genfromtxt: Empty input file: \"/mnt/idms/PROJECTS/Lung/sinogram_Domi/spr_dose280/out/data_24853.csv\"\n",
      "  \"\"\"\n"
     ]
    },
    {
     "name": "stdout",
     "output_type": "stream",
     "text": [
      "ERROR number 27 in file /mnt/idms/PROJECTS/Lung/sinogram_Domi/spr_dose280/out/data_24853.csv\n"
     ]
    },
    {
     "name": "stderr",
     "output_type": "stream",
     "text": [
      "/home/andor/anaconda3/envs/CT4/lib/python3.6/site-packages/ipykernel_launcher.py:5: UserWarning: genfromtxt: Empty input file: \"/mnt/idms/PROJECTS/Lung/sinogram_Domi/spr_dose280/out/data_24854.csv\"\n",
      "  \"\"\"\n"
     ]
    },
    {
     "name": "stdout",
     "output_type": "stream",
     "text": [
      "ERROR number 28 in file /mnt/idms/PROJECTS/Lung/sinogram_Domi/spr_dose280/out/data_24854.csv\n"
     ]
    },
    {
     "name": "stderr",
     "output_type": "stream",
     "text": [
      "/home/andor/anaconda3/envs/CT4/lib/python3.6/site-packages/ipykernel_launcher.py:5: UserWarning: genfromtxt: Empty input file: \"/mnt/idms/PROJECTS/Lung/sinogram_Domi/spr_dose280/out/data_24855.csv\"\n",
      "  \"\"\"\n"
     ]
    },
    {
     "name": "stdout",
     "output_type": "stream",
     "text": [
      "ERROR number 29 in file /mnt/idms/PROJECTS/Lung/sinogram_Domi/spr_dose280/out/data_24855.csv\n"
     ]
    },
    {
     "name": "stderr",
     "output_type": "stream",
     "text": [
      "/home/andor/anaconda3/envs/CT4/lib/python3.6/site-packages/ipykernel_launcher.py:5: UserWarning: genfromtxt: Empty input file: \"/mnt/idms/PROJECTS/Lung/sinogram_Domi/spr_dose280/out/data_24856.csv\"\n",
      "  \"\"\"\n"
     ]
    },
    {
     "name": "stdout",
     "output_type": "stream",
     "text": [
      "ERROR number 30 in file /mnt/idms/PROJECTS/Lung/sinogram_Domi/spr_dose280/out/data_24856.csv\n"
     ]
    },
    {
     "name": "stderr",
     "output_type": "stream",
     "text": [
      "/home/andor/anaconda3/envs/CT4/lib/python3.6/site-packages/ipykernel_launcher.py:5: UserWarning: genfromtxt: Empty input file: \"/mnt/idms/PROJECTS/Lung/sinogram_Domi/spr_dose280/out/data_24857.csv\"\n",
      "  \"\"\"\n"
     ]
    },
    {
     "name": "stdout",
     "output_type": "stream",
     "text": [
      "ERROR number 31 in file /mnt/idms/PROJECTS/Lung/sinogram_Domi/spr_dose280/out/data_24857.csv\n"
     ]
    },
    {
     "name": "stderr",
     "output_type": "stream",
     "text": [
      "/home/andor/anaconda3/envs/CT4/lib/python3.6/site-packages/ipykernel_launcher.py:5: UserWarning: genfromtxt: Empty input file: \"/mnt/idms/PROJECTS/Lung/sinogram_Domi/spr_dose280/out/data_24858.csv\"\n",
      "  \"\"\"\n"
     ]
    },
    {
     "name": "stdout",
     "output_type": "stream",
     "text": [
      "ERROR number 32 in file /mnt/idms/PROJECTS/Lung/sinogram_Domi/spr_dose280/out/data_24858.csv\n"
     ]
    },
    {
     "name": "stderr",
     "output_type": "stream",
     "text": [
      "/home/andor/anaconda3/envs/CT4/lib/python3.6/site-packages/ipykernel_launcher.py:5: UserWarning: genfromtxt: Empty input file: \"/mnt/idms/PROJECTS/Lung/sinogram_Domi/spr_dose280/out/data_24859.csv\"\n",
      "  \"\"\"\n"
     ]
    },
    {
     "name": "stdout",
     "output_type": "stream",
     "text": [
      "ERROR number 33 in file /mnt/idms/PROJECTS/Lung/sinogram_Domi/spr_dose280/out/data_24859.csv\n"
     ]
    },
    {
     "name": "stderr",
     "output_type": "stream",
     "text": [
      "/home/andor/anaconda3/envs/CT4/lib/python3.6/site-packages/ipykernel_launcher.py:5: UserWarning: genfromtxt: Empty input file: \"/mnt/idms/PROJECTS/Lung/sinogram_Domi/spr_dose280/out/data_24703.csv\"\n",
      "  \"\"\"\n",
      "/home/andor/anaconda3/envs/CT4/lib/python3.6/site-packages/ipykernel_launcher.py:5: UserWarning: genfromtxt: Empty input file: \"/mnt/idms/PROJECTS/Lung/sinogram_Domi/spr_dose280/out/data_24860.csv\"\n",
      "  \"\"\"\n"
     ]
    },
    {
     "name": "stdout",
     "output_type": "stream",
     "text": [
      "ERROR number 0 in file /mnt/idms/PROJECTS/Lung/sinogram_Domi/spr_dose280/out/data_24703.csv\n",
      "ERROR number 34 in file /mnt/idms/PROJECTS/Lung/sinogram_Domi/spr_dose280/out/data_24860.csv\n"
     ]
    },
    {
     "name": "stderr",
     "output_type": "stream",
     "text": [
      "/home/andor/anaconda3/envs/CT4/lib/python3.6/site-packages/ipykernel_launcher.py:5: UserWarning: genfromtxt: Empty input file: \"/mnt/idms/PROJECTS/Lung/sinogram_Domi/spr_dose280/out/data_24704.csv\"\n",
      "  \"\"\"\n",
      "/home/andor/anaconda3/envs/CT4/lib/python3.6/site-packages/ipykernel_launcher.py:5: UserWarning: genfromtxt: Empty input file: \"/mnt/idms/PROJECTS/Lung/sinogram_Domi/spr_dose280/out/data_24861.csv\"\n",
      "  \"\"\"\n"
     ]
    },
    {
     "name": "stdout",
     "output_type": "stream",
     "text": [
      "ERROR number 1 in file /mnt/idms/PROJECTS/Lung/sinogram_Domi/spr_dose280/out/data_24704.csv\n",
      "ERROR number 35 in file /mnt/idms/PROJECTS/Lung/sinogram_Domi/spr_dose280/out/data_24861.csv\n"
     ]
    },
    {
     "name": "stderr",
     "output_type": "stream",
     "text": [
      "/home/andor/anaconda3/envs/CT4/lib/python3.6/site-packages/ipykernel_launcher.py:5: UserWarning: genfromtxt: Empty input file: \"/mnt/idms/PROJECTS/Lung/sinogram_Domi/spr_dose280/out/data_24705.csv\"\n",
      "  \"\"\"\n",
      "/home/andor/anaconda3/envs/CT4/lib/python3.6/site-packages/ipykernel_launcher.py:5: UserWarning: genfromtxt: Empty input file: \"/mnt/idms/PROJECTS/Lung/sinogram_Domi/spr_dose280/out/data_24862.csv\"\n",
      "  \"\"\"\n"
     ]
    },
    {
     "name": "stdout",
     "output_type": "stream",
     "text": [
      "ERROR number 2 in file /mnt/idms/PROJECTS/Lung/sinogram_Domi/spr_dose280/out/data_24705.csvERROR number 36 in file /mnt/idms/PROJECTS/Lung/sinogram_Domi/spr_dose280/out/data_24862.csv\n",
      "\n"
     ]
    },
    {
     "name": "stderr",
     "output_type": "stream",
     "text": [
      "/home/andor/anaconda3/envs/CT4/lib/python3.6/site-packages/ipykernel_launcher.py:5: UserWarning: genfromtxt: Empty input file: \"/mnt/idms/PROJECTS/Lung/sinogram_Domi/spr_dose280/out/data_24706.csv\"\n",
      "  \"\"\"\n",
      "/home/andor/anaconda3/envs/CT4/lib/python3.6/site-packages/ipykernel_launcher.py:5: UserWarning: genfromtxt: Empty input file: \"/mnt/idms/PROJECTS/Lung/sinogram_Domi/spr_dose280/out/data_24863.csv\"\n",
      "  \"\"\"\n"
     ]
    },
    {
     "name": "stdout",
     "output_type": "stream",
     "text": [
      "ERROR number 3 in file /mnt/idms/PROJECTS/Lung/sinogram_Domi/spr_dose280/out/data_24706.csv\n",
      "ERROR number 37 in file /mnt/idms/PROJECTS/Lung/sinogram_Domi/spr_dose280/out/data_24863.csv\n"
     ]
    },
    {
     "name": "stderr",
     "output_type": "stream",
     "text": [
      "/home/andor/anaconda3/envs/CT4/lib/python3.6/site-packages/ipykernel_launcher.py:5: UserWarning: genfromtxt: Empty input file: \"/mnt/idms/PROJECTS/Lung/sinogram_Domi/spr_dose280/out/data_24707.csv\"\n",
      "  \"\"\"\n",
      "/home/andor/anaconda3/envs/CT4/lib/python3.6/site-packages/ipykernel_launcher.py:5: UserWarning: genfromtxt: Empty input file: \"/mnt/idms/PROJECTS/Lung/sinogram_Domi/spr_dose280/out/data_24864.csv\"\n",
      "  \"\"\"\n"
     ]
    },
    {
     "name": "stdout",
     "output_type": "stream",
     "text": [
      "ERROR number 4 in file /mnt/idms/PROJECTS/Lung/sinogram_Domi/spr_dose280/out/data_24707.csv\n",
      "ERROR number 38 in file /mnt/idms/PROJECTS/Lung/sinogram_Domi/spr_dose280/out/data_24864.csv\n"
     ]
    },
    {
     "name": "stderr",
     "output_type": "stream",
     "text": [
      "/home/andor/anaconda3/envs/CT4/lib/python3.6/site-packages/ipykernel_launcher.py:5: UserWarning: genfromtxt: Empty input file: \"/mnt/idms/PROJECTS/Lung/sinogram_Domi/spr_dose280/out/data_24708.csv\"\n",
      "  \"\"\"\n",
      "/home/andor/anaconda3/envs/CT4/lib/python3.6/site-packages/ipykernel_launcher.py:5: UserWarning: genfromtxt: Empty input file: \"/mnt/idms/PROJECTS/Lung/sinogram_Domi/spr_dose280/out/data_24865.csv\"\n",
      "  \"\"\"\n"
     ]
    },
    {
     "name": "stdout",
     "output_type": "stream",
     "text": [
      "ERROR number 5 in file /mnt/idms/PROJECTS/Lung/sinogram_Domi/spr_dose280/out/data_24708.csv\n",
      "ERROR number 39 in file /mnt/idms/PROJECTS/Lung/sinogram_Domi/spr_dose280/out/data_24865.csv\n"
     ]
    },
    {
     "name": "stderr",
     "output_type": "stream",
     "text": [
      "/home/andor/anaconda3/envs/CT4/lib/python3.6/site-packages/ipykernel_launcher.py:5: UserWarning: genfromtxt: Empty input file: \"/mnt/idms/PROJECTS/Lung/sinogram_Domi/spr_dose280/out/data_24709.csv\"\n",
      "  \"\"\"\n",
      "/home/andor/anaconda3/envs/CT4/lib/python3.6/site-packages/ipykernel_launcher.py:5: UserWarning: genfromtxt: Empty input file: \"/mnt/idms/PROJECTS/Lung/sinogram_Domi/spr_dose280/out/data_24866.csv\"\n",
      "  \"\"\"\n"
     ]
    },
    {
     "name": "stdout",
     "output_type": "stream",
     "text": [
      "ERROR number 6 in file /mnt/idms/PROJECTS/Lung/sinogram_Domi/spr_dose280/out/data_24709.csv\n",
      "ERROR number 40 in file /mnt/idms/PROJECTS/Lung/sinogram_Domi/spr_dose280/out/data_24866.csv\n"
     ]
    },
    {
     "name": "stderr",
     "output_type": "stream",
     "text": [
      "/home/andor/anaconda3/envs/CT4/lib/python3.6/site-packages/ipykernel_launcher.py:5: UserWarning: genfromtxt: Empty input file: \"/mnt/idms/PROJECTS/Lung/sinogram_Domi/spr_dose280/out/data_24710.csv\"\n",
      "  \"\"\"\n",
      "/home/andor/anaconda3/envs/CT4/lib/python3.6/site-packages/ipykernel_launcher.py:5: UserWarning: genfromtxt: Empty input file: \"/mnt/idms/PROJECTS/Lung/sinogram_Domi/spr_dose280/out/data_24867.csv\"\n",
      "  \"\"\"\n"
     ]
    },
    {
     "name": "stdout",
     "output_type": "stream",
     "text": [
      "ERROR number 7 in file /mnt/idms/PROJECTS/Lung/sinogram_Domi/spr_dose280/out/data_24710.csv\n",
      "ERROR number 41 in file /mnt/idms/PROJECTS/Lung/sinogram_Domi/spr_dose280/out/data_24867.csv\n"
     ]
    },
    {
     "name": "stderr",
     "output_type": "stream",
     "text": [
      "/home/andor/anaconda3/envs/CT4/lib/python3.6/site-packages/ipykernel_launcher.py:5: UserWarning: genfromtxt: Empty input file: \"/mnt/idms/PROJECTS/Lung/sinogram_Domi/spr_dose280/out/data_24711.csv\"\n",
      "  \"\"\"\n",
      "/home/andor/anaconda3/envs/CT4/lib/python3.6/site-packages/ipykernel_launcher.py:5: UserWarning: genfromtxt: Empty input file: \"/mnt/idms/PROJECTS/Lung/sinogram_Domi/spr_dose280/out/data_24868.csv\"\n",
      "  \"\"\"\n"
     ]
    },
    {
     "name": "stdout",
     "output_type": "stream",
     "text": [
      "ERROR number 42 in file /mnt/idms/PROJECTS/Lung/sinogram_Domi/spr_dose280/out/data_24868.csv\n",
      "ERROR number 8 in file /mnt/idms/PROJECTS/Lung/sinogram_Domi/spr_dose280/out/data_24711.csv\n"
     ]
    },
    {
     "name": "stderr",
     "output_type": "stream",
     "text": [
      "/home/andor/anaconda3/envs/CT4/lib/python3.6/site-packages/ipykernel_launcher.py:5: UserWarning: genfromtxt: Empty input file: \"/mnt/idms/PROJECTS/Lung/sinogram_Domi/spr_dose280/out/data_24869.csv\"\n",
      "  \"\"\"\n",
      "/home/andor/anaconda3/envs/CT4/lib/python3.6/site-packages/ipykernel_launcher.py:5: UserWarning: genfromtxt: Empty input file: \"/mnt/idms/PROJECTS/Lung/sinogram_Domi/spr_dose280/out/data_24712.csv\"\n",
      "  \"\"\"\n"
     ]
    },
    {
     "name": "stdout",
     "output_type": "stream",
     "text": [
      "ERROR number 43 in file /mnt/idms/PROJECTS/Lung/sinogram_Domi/spr_dose280/out/data_24869.csv\n",
      "ERROR number 9 in file /mnt/idms/PROJECTS/Lung/sinogram_Domi/spr_dose280/out/data_24712.csv\n"
     ]
    },
    {
     "name": "stderr",
     "output_type": "stream",
     "text": [
      "/home/andor/anaconda3/envs/CT4/lib/python3.6/site-packages/ipykernel_launcher.py:5: UserWarning: genfromtxt: Empty input file: \"/mnt/idms/PROJECTS/Lung/sinogram_Domi/spr_dose280/out/data_24870.csv\"\n",
      "  \"\"\"\n",
      "/home/andor/anaconda3/envs/CT4/lib/python3.6/site-packages/ipykernel_launcher.py:5: UserWarning: genfromtxt: Empty input file: \"/mnt/idms/PROJECTS/Lung/sinogram_Domi/spr_dose280/out/data_24713.csv\"\n",
      "  \"\"\"\n"
     ]
    },
    {
     "name": "stdout",
     "output_type": "stream",
     "text": [
      "ERROR number 44 in file /mnt/idms/PROJECTS/Lung/sinogram_Domi/spr_dose280/out/data_24870.csv\n",
      "ERROR number 10 in file /mnt/idms/PROJECTS/Lung/sinogram_Domi/spr_dose280/out/data_24713.csv\n"
     ]
    },
    {
     "name": "stderr",
     "output_type": "stream",
     "text": [
      "/home/andor/anaconda3/envs/CT4/lib/python3.6/site-packages/ipykernel_launcher.py:5: UserWarning: genfromtxt: Empty input file: \"/mnt/idms/PROJECTS/Lung/sinogram_Domi/spr_dose280/out/data_24871.csv\"\n",
      "  \"\"\"\n",
      "/home/andor/anaconda3/envs/CT4/lib/python3.6/site-packages/ipykernel_launcher.py:5: UserWarning: genfromtxt: Empty input file: \"/mnt/idms/PROJECTS/Lung/sinogram_Domi/spr_dose280/out/data_24714.csv\"\n",
      "  \"\"\"\n"
     ]
    },
    {
     "name": "stdout",
     "output_type": "stream",
     "text": [
      "ERROR number 45 in file /mnt/idms/PROJECTS/Lung/sinogram_Domi/spr_dose280/out/data_24871.csv\n",
      "ERROR number 11 in file /mnt/idms/PROJECTS/Lung/sinogram_Domi/spr_dose280/out/data_24714.csv\n"
     ]
    },
    {
     "name": "stderr",
     "output_type": "stream",
     "text": [
      "/home/andor/anaconda3/envs/CT4/lib/python3.6/site-packages/ipykernel_launcher.py:5: UserWarning: genfromtxt: Empty input file: \"/mnt/idms/PROJECTS/Lung/sinogram_Domi/spr_dose280/out/data_24872.csv\"\n",
      "  \"\"\"\n",
      "/home/andor/anaconda3/envs/CT4/lib/python3.6/site-packages/ipykernel_launcher.py:5: UserWarning: genfromtxt: Empty input file: \"/mnt/idms/PROJECTS/Lung/sinogram_Domi/spr_dose280/out/data_24715.csv\"\n",
      "  \"\"\"\n"
     ]
    },
    {
     "name": "stdout",
     "output_type": "stream",
     "text": [
      "ERROR number 46 in file /mnt/idms/PROJECTS/Lung/sinogram_Domi/spr_dose280/out/data_24872.csv\n",
      "ERROR number 12 in file /mnt/idms/PROJECTS/Lung/sinogram_Domi/spr_dose280/out/data_24715.csv\n"
     ]
    },
    {
     "name": "stderr",
     "output_type": "stream",
     "text": [
      "/home/andor/anaconda3/envs/CT4/lib/python3.6/site-packages/ipykernel_launcher.py:5: UserWarning: genfromtxt: Empty input file: \"/mnt/idms/PROJECTS/Lung/sinogram_Domi/spr_dose280/out/data_24873.csv\"\n",
      "  \"\"\"\n",
      "/home/andor/anaconda3/envs/CT4/lib/python3.6/site-packages/ipykernel_launcher.py:5: UserWarning: genfromtxt: Empty input file: \"/mnt/idms/PROJECTS/Lung/sinogram_Domi/spr_dose280/out/data_24716.csv\"\n",
      "  \"\"\"\n"
     ]
    },
    {
     "name": "stdout",
     "output_type": "stream",
     "text": [
      "ERROR number 47 in file /mnt/idms/PROJECTS/Lung/sinogram_Domi/spr_dose280/out/data_24873.csv\n",
      "ERROR number 13 in file /mnt/idms/PROJECTS/Lung/sinogram_Domi/spr_dose280/out/data_24716.csv\n"
     ]
    },
    {
     "name": "stderr",
     "output_type": "stream",
     "text": [
      "/home/andor/anaconda3/envs/CT4/lib/python3.6/site-packages/ipykernel_launcher.py:5: UserWarning: genfromtxt: Empty input file: \"/mnt/idms/PROJECTS/Lung/sinogram_Domi/spr_dose280/out/data_24874.csv\"\n",
      "  \"\"\"\n",
      "/home/andor/anaconda3/envs/CT4/lib/python3.6/site-packages/ipykernel_launcher.py:5: UserWarning: genfromtxt: Empty input file: \"/mnt/idms/PROJECTS/Lung/sinogram_Domi/spr_dose280/out/data_24717.csv\"\n",
      "  \"\"\"\n"
     ]
    },
    {
     "name": "stdout",
     "output_type": "stream",
     "text": [
      "ERROR number 48 in file /mnt/idms/PROJECTS/Lung/sinogram_Domi/spr_dose280/out/data_24874.csv\n",
      "ERROR number 14 in file /mnt/idms/PROJECTS/Lung/sinogram_Domi/spr_dose280/out/data_24717.csv\n"
     ]
    },
    {
     "name": "stderr",
     "output_type": "stream",
     "text": [
      "/home/andor/anaconda3/envs/CT4/lib/python3.6/site-packages/ipykernel_launcher.py:5: UserWarning: genfromtxt: Empty input file: \"/mnt/idms/PROJECTS/Lung/sinogram_Domi/spr_dose280/out/data_24875.csv\"\n",
      "  \"\"\"\n",
      "/home/andor/anaconda3/envs/CT4/lib/python3.6/site-packages/ipykernel_launcher.py:5: UserWarning: genfromtxt: Empty input file: \"/mnt/idms/PROJECTS/Lung/sinogram_Domi/spr_dose280/out/data_24718.csv\"\n",
      "  \"\"\"\n"
     ]
    },
    {
     "name": "stdout",
     "output_type": "stream",
     "text": [
      "ERROR number 49 in file /mnt/idms/PROJECTS/Lung/sinogram_Domi/spr_dose280/out/data_24875.csv\n",
      "ERROR number 15 in file /mnt/idms/PROJECTS/Lung/sinogram_Domi/spr_dose280/out/data_24718.csv\n"
     ]
    },
    {
     "name": "stderr",
     "output_type": "stream",
     "text": [
      "/home/andor/anaconda3/envs/CT4/lib/python3.6/site-packages/ipykernel_launcher.py:5: UserWarning: genfromtxt: Empty input file: \"/mnt/idms/PROJECTS/Lung/sinogram_Domi/spr_dose280/out/data_24876.csv\"\n",
      "  \"\"\"\n",
      "/home/andor/anaconda3/envs/CT4/lib/python3.6/site-packages/ipykernel_launcher.py:5: UserWarning: genfromtxt: Empty input file: \"/mnt/idms/PROJECTS/Lung/sinogram_Domi/spr_dose280/out/data_24719.csv\"\n",
      "  \"\"\"\n"
     ]
    },
    {
     "name": "stdout",
     "output_type": "stream",
     "text": [
      "ERROR number 50 in file /mnt/idms/PROJECTS/Lung/sinogram_Domi/spr_dose280/out/data_24876.csv\n",
      "ERROR number 16 in file /mnt/idms/PROJECTS/Lung/sinogram_Domi/spr_dose280/out/data_24719.csv\n"
     ]
    },
    {
     "name": "stderr",
     "output_type": "stream",
     "text": [
      "/home/andor/anaconda3/envs/CT4/lib/python3.6/site-packages/ipykernel_launcher.py:5: UserWarning: genfromtxt: Empty input file: \"/mnt/idms/PROJECTS/Lung/sinogram_Domi/spr_dose280/out/data_24877.csv\"\n",
      "  \"\"\"\n",
      "/home/andor/anaconda3/envs/CT4/lib/python3.6/site-packages/ipykernel_launcher.py:5: UserWarning: genfromtxt: Empty input file: \"/mnt/idms/PROJECTS/Lung/sinogram_Domi/spr_dose280/out/data_24720.csv\"\n",
      "  \"\"\"\n"
     ]
    },
    {
     "name": "stdout",
     "output_type": "stream",
     "text": [
      "ERROR number 51 in file /mnt/idms/PROJECTS/Lung/sinogram_Domi/spr_dose280/out/data_24877.csv\n",
      "ERROR number 17 in file /mnt/idms/PROJECTS/Lung/sinogram_Domi/spr_dose280/out/data_24720.csv\n"
     ]
    },
    {
     "name": "stderr",
     "output_type": "stream",
     "text": [
      "/home/andor/anaconda3/envs/CT4/lib/python3.6/site-packages/ipykernel_launcher.py:5: UserWarning: genfromtxt: Empty input file: \"/mnt/idms/PROJECTS/Lung/sinogram_Domi/spr_dose280/out/data_24878.csv\"\n",
      "  \"\"\"\n"
     ]
    },
    {
     "name": "stdout",
     "output_type": "stream",
     "text": [
      "ERROR number 52 in file /mnt/idms/PROJECTS/Lung/sinogram_Domi/spr_dose280/out/data_24878.csv"
     ]
    },
    {
     "name": "stderr",
     "output_type": "stream",
     "text": [
      "/home/andor/anaconda3/envs/CT4/lib/python3.6/site-packages/ipykernel_launcher.py:5: UserWarning: genfromtxt: Empty input file: \"/mnt/idms/PROJECTS/Lung/sinogram_Domi/spr_dose280/out/data_24721.csv\"\n",
      "  \"\"\"\n"
     ]
    },
    {
     "name": "stdout",
     "output_type": "stream",
     "text": [
      "\n",
      "ERROR number 18 in file /mnt/idms/PROJECTS/Lung/sinogram_Domi/spr_dose280/out/data_24721.csv\n"
     ]
    },
    {
     "name": "stderr",
     "output_type": "stream",
     "text": [
      "/home/andor/anaconda3/envs/CT4/lib/python3.6/site-packages/ipykernel_launcher.py:5: UserWarning: genfromtxt: Empty input file: \"/mnt/idms/PROJECTS/Lung/sinogram_Domi/spr_dose280/out/data_24879.csv\"\n",
      "  \"\"\"\n",
      "/home/andor/anaconda3/envs/CT4/lib/python3.6/site-packages/ipykernel_launcher.py:5: UserWarning: genfromtxt: Empty input file: \"/mnt/idms/PROJECTS/Lung/sinogram_Domi/spr_dose280/out/data_24722.csv\"\n",
      "  \"\"\"\n"
     ]
    },
    {
     "name": "stdout",
     "output_type": "stream",
     "text": [
      "ERROR number 53 in file /mnt/idms/PROJECTS/Lung/sinogram_Domi/spr_dose280/out/data_24879.csv\n",
      "ERROR number 19 in file /mnt/idms/PROJECTS/Lung/sinogram_Domi/spr_dose280/out/data_24722.csv"
     ]
    },
    {
     "name": "stderr",
     "output_type": "stream",
     "text": [
      "/home/andor/anaconda3/envs/CT4/lib/python3.6/site-packages/ipykernel_launcher.py:5: UserWarning: genfromtxt: Empty input file: \"/mnt/idms/PROJECTS/Lung/sinogram_Domi/spr_dose280/out/data_24880.csv\"\n",
      "  \"\"\"\n"
     ]
    },
    {
     "name": "stdout",
     "output_type": "stream",
     "text": [
      "\n",
      "ERROR number 54 in file /mnt/idms/PROJECTS/Lung/sinogram_Domi/spr_dose280/out/data_24880.csv\n"
     ]
    },
    {
     "name": "stderr",
     "output_type": "stream",
     "text": [
      "/home/andor/anaconda3/envs/CT4/lib/python3.6/site-packages/ipykernel_launcher.py:5: UserWarning: genfromtxt: Empty input file: \"/mnt/idms/PROJECTS/Lung/sinogram_Domi/spr_dose280/out/data_24723.csv\"\n",
      "  \"\"\"\n",
      "/home/andor/anaconda3/envs/CT4/lib/python3.6/site-packages/ipykernel_launcher.py:5: UserWarning: genfromtxt: Empty input file: \"/mnt/idms/PROJECTS/Lung/sinogram_Domi/spr_dose280/out/data_24881.csv\"\n",
      "  \"\"\"\n"
     ]
    },
    {
     "name": "stdout",
     "output_type": "stream",
     "text": [
      "ERROR number 20 in file /mnt/idms/PROJECTS/Lung/sinogram_Domi/spr_dose280/out/data_24723.csv\n",
      "ERROR number 55 in file /mnt/idms/PROJECTS/Lung/sinogram_Domi/spr_dose280/out/data_24881.csv\n"
     ]
    },
    {
     "name": "stderr",
     "output_type": "stream",
     "text": [
      "/home/andor/anaconda3/envs/CT4/lib/python3.6/site-packages/ipykernel_launcher.py:5: UserWarning: genfromtxt: Empty input file: \"/mnt/idms/PROJECTS/Lung/sinogram_Domi/spr_dose280/out/data_24724.csv\"\n",
      "  \"\"\"\n"
     ]
    },
    {
     "name": "stdout",
     "output_type": "stream",
     "text": [
      "ERROR number 21 in file /mnt/idms/PROJECTS/Lung/sinogram_Domi/spr_dose280/out/data_24724.csv\n"
     ]
    },
    {
     "name": "stderr",
     "output_type": "stream",
     "text": [
      "/home/andor/anaconda3/envs/CT4/lib/python3.6/site-packages/ipykernel_launcher.py:5: UserWarning: genfromtxt: Empty input file: \"/mnt/idms/PROJECTS/Lung/sinogram_Domi/spr_dose280/out/data_24882.csv\"\n",
      "  \"\"\"\n",
      "/home/andor/anaconda3/envs/CT4/lib/python3.6/site-packages/ipykernel_launcher.py:5: UserWarning: genfromtxt: Empty input file: \"/mnt/idms/PROJECTS/Lung/sinogram_Domi/spr_dose280/out/data_24725.csv\"\n",
      "  \"\"\"\n"
     ]
    },
    {
     "name": "stdout",
     "output_type": "stream",
     "text": [
      "ERROR number 56 in file /mnt/idms/PROJECTS/Lung/sinogram_Domi/spr_dose280/out/data_24882.csv\n",
      "ERROR number 22 in file /mnt/idms/PROJECTS/Lung/sinogram_Domi/spr_dose280/out/data_24725.csv\n"
     ]
    },
    {
     "name": "stderr",
     "output_type": "stream",
     "text": [
      "/home/andor/anaconda3/envs/CT4/lib/python3.6/site-packages/ipykernel_launcher.py:5: UserWarning: genfromtxt: Empty input file: \"/mnt/idms/PROJECTS/Lung/sinogram_Domi/spr_dose280/out/data_24883.csv\"\n",
      "  \"\"\"\n",
      "/home/andor/anaconda3/envs/CT4/lib/python3.6/site-packages/ipykernel_launcher.py:5: UserWarning: genfromtxt: Empty input file: \"/mnt/idms/PROJECTS/Lung/sinogram_Domi/spr_dose280/out/data_24726.csv\"\n",
      "  \"\"\"\n"
     ]
    },
    {
     "name": "stdout",
     "output_type": "stream",
     "text": [
      "ERROR number 57 in file /mnt/idms/PROJECTS/Lung/sinogram_Domi/spr_dose280/out/data_24883.csv\n",
      "ERROR number 23 in file /mnt/idms/PROJECTS/Lung/sinogram_Domi/spr_dose280/out/data_24726.csv\n"
     ]
    },
    {
     "name": "stderr",
     "output_type": "stream",
     "text": [
      "/home/andor/anaconda3/envs/CT4/lib/python3.6/site-packages/ipykernel_launcher.py:5: UserWarning: genfromtxt: Empty input file: \"/mnt/idms/PROJECTS/Lung/sinogram_Domi/spr_dose280/out/data_24884.csv\"\n",
      "  \"\"\"\n",
      "/home/andor/anaconda3/envs/CT4/lib/python3.6/site-packages/ipykernel_launcher.py:5: UserWarning: genfromtxt: Empty input file: \"/mnt/idms/PROJECTS/Lung/sinogram_Domi/spr_dose280/out/data_24727.csv\"\n",
      "  \"\"\"\n"
     ]
    },
    {
     "name": "stdout",
     "output_type": "stream",
     "text": [
      "ERROR number 58 in file /mnt/idms/PROJECTS/Lung/sinogram_Domi/spr_dose280/out/data_24884.csv\n",
      "ERROR number 24 in file /mnt/idms/PROJECTS/Lung/sinogram_Domi/spr_dose280/out/data_24727.csv\n"
     ]
    },
    {
     "name": "stderr",
     "output_type": "stream",
     "text": [
      "/home/andor/anaconda3/envs/CT4/lib/python3.6/site-packages/ipykernel_launcher.py:5: UserWarning: genfromtxt: Empty input file: \"/mnt/idms/PROJECTS/Lung/sinogram_Domi/spr_dose280/out/data_24885.csv\"\n",
      "  \"\"\"\n",
      "/home/andor/anaconda3/envs/CT4/lib/python3.6/site-packages/ipykernel_launcher.py:5: UserWarning: genfromtxt: Empty input file: \"/mnt/idms/PROJECTS/Lung/sinogram_Domi/spr_dose280/out/data_24728.csv\"\n",
      "  \"\"\"\n"
     ]
    },
    {
     "name": "stdout",
     "output_type": "stream",
     "text": [
      "ERROR number 59 in file /mnt/idms/PROJECTS/Lung/sinogram_Domi/spr_dose280/out/data_24885.csv\n",
      "ERROR number 25 in file /mnt/idms/PROJECTS/Lung/sinogram_Domi/spr_dose280/out/data_24728.csv\n"
     ]
    },
    {
     "name": "stderr",
     "output_type": "stream",
     "text": [
      "/home/andor/anaconda3/envs/CT4/lib/python3.6/site-packages/ipykernel_launcher.py:5: UserWarning: genfromtxt: Empty input file: \"/mnt/idms/PROJECTS/Lung/sinogram_Domi/spr_dose280/out/data_24886.csv\"\n",
      "  \"\"\"\n"
     ]
    },
    {
     "name": "stdout",
     "output_type": "stream",
     "text": [
      "ERROR number 60 in file /mnt/idms/PROJECTS/Lung/sinogram_Domi/spr_dose280/out/data_24886.csv\n"
     ]
    },
    {
     "name": "stderr",
     "output_type": "stream",
     "text": [
      "/home/andor/anaconda3/envs/CT4/lib/python3.6/site-packages/ipykernel_launcher.py:5: UserWarning: genfromtxt: Empty input file: \"/mnt/idms/PROJECTS/Lung/sinogram_Domi/spr_dose280/out/data_24729.csv\"\n",
      "  \"\"\"\n"
     ]
    },
    {
     "name": "stdout",
     "output_type": "stream",
     "text": [
      "ERROR number 26 in file /mnt/idms/PROJECTS/Lung/sinogram_Domi/spr_dose280/out/data_24729.csv\n"
     ]
    },
    {
     "name": "stderr",
     "output_type": "stream",
     "text": [
      "/home/andor/anaconda3/envs/CT4/lib/python3.6/site-packages/ipykernel_launcher.py:5: UserWarning: genfromtxt: Empty input file: \"/mnt/idms/PROJECTS/Lung/sinogram_Domi/spr_dose280/out/data_24887.csv\"\n",
      "  \"\"\"\n"
     ]
    },
    {
     "name": "stdout",
     "output_type": "stream",
     "text": [
      "ERROR number 61 in file /mnt/idms/PROJECTS/Lung/sinogram_Domi/spr_dose280/out/data_24887.csv\n"
     ]
    },
    {
     "name": "stderr",
     "output_type": "stream",
     "text": [
      "/home/andor/anaconda3/envs/CT4/lib/python3.6/site-packages/ipykernel_launcher.py:5: UserWarning: genfromtxt: Empty input file: \"/mnt/idms/PROJECTS/Lung/sinogram_Domi/spr_dose280/out/data_24730.csv\"\n",
      "  \"\"\"\n",
      "/home/andor/anaconda3/envs/CT4/lib/python3.6/site-packages/ipykernel_launcher.py:5: UserWarning: genfromtxt: Empty input file: \"/mnt/idms/PROJECTS/Lung/sinogram_Domi/spr_dose280/out/data_24888.csv\"\n",
      "  \"\"\"\n"
     ]
    },
    {
     "name": "stdout",
     "output_type": "stream",
     "text": [
      "ERROR number 27 in file /mnt/idms/PROJECTS/Lung/sinogram_Domi/spr_dose280/out/data_24730.csv\n",
      "ERROR number 62 in file /mnt/idms/PROJECTS/Lung/sinogram_Domi/spr_dose280/out/data_24888.csv\n"
     ]
    },
    {
     "name": "stderr",
     "output_type": "stream",
     "text": [
      "/home/andor/anaconda3/envs/CT4/lib/python3.6/site-packages/ipykernel_launcher.py:5: UserWarning: genfromtxt: Empty input file: \"/mnt/idms/PROJECTS/Lung/sinogram_Domi/spr_dose280/out/data_24731.csv\"\n",
      "  \"\"\"\n"
     ]
    },
    {
     "name": "stdout",
     "output_type": "stream",
     "text": [
      "ERROR number 28 in file /mnt/idms/PROJECTS/Lung/sinogram_Domi/spr_dose280/out/data_24731.csv\n"
     ]
    },
    {
     "name": "stderr",
     "output_type": "stream",
     "text": [
      "/home/andor/anaconda3/envs/CT4/lib/python3.6/site-packages/ipykernel_launcher.py:5: UserWarning: genfromtxt: Empty input file: \"/mnt/idms/PROJECTS/Lung/sinogram_Domi/spr_dose280/out/data_24889.csv\"\n",
      "  \"\"\"\n"
     ]
    },
    {
     "name": "stdout",
     "output_type": "stream",
     "text": [
      "ERROR number 63 in file /mnt/idms/PROJECTS/Lung/sinogram_Domi/spr_dose280/out/data_24889.csv"
     ]
    },
    {
     "name": "stderr",
     "output_type": "stream",
     "text": [
      "/home/andor/anaconda3/envs/CT4/lib/python3.6/site-packages/ipykernel_launcher.py:5: UserWarning: genfromtxt: Empty input file: \"/mnt/idms/PROJECTS/Lung/sinogram_Domi/spr_dose280/out/data_24732.csv\"\n",
      "  \"\"\"\n"
     ]
    },
    {
     "name": "stdout",
     "output_type": "stream",
     "text": [
      "\n",
      "ERROR number 29 in file /mnt/idms/PROJECTS/Lung/sinogram_Domi/spr_dose280/out/data_24732.csv\n"
     ]
    },
    {
     "name": "stderr",
     "output_type": "stream",
     "text": [
      "/home/andor/anaconda3/envs/CT4/lib/python3.6/site-packages/ipykernel_launcher.py:5: UserWarning: genfromtxt: Empty input file: \"/mnt/idms/PROJECTS/Lung/sinogram_Domi/spr_dose280/out/data_24890.csv\"\n",
      "  \"\"\"\n"
     ]
    },
    {
     "name": "stdout",
     "output_type": "stream",
     "text": [
      "ERROR number 64 in file /mnt/idms/PROJECTS/Lung/sinogram_Domi/spr_dose280/out/data_24890.csv"
     ]
    },
    {
     "name": "stderr",
     "output_type": "stream",
     "text": [
      "/home/andor/anaconda3/envs/CT4/lib/python3.6/site-packages/ipykernel_launcher.py:5: UserWarning: genfromtxt: Empty input file: \"/mnt/idms/PROJECTS/Lung/sinogram_Domi/spr_dose280/out/data_24733.csv\"\n",
      "  \"\"\"\n"
     ]
    },
    {
     "name": "stdout",
     "output_type": "stream",
     "text": [
      "\n",
      "ERROR number 30 in file /mnt/idms/PROJECTS/Lung/sinogram_Domi/spr_dose280/out/data_24733.csv\n"
     ]
    },
    {
     "name": "stderr",
     "output_type": "stream",
     "text": [
      "/home/andor/anaconda3/envs/CT4/lib/python3.6/site-packages/ipykernel_launcher.py:5: UserWarning: genfromtxt: Empty input file: \"/mnt/idms/PROJECTS/Lung/sinogram_Domi/spr_dose280/out/data_24891.csv\"\n",
      "  \"\"\"\n"
     ]
    },
    {
     "name": "stdout",
     "output_type": "stream",
     "text": [
      "ERROR number 65 in file /mnt/idms/PROJECTS/Lung/sinogram_Domi/spr_dose280/out/data_24891.csv\n"
     ]
    },
    {
     "name": "stderr",
     "output_type": "stream",
     "text": [
      "/home/andor/anaconda3/envs/CT4/lib/python3.6/site-packages/ipykernel_launcher.py:5: UserWarning: genfromtxt: Empty input file: \"/mnt/idms/PROJECTS/Lung/sinogram_Domi/spr_dose280/out/data_24734.csv\"\n",
      "  \"\"\"\n"
     ]
    },
    {
     "name": "stdout",
     "output_type": "stream",
     "text": [
      "ERROR number 31 in file /mnt/idms/PROJECTS/Lung/sinogram_Domi/spr_dose280/out/data_24734.csv"
     ]
    },
    {
     "name": "stderr",
     "output_type": "stream",
     "text": [
      "/home/andor/anaconda3/envs/CT4/lib/python3.6/site-packages/ipykernel_launcher.py:5: UserWarning: genfromtxt: Empty input file: \"/mnt/idms/PROJECTS/Lung/sinogram_Domi/spr_dose280/out/data_24892.csv\"\n",
      "  \"\"\"\n"
     ]
    },
    {
     "name": "stdout",
     "output_type": "stream",
     "text": [
      "\n",
      "ERROR number 66 in file /mnt/idms/PROJECTS/Lung/sinogram_Domi/spr_dose280/out/data_24892.csv"
     ]
    },
    {
     "name": "stderr",
     "output_type": "stream",
     "text": [
      "/home/andor/anaconda3/envs/CT4/lib/python3.6/site-packages/ipykernel_launcher.py:5: UserWarning: genfromtxt: Empty input file: \"/mnt/idms/PROJECTS/Lung/sinogram_Domi/spr_dose280/out/data_24735.csv\"\n",
      "  \"\"\"\n"
     ]
    },
    {
     "name": "stdout",
     "output_type": "stream",
     "text": [
      "\n",
      "ERROR number 32 in file /mnt/idms/PROJECTS/Lung/sinogram_Domi/spr_dose280/out/data_24735.csv\n"
     ]
    },
    {
     "name": "stderr",
     "output_type": "stream",
     "text": [
      "/home/andor/anaconda3/envs/CT4/lib/python3.6/site-packages/ipykernel_launcher.py:5: UserWarning: genfromtxt: Empty input file: \"/mnt/idms/PROJECTS/Lung/sinogram_Domi/spr_dose280/out/data_24893.csv\"\n",
      "  \"\"\"\n",
      "/home/andor/anaconda3/envs/CT4/lib/python3.6/site-packages/ipykernel_launcher.py:5: UserWarning: genfromtxt: Empty input file: \"/mnt/idms/PROJECTS/Lung/sinogram_Domi/spr_dose280/out/data_24736.csv\"\n",
      "  \"\"\"\n"
     ]
    },
    {
     "name": "stdout",
     "output_type": "stream",
     "text": [
      "ERROR number 67 in file /mnt/idms/PROJECTS/Lung/sinogram_Domi/spr_dose280/out/data_24893.csv\n",
      "ERROR number 33 in file /mnt/idms/PROJECTS/Lung/sinogram_Domi/spr_dose280/out/data_24736.csv\n"
     ]
    },
    {
     "name": "stderr",
     "output_type": "stream",
     "text": [
      "/home/andor/anaconda3/envs/CT4/lib/python3.6/site-packages/ipykernel_launcher.py:5: UserWarning: genfromtxt: Empty input file: \"/mnt/idms/PROJECTS/Lung/sinogram_Domi/spr_dose280/out/data_24894.csv\"\n",
      "  \"\"\"\n",
      "/home/andor/anaconda3/envs/CT4/lib/python3.6/site-packages/ipykernel_launcher.py:5: UserWarning: genfromtxt: Empty input file: \"/mnt/idms/PROJECTS/Lung/sinogram_Domi/spr_dose280/out/data_24737.csv\"\n",
      "  \"\"\"\n"
     ]
    },
    {
     "name": "stdout",
     "output_type": "stream",
     "text": [
      "ERROR number 68 in file /mnt/idms/PROJECTS/Lung/sinogram_Domi/spr_dose280/out/data_24894.csv\n",
      "ERROR number 34 in file /mnt/idms/PROJECTS/Lung/sinogram_Domi/spr_dose280/out/data_24737.csv\n"
     ]
    },
    {
     "name": "stderr",
     "output_type": "stream",
     "text": [
      "/home/andor/anaconda3/envs/CT4/lib/python3.6/site-packages/ipykernel_launcher.py:5: UserWarning: genfromtxt: Empty input file: \"/mnt/idms/PROJECTS/Lung/sinogram_Domi/spr_dose280/out/data_24895.csv\"\n",
      "  \"\"\"\n",
      "/home/andor/anaconda3/envs/CT4/lib/python3.6/site-packages/ipykernel_launcher.py:5: UserWarning: genfromtxt: Empty input file: \"/mnt/idms/PROJECTS/Lung/sinogram_Domi/spr_dose280/out/data_24738.csv\"\n",
      "  \"\"\"\n"
     ]
    },
    {
     "name": "stdout",
     "output_type": "stream",
     "text": [
      "ERROR number 69 in file /mnt/idms/PROJECTS/Lung/sinogram_Domi/spr_dose280/out/data_24895.csv\n",
      "ERROR number 35 in file /mnt/idms/PROJECTS/Lung/sinogram_Domi/spr_dose280/out/data_24738.csv\n"
     ]
    },
    {
     "name": "stderr",
     "output_type": "stream",
     "text": [
      "/home/andor/anaconda3/envs/CT4/lib/python3.6/site-packages/ipykernel_launcher.py:5: UserWarning: genfromtxt: Empty input file: \"/mnt/idms/PROJECTS/Lung/sinogram_Domi/spr_dose280/out/data_24896.csv\"\n",
      "  \"\"\"\n",
      "/home/andor/anaconda3/envs/CT4/lib/python3.6/site-packages/ipykernel_launcher.py:5: UserWarning: genfromtxt: Empty input file: \"/mnt/idms/PROJECTS/Lung/sinogram_Domi/spr_dose280/out/data_24739.csv\"\n",
      "  \"\"\"\n"
     ]
    },
    {
     "name": "stdout",
     "output_type": "stream",
     "text": [
      "ERROR number 70 in file /mnt/idms/PROJECTS/Lung/sinogram_Domi/spr_dose280/out/data_24896.csv\n",
      "ERROR number 36 in file /mnt/idms/PROJECTS/Lung/sinogram_Domi/spr_dose280/out/data_24739.csv\n"
     ]
    },
    {
     "name": "stderr",
     "output_type": "stream",
     "text": [
      "/home/andor/anaconda3/envs/CT4/lib/python3.6/site-packages/ipykernel_launcher.py:5: UserWarning: genfromtxt: Empty input file: \"/mnt/idms/PROJECTS/Lung/sinogram_Domi/spr_dose280/out/data_24897.csv\"\n",
      "  \"\"\"\n",
      "/home/andor/anaconda3/envs/CT4/lib/python3.6/site-packages/ipykernel_launcher.py:5: UserWarning: genfromtxt: Empty input file: \"/mnt/idms/PROJECTS/Lung/sinogram_Domi/spr_dose280/out/data_24740.csv\"\n",
      "  \"\"\"\n"
     ]
    },
    {
     "name": "stdout",
     "output_type": "stream",
     "text": [
      "ERROR number 71 in file /mnt/idms/PROJECTS/Lung/sinogram_Domi/spr_dose280/out/data_24897.csv\n",
      "ERROR number 37 in file /mnt/idms/PROJECTS/Lung/sinogram_Domi/spr_dose280/out/data_24740.csv\n"
     ]
    },
    {
     "name": "stderr",
     "output_type": "stream",
     "text": [
      "/home/andor/anaconda3/envs/CT4/lib/python3.6/site-packages/ipykernel_launcher.py:5: UserWarning: genfromtxt: Empty input file: \"/mnt/idms/PROJECTS/Lung/sinogram_Domi/spr_dose280/out/data_24898.csv\"\n",
      "  \"\"\"\n",
      "/home/andor/anaconda3/envs/CT4/lib/python3.6/site-packages/ipykernel_launcher.py:5: UserWarning: genfromtxt: Empty input file: \"/mnt/idms/PROJECTS/Lung/sinogram_Domi/spr_dose280/out/data_24741.csv\"\n",
      "  \"\"\"\n"
     ]
    },
    {
     "name": "stdout",
     "output_type": "stream",
     "text": [
      "ERROR number 72 in file /mnt/idms/PROJECTS/Lung/sinogram_Domi/spr_dose280/out/data_24898.csv\n",
      "ERROR number 38 in file /mnt/idms/PROJECTS/Lung/sinogram_Domi/spr_dose280/out/data_24741.csv\n"
     ]
    },
    {
     "name": "stderr",
     "output_type": "stream",
     "text": [
      "/home/andor/anaconda3/envs/CT4/lib/python3.6/site-packages/ipykernel_launcher.py:5: UserWarning: genfromtxt: Empty input file: \"/mnt/idms/PROJECTS/Lung/sinogram_Domi/spr_dose280/out/data_24899.csv\"\n",
      "  \"\"\"\n",
      "/home/andor/anaconda3/envs/CT4/lib/python3.6/site-packages/ipykernel_launcher.py:5: UserWarning: genfromtxt: Empty input file: \"/mnt/idms/PROJECTS/Lung/sinogram_Domi/spr_dose280/out/data_24742.csv\"\n",
      "  \"\"\"\n"
     ]
    },
    {
     "name": "stdout",
     "output_type": "stream",
     "text": [
      "ERROR number 73 in file /mnt/idms/PROJECTS/Lung/sinogram_Domi/spr_dose280/out/data_24899.csv\n",
      "ERROR number 39 in file /mnt/idms/PROJECTS/Lung/sinogram_Domi/spr_dose280/out/data_24742.csv\n"
     ]
    },
    {
     "name": "stderr",
     "output_type": "stream",
     "text": [
      "/home/andor/anaconda3/envs/CT4/lib/python3.6/site-packages/ipykernel_launcher.py:5: UserWarning: genfromtxt: Empty input file: \"/mnt/idms/PROJECTS/Lung/sinogram_Domi/spr_dose280/out/data_24900.csv\"\n",
      "  \"\"\"\n",
      "/home/andor/anaconda3/envs/CT4/lib/python3.6/site-packages/ipykernel_launcher.py:5: UserWarning: genfromtxt: Empty input file: \"/mnt/idms/PROJECTS/Lung/sinogram_Domi/spr_dose280/out/data_24743.csv\"\n",
      "  \"\"\"\n"
     ]
    },
    {
     "name": "stdout",
     "output_type": "stream",
     "text": [
      "ERROR number 74 in file /mnt/idms/PROJECTS/Lung/sinogram_Domi/spr_dose280/out/data_24900.csv\n",
      "ERROR number 40 in file /mnt/idms/PROJECTS/Lung/sinogram_Domi/spr_dose280/out/data_24743.csv\n"
     ]
    },
    {
     "name": "stderr",
     "output_type": "stream",
     "text": [
      "/home/andor/anaconda3/envs/CT4/lib/python3.6/site-packages/ipykernel_launcher.py:5: UserWarning: genfromtxt: Empty input file: \"/mnt/idms/PROJECTS/Lung/sinogram_Domi/spr_dose280/out/data_24901.csv\"\n",
      "  \"\"\"\n",
      "/home/andor/anaconda3/envs/CT4/lib/python3.6/site-packages/ipykernel_launcher.py:5: UserWarning: genfromtxt: Empty input file: \"/mnt/idms/PROJECTS/Lung/sinogram_Domi/spr_dose280/out/data_24744.csv\"\n",
      "  \"\"\"\n"
     ]
    },
    {
     "name": "stdout",
     "output_type": "stream",
     "text": [
      "ERROR number 75 in file /mnt/idms/PROJECTS/Lung/sinogram_Domi/spr_dose280/out/data_24901.csv\n",
      "ERROR number 41 in file /mnt/idms/PROJECTS/Lung/sinogram_Domi/spr_dose280/out/data_24744.csv\n"
     ]
    },
    {
     "name": "stderr",
     "output_type": "stream",
     "text": [
      "/home/andor/anaconda3/envs/CT4/lib/python3.6/site-packages/ipykernel_launcher.py:5: UserWarning: genfromtxt: Empty input file: \"/mnt/idms/PROJECTS/Lung/sinogram_Domi/spr_dose280/out/data_24902.csv\"\n",
      "  \"\"\"\n",
      "/home/andor/anaconda3/envs/CT4/lib/python3.6/site-packages/ipykernel_launcher.py:5: UserWarning: genfromtxt: Empty input file: \"/mnt/idms/PROJECTS/Lung/sinogram_Domi/spr_dose280/out/data_24745.csv\"\n",
      "  \"\"\"\n"
     ]
    },
    {
     "name": "stdout",
     "output_type": "stream",
     "text": [
      "ERROR number 76 in file /mnt/idms/PROJECTS/Lung/sinogram_Domi/spr_dose280/out/data_24902.csv\n",
      "ERROR number 42 in file /mnt/idms/PROJECTS/Lung/sinogram_Domi/spr_dose280/out/data_24745.csv\n"
     ]
    },
    {
     "name": "stderr",
     "output_type": "stream",
     "text": [
      "/home/andor/anaconda3/envs/CT4/lib/python3.6/site-packages/ipykernel_launcher.py:5: UserWarning: genfromtxt: Empty input file: \"/mnt/idms/PROJECTS/Lung/sinogram_Domi/spr_dose280/out/data_24903.csv\"\n",
      "  \"\"\"\n",
      "/home/andor/anaconda3/envs/CT4/lib/python3.6/site-packages/ipykernel_launcher.py:5: UserWarning: genfromtxt: Empty input file: \"/mnt/idms/PROJECTS/Lung/sinogram_Domi/spr_dose280/out/data_24746.csv\"\n",
      "  \"\"\"\n"
     ]
    },
    {
     "name": "stdout",
     "output_type": "stream",
     "text": [
      "ERROR number 77 in file /mnt/idms/PROJECTS/Lung/sinogram_Domi/spr_dose280/out/data_24903.csv\n",
      "ERROR number 43 in file /mnt/idms/PROJECTS/Lung/sinogram_Domi/spr_dose280/out/data_24746.csv\n"
     ]
    },
    {
     "name": "stderr",
     "output_type": "stream",
     "text": [
      "/home/andor/anaconda3/envs/CT4/lib/python3.6/site-packages/ipykernel_launcher.py:5: UserWarning: genfromtxt: Empty input file: \"/mnt/idms/PROJECTS/Lung/sinogram_Domi/spr_dose280/out/data_24904.csv\"\n",
      "  \"\"\"\n",
      "/home/andor/anaconda3/envs/CT4/lib/python3.6/site-packages/ipykernel_launcher.py:5: UserWarning: genfromtxt: Empty input file: \"/mnt/idms/PROJECTS/Lung/sinogram_Domi/spr_dose280/out/data_24747.csv\"\n",
      "  \"\"\"\n"
     ]
    },
    {
     "name": "stdout",
     "output_type": "stream",
     "text": [
      "ERROR number 78 in file /mnt/idms/PROJECTS/Lung/sinogram_Domi/spr_dose280/out/data_24904.csv\n",
      "ERROR number 44 in file /mnt/idms/PROJECTS/Lung/sinogram_Domi/spr_dose280/out/data_24747.csv\n"
     ]
    },
    {
     "name": "stderr",
     "output_type": "stream",
     "text": [
      "/home/andor/anaconda3/envs/CT4/lib/python3.6/site-packages/ipykernel_launcher.py:5: UserWarning: genfromtxt: Empty input file: \"/mnt/idms/PROJECTS/Lung/sinogram_Domi/spr_dose280/out/data_24905.csv\"\n",
      "  \"\"\"\n",
      "/home/andor/anaconda3/envs/CT4/lib/python3.6/site-packages/ipykernel_launcher.py:5: UserWarning: genfromtxt: Empty input file: \"/mnt/idms/PROJECTS/Lung/sinogram_Domi/spr_dose280/out/data_24748.csv\"\n",
      "  \"\"\"\n"
     ]
    },
    {
     "name": "stdout",
     "output_type": "stream",
     "text": [
      "ERROR number 79 in file /mnt/idms/PROJECTS/Lung/sinogram_Domi/spr_dose280/out/data_24905.csv\n",
      "ERROR number 45 in file /mnt/idms/PROJECTS/Lung/sinogram_Domi/spr_dose280/out/data_24748.csv\n"
     ]
    },
    {
     "name": "stderr",
     "output_type": "stream",
     "text": [
      "/home/andor/anaconda3/envs/CT4/lib/python3.6/site-packages/ipykernel_launcher.py:5: UserWarning: genfromtxt: Empty input file: \"/mnt/idms/PROJECTS/Lung/sinogram_Domi/spr_dose280/out/data_24906.csv\"\n",
      "  \"\"\"\n",
      "/home/andor/anaconda3/envs/CT4/lib/python3.6/site-packages/ipykernel_launcher.py:5: UserWarning: genfromtxt: Empty input file: \"/mnt/idms/PROJECTS/Lung/sinogram_Domi/spr_dose280/out/data_24749.csv\"\n",
      "  \"\"\"\n"
     ]
    },
    {
     "name": "stdout",
     "output_type": "stream",
     "text": [
      "ERROR number 80 in file /mnt/idms/PROJECTS/Lung/sinogram_Domi/spr_dose280/out/data_24906.csv\n",
      "ERROR number 46 in file /mnt/idms/PROJECTS/Lung/sinogram_Domi/spr_dose280/out/data_24749.csv\n"
     ]
    },
    {
     "name": "stderr",
     "output_type": "stream",
     "text": [
      "/home/andor/anaconda3/envs/CT4/lib/python3.6/site-packages/ipykernel_launcher.py:5: UserWarning: genfromtxt: Empty input file: \"/mnt/idms/PROJECTS/Lung/sinogram_Domi/spr_dose280/out/data_24907.csv\"\n",
      "  \"\"\"\n",
      "/home/andor/anaconda3/envs/CT4/lib/python3.6/site-packages/ipykernel_launcher.py:5: UserWarning: genfromtxt: Empty input file: \"/mnt/idms/PROJECTS/Lung/sinogram_Domi/spr_dose280/out/data_24750.csv\"\n",
      "  \"\"\"\n"
     ]
    },
    {
     "name": "stdout",
     "output_type": "stream",
     "text": [
      "ERROR number 81 in file /mnt/idms/PROJECTS/Lung/sinogram_Domi/spr_dose280/out/data_24907.csv\n",
      "ERROR number 47 in file /mnt/idms/PROJECTS/Lung/sinogram_Domi/spr_dose280/out/data_24750.csv\n"
     ]
    },
    {
     "name": "stderr",
     "output_type": "stream",
     "text": [
      "/home/andor/anaconda3/envs/CT4/lib/python3.6/site-packages/ipykernel_launcher.py:5: UserWarning: genfromtxt: Empty input file: \"/mnt/idms/PROJECTS/Lung/sinogram_Domi/spr_dose280/out/data_24908.csv\"\n",
      "  \"\"\"\n",
      "/home/andor/anaconda3/envs/CT4/lib/python3.6/site-packages/ipykernel_launcher.py:5: UserWarning: genfromtxt: Empty input file: \"/mnt/idms/PROJECTS/Lung/sinogram_Domi/spr_dose280/out/data_24751.csv\"\n",
      "  \"\"\"\n"
     ]
    },
    {
     "name": "stdout",
     "output_type": "stream",
     "text": [
      "ERROR number 82 in file /mnt/idms/PROJECTS/Lung/sinogram_Domi/spr_dose280/out/data_24908.csv\n",
      "ERROR number 48 in file /mnt/idms/PROJECTS/Lung/sinogram_Domi/spr_dose280/out/data_24751.csv\n"
     ]
    },
    {
     "name": "stderr",
     "output_type": "stream",
     "text": [
      "/home/andor/anaconda3/envs/CT4/lib/python3.6/site-packages/ipykernel_launcher.py:5: UserWarning: genfromtxt: Empty input file: \"/mnt/idms/PROJECTS/Lung/sinogram_Domi/spr_dose280/out/data_24909.csv\"\n",
      "  \"\"\"\n",
      "/home/andor/anaconda3/envs/CT4/lib/python3.6/site-packages/ipykernel_launcher.py:5: UserWarning: genfromtxt: Empty input file: \"/mnt/idms/PROJECTS/Lung/sinogram_Domi/spr_dose280/out/data_24752.csv\"\n",
      "  \"\"\"\n"
     ]
    },
    {
     "name": "stdout",
     "output_type": "stream",
     "text": [
      "ERROR number 83 in file /mnt/idms/PROJECTS/Lung/sinogram_Domi/spr_dose280/out/data_24909.csv\n",
      "ERROR number 49 in file /mnt/idms/PROJECTS/Lung/sinogram_Domi/spr_dose280/out/data_24752.csv\n"
     ]
    },
    {
     "name": "stderr",
     "output_type": "stream",
     "text": [
      "/home/andor/anaconda3/envs/CT4/lib/python3.6/site-packages/ipykernel_launcher.py:5: UserWarning: genfromtxt: Empty input file: \"/mnt/idms/PROJECTS/Lung/sinogram_Domi/spr_dose280/out/data_24910.csv\"\n",
      "  \"\"\"\n"
     ]
    },
    {
     "name": "stdout",
     "output_type": "stream",
     "text": [
      "ERROR number 84 in file /mnt/idms/PROJECTS/Lung/sinogram_Domi/spr_dose280/out/data_24910.csv\n"
     ]
    },
    {
     "name": "stderr",
     "output_type": "stream",
     "text": [
      "/home/andor/anaconda3/envs/CT4/lib/python3.6/site-packages/ipykernel_launcher.py:5: UserWarning: genfromtxt: Empty input file: \"/mnt/idms/PROJECTS/Lung/sinogram_Domi/spr_dose280/out/data_24911.csv\"\n",
      "  \"\"\"\n"
     ]
    },
    {
     "name": "stdout",
     "output_type": "stream",
     "text": [
      "ERROR number 85 in file /mnt/idms/PROJECTS/Lung/sinogram_Domi/spr_dose280/out/data_24911.csv\n"
     ]
    },
    {
     "name": "stderr",
     "output_type": "stream",
     "text": [
      "/home/andor/anaconda3/envs/CT4/lib/python3.6/site-packages/ipykernel_launcher.py:5: UserWarning: genfromtxt: Empty input file: \"/mnt/idms/PROJECTS/Lung/sinogram_Domi/spr_dose280/out/data_24912.csv\"\n",
      "  \"\"\"\n"
     ]
    },
    {
     "name": "stdout",
     "output_type": "stream",
     "text": [
      "ERROR number 86 in file /mnt/idms/PROJECTS/Lung/sinogram_Domi/spr_dose280/out/data_24912.csv\n"
     ]
    },
    {
     "name": "stderr",
     "output_type": "stream",
     "text": [
      "/home/andor/anaconda3/envs/CT4/lib/python3.6/site-packages/ipykernel_launcher.py:5: UserWarning: genfromtxt: Empty input file: \"/mnt/idms/PROJECTS/Lung/sinogram_Domi/spr_dose280/out/data_24913.csv\"\n",
      "  \"\"\"\n"
     ]
    },
    {
     "name": "stdout",
     "output_type": "stream",
     "text": [
      "ERROR number 87 in file /mnt/idms/PROJECTS/Lung/sinogram_Domi/spr_dose280/out/data_24913.csv\n"
     ]
    },
    {
     "name": "stderr",
     "output_type": "stream",
     "text": [
      "/home/andor/anaconda3/envs/CT4/lib/python3.6/site-packages/ipykernel_launcher.py:5: UserWarning: genfromtxt: Empty input file: \"/mnt/idms/PROJECTS/Lung/sinogram_Domi/spr_dose280/out/data_24914.csv\"\n",
      "  \"\"\"\n"
     ]
    },
    {
     "name": "stdout",
     "output_type": "stream",
     "text": [
      "ERROR number 88 in file /mnt/idms/PROJECTS/Lung/sinogram_Domi/spr_dose280/out/data_24914.csv\n"
     ]
    },
    {
     "name": "stderr",
     "output_type": "stream",
     "text": [
      "/home/andor/anaconda3/envs/CT4/lib/python3.6/site-packages/ipykernel_launcher.py:5: UserWarning: genfromtxt: Empty input file: \"/mnt/idms/PROJECTS/Lung/sinogram_Domi/spr_dose280/out/data_24915.csv\"\n",
      "  \"\"\"\n"
     ]
    },
    {
     "name": "stdout",
     "output_type": "stream",
     "text": [
      "ERROR number 89 in file /mnt/idms/PROJECTS/Lung/sinogram_Domi/spr_dose280/out/data_24915.csv\n"
     ]
    },
    {
     "name": "stderr",
     "output_type": "stream",
     "text": [
      "/home/andor/anaconda3/envs/CT4/lib/python3.6/site-packages/ipykernel_launcher.py:5: UserWarning: genfromtxt: Empty input file: \"/mnt/idms/PROJECTS/Lung/sinogram_Domi/spr_dose280/out/data_24916.csv\"\n",
      "  \"\"\"\n"
     ]
    },
    {
     "name": "stdout",
     "output_type": "stream",
     "text": [
      "ERROR number 90 in file /mnt/idms/PROJECTS/Lung/sinogram_Domi/spr_dose280/out/data_24916.csv\n"
     ]
    },
    {
     "name": "stderr",
     "output_type": "stream",
     "text": [
      "/home/andor/anaconda3/envs/CT4/lib/python3.6/site-packages/ipykernel_launcher.py:5: UserWarning: genfromtxt: Empty input file: \"/mnt/idms/PROJECTS/Lung/sinogram_Domi/spr_dose280/out/data_24917.csv\"\n",
      "  \"\"\"\n"
     ]
    },
    {
     "name": "stdout",
     "output_type": "stream",
     "text": [
      "ERROR number 91 in file /mnt/idms/PROJECTS/Lung/sinogram_Domi/spr_dose280/out/data_24917.csv\n"
     ]
    },
    {
     "name": "stderr",
     "output_type": "stream",
     "text": [
      "/home/andor/anaconda3/envs/CT4/lib/python3.6/site-packages/ipykernel_launcher.py:5: UserWarning: genfromtxt: Empty input file: \"/mnt/idms/PROJECTS/Lung/sinogram_Domi/spr_dose280/out/data_24918.csv\"\n",
      "  \"\"\"\n"
     ]
    },
    {
     "name": "stdout",
     "output_type": "stream",
     "text": [
      "ERROR number 92 in file /mnt/idms/PROJECTS/Lung/sinogram_Domi/spr_dose280/out/data_24918.csv\n"
     ]
    },
    {
     "name": "stderr",
     "output_type": "stream",
     "text": [
      "/home/andor/anaconda3/envs/CT4/lib/python3.6/site-packages/ipykernel_launcher.py:5: UserWarning: genfromtxt: Empty input file: \"/mnt/idms/PROJECTS/Lung/sinogram_Domi/spr_dose280/out/data_24919.csv\"\n",
      "  \"\"\"\n"
     ]
    },
    {
     "name": "stdout",
     "output_type": "stream",
     "text": [
      "ERROR number 93 in file /mnt/idms/PROJECTS/Lung/sinogram_Domi/spr_dose280/out/data_24919.csv\n"
     ]
    },
    {
     "name": "stderr",
     "output_type": "stream",
     "text": [
      "/home/andor/anaconda3/envs/CT4/lib/python3.6/site-packages/ipykernel_launcher.py:5: UserWarning: genfromtxt: Empty input file: \"/mnt/idms/PROJECTS/Lung/sinogram_Domi/spr_dose280/out/data_24920.csv\"\n",
      "  \"\"\"\n"
     ]
    },
    {
     "name": "stdout",
     "output_type": "stream",
     "text": [
      "ERROR number 94 in file /mnt/idms/PROJECTS/Lung/sinogram_Domi/spr_dose280/out/data_24920.csv\n"
     ]
    },
    {
     "name": "stderr",
     "output_type": "stream",
     "text": [
      "/home/andor/anaconda3/envs/CT4/lib/python3.6/site-packages/ipykernel_launcher.py:5: UserWarning: genfromtxt: Empty input file: \"/mnt/idms/PROJECTS/Lung/sinogram_Domi/spr_dose280/out/data_24921.csv\"\n",
      "  \"\"\"\n"
     ]
    },
    {
     "name": "stdout",
     "output_type": "stream",
     "text": [
      "ERROR number 95 in file /mnt/idms/PROJECTS/Lung/sinogram_Domi/spr_dose280/out/data_24921.csv\n"
     ]
    },
    {
     "name": "stderr",
     "output_type": "stream",
     "text": [
      "/home/andor/anaconda3/envs/CT4/lib/python3.6/site-packages/ipykernel_launcher.py:5: UserWarning: genfromtxt: Empty input file: \"/mnt/idms/PROJECTS/Lung/sinogram_Domi/spr_dose280/out/data_24922.csv\"\n",
      "  \"\"\"\n"
     ]
    },
    {
     "name": "stdout",
     "output_type": "stream",
     "text": [
      "ERROR number 96 in file /mnt/idms/PROJECTS/Lung/sinogram_Domi/spr_dose280/out/data_24922.csv\n"
     ]
    },
    {
     "name": "stderr",
     "output_type": "stream",
     "text": [
      "/home/andor/anaconda3/envs/CT4/lib/python3.6/site-packages/ipykernel_launcher.py:5: UserWarning: genfromtxt: Empty input file: \"/mnt/idms/PROJECTS/Lung/sinogram_Domi/spr_dose280/out/data_24923.csv\"\n",
      "  \"\"\"\n"
     ]
    },
    {
     "name": "stdout",
     "output_type": "stream",
     "text": [
      "ERROR number 97 in file /mnt/idms/PROJECTS/Lung/sinogram_Domi/spr_dose280/out/data_24923.csv\n"
     ]
    },
    {
     "name": "stderr",
     "output_type": "stream",
     "text": [
      "/home/andor/anaconda3/envs/CT4/lib/python3.6/site-packages/ipykernel_launcher.py:5: UserWarning: genfromtxt: Empty input file: \"/mnt/idms/PROJECTS/Lung/sinogram_Domi/spr_dose280/out/data_24924.csv\"\n",
      "  \"\"\"\n"
     ]
    },
    {
     "name": "stdout",
     "output_type": "stream",
     "text": [
      "ERROR number 98 in file /mnt/idms/PROJECTS/Lung/sinogram_Domi/spr_dose280/out/data_24924.csv\n"
     ]
    },
    {
     "name": "stderr",
     "output_type": "stream",
     "text": [
      "/home/andor/anaconda3/envs/CT4/lib/python3.6/site-packages/ipykernel_launcher.py:5: UserWarning: genfromtxt: Empty input file: \"/mnt/idms/PROJECTS/Lung/sinogram_Domi/spr_dose280/out/data_24925.csv\"\n",
      "  \"\"\"\n"
     ]
    },
    {
     "name": "stdout",
     "output_type": "stream",
     "text": [
      "ERROR number 99 in file /mnt/idms/PROJECTS/Lung/sinogram_Domi/spr_dose280/out/data_24925.csv\n"
     ]
    },
    {
     "name": "stderr",
     "output_type": "stream",
     "text": [
      "/home/andor/anaconda3/envs/CT4/lib/python3.6/site-packages/ipykernel_launcher.py:5: UserWarning: genfromtxt: Empty input file: \"/mnt/idms/PROJECTS/Lung/sinogram_Domi/spr_dose280/out/data_24926.csv\"\n",
      "  \"\"\"\n"
     ]
    },
    {
     "name": "stdout",
     "output_type": "stream",
     "text": [
      "ERROR number 100 in file /mnt/idms/PROJECTS/Lung/sinogram_Domi/spr_dose280/out/data_24926.csv\n"
     ]
    },
    {
     "name": "stderr",
     "output_type": "stream",
     "text": [
      "/home/andor/anaconda3/envs/CT4/lib/python3.6/site-packages/ipykernel_launcher.py:5: UserWarning: genfromtxt: Empty input file: \"/mnt/idms/PROJECTS/Lung/sinogram_Domi/spr_dose280/out/data_24927.csv\"\n",
      "  \"\"\"\n"
     ]
    },
    {
     "name": "stdout",
     "output_type": "stream",
     "text": [
      "ERROR number 101 in file /mnt/idms/PROJECTS/Lung/sinogram_Domi/spr_dose280/out/data_24927.csv\n",
      "Reading of 280 dose input has finished\n",
      "48167 views were read\n",
      "It took 5.725104339917501 minutes\n"
     ]
    }
   ],
   "source": [
    "doses=[\"020\",\"080\",\"280\"]\n",
    "used_doses=doses # OR [\"280\"]\n",
    "strips=dict()\n",
    "for dose in used_doses:\n",
    "    strips[dose]=get_strips(dose)#, max_cnt=3000)"
   ]
  },
  {
   "cell_type": "markdown",
   "id": "bc5af50f",
   "metadata": {},
   "source": [
    "### Defining sinogram creators"
   ]
  },
  {
   "cell_type": "code",
   "execution_count": null,
   "id": "ee0c5663",
   "metadata": {},
   "outputs": [],
   "source": [
    "ANGLES=720*2*2 #Number of views to use for a sinogram\n",
    "HALF_ANGLES=ANGLES//2\n",
    "PROJECTIONS=896\n",
    "HALF_PROJECTIONS=PROJECTIONS//2\n",
    "START_PERIOD=2 #From where to take the views for the sinogram. If x, then view number x*ANGLES is the first view to use.\n",
    "SMALL_R=518\n",
    "BIG_R=910\n",
    "FULL_CIRCLE=2*math.pi\n",
    "SEMI_CIRCLE=FULL_CIRCLE/2\n",
    "PERPENDICULAR_ANGLE=math.pi/2"
   ]
  },
  {
   "cell_type": "code",
   "execution_count": null,
   "id": "e438bdfd",
   "metadata": {},
   "outputs": [],
   "source": [
    "MAX_DISPLACEMENT=math.sqrt(SMALL_R**2-(BIG_R/2)**2)\n",
    "HALF_VIEW_ANGLE=math.asin(MAX_DISPLACEMENT/SMALL_R)\n",
    "VIEW_ANGLE=2*HALF_VIEW_ANGLE"
   ]
  },
  {
   "cell_type": "code",
   "execution_count": 16,
   "id": "83467687",
   "metadata": {},
   "outputs": [],
   "source": [
    "def plot_sinogram(sinogram, method, angle_range):\n",
    "    plt.figure()\n",
    "    plt.title(method)\n",
    "    plt.xlabel('angle (pixel)')\n",
    "    plt.ylabel('projection (pixel)')\n",
    "    #plt.xticks(np.arange(0.0, angle_range, step=30.0))\n",
    "    plt.imshow(sinogram,cmap=plt.cm.Greys_r)"
   ]
  },
  {
   "cell_type": "code",
   "execution_count": 9,
   "id": "ad91d3f2",
   "metadata": {},
   "outputs": [],
   "source": [
    "def create_sinogram_stupid_360(strips, shift=0):\n",
    "    sinogram = Image.new('L', (ANGLES,PROJECTIONS))\n",
    "    for idx in range(START_PERIOD*ANGLES+shift,(START_PERIOD+1)*ANGLES+shift):\n",
    "        strip=Image.fromarray(np.expand_dims(np.mean(np.array(strips[idx]),axis=0),axis=1))\n",
    "        i=idx-(START_PERIOD*ANGLES+shift)\n",
    "        sinogram.paste(strip, (i, 0))\n",
    "    plot_sinogram(sinogram,\"sinogram_stupid_360\",360)\n",
    "    return sinogram"
   ]
  },
  {
   "cell_type": "code",
   "execution_count": 10,
   "id": "0e98cf73",
   "metadata": {},
   "outputs": [],
   "source": [
    "def create_sinogram_stupid_180(strips):\n",
    "    sinogram = Image.new('L', (HALF_ANGLES,PROJECTIONS))\n",
    "    pixels=sinogram.load()\n",
    "    for idx in range(START_PERIOD*ANGLES,(START_PERIOD+1)*ANGLES):\n",
    "        strip=np.mean(np.array(strips[idx]),axis=0)\n",
    "        i=(idx-START_PERIOD*ANGLES)\n",
    "        for j in range(PROJECTIONS):\n",
    "            if(i<HALF_ANGLES):\n",
    "                pixels[i,j]+=int(strip[j]/2)\n",
    "            else:\n",
    "                pixels[i-HALF_ANGLES,PROJECTIONS-j-1]+=int(strip[j]/2)\n",
    "    plot_sinogram(sinogram,\"sinogram_stupid_180\",180)\n",
    "    return sinogram"
   ]
  },
  {
   "cell_type": "code",
   "execution_count": 11,
   "id": "79b38027",
   "metadata": {},
   "outputs": [],
   "source": [
    "def create_sinogram_stupid_full(strips):\n",
    "    num=len(strips)\n",
    "    sinogram = Image.new('L', (PROJECTIONS, num))\n",
    "    for i in range(num):\n",
    "        strip=Image.fromarray(np.expand_dims(np.mean(np.array(strips[i]),axis=0),axis=1))\n",
    "        sinogram.paste(strip, (i, 0))\n",
    "    plot_sinogram(sinogram,\"sinogram_stupid_full\",num)\n",
    "    return sinogram"
   ]
  },
  {
   "cell_type": "code",
   "execution_count": 12,
   "id": "a4bbd135",
   "metadata": {},
   "outputs": [],
   "source": [
    "def create_sinogram_intuitive_360(strips):\n",
    "    sinogram=Image.new('L',(ANGLES,PROJECTIONS))\n",
    "    pixels=sinogram.load()\n",
    "    for idx in range(START_PERIOD*ANGLES,(START_PERIOD+1)*ANGLES):\n",
    "        strip=np.mean(np.array(strips[idx]),axis=0)\n",
    "        i=idx-START_PERIOD*ANGLES\n",
    "        for j in range(PROJECTIONS):\n",
    "            pixels[(i+j)%ANGLES,j]=int(strip[j])\n",
    "    plot_sinogram(sinogram,\"sinogram_intuitive_360\",360)\n",
    "    return sinogram"
   ]
  },
  {
   "cell_type": "code",
   "execution_count": 13,
   "id": "c4182762",
   "metadata": {},
   "outputs": [],
   "source": [
    "def create_sinogram_intuitive_180(strips):\n",
    "    sinogram=Image.new('L',(HALF_ANGLES,PROJECTIONS))\n",
    "    pixels=sinogram.load()\n",
    "    for idx in range(START_PERIOD*ANGLES,(START_PERIOD+1)*ANGLES):\n",
    "        strip=np.mean(np.array(strips[idx]),axis=0)\n",
    "        i=idx-START_PERIOD*ANGLES\n",
    "        for j in range(PROJECTIONS):\n",
    "            pixels[(i+j)%HALF_ANGLES,j]=int(strip[j]/2)\n",
    "    plot_sinogram(sinogram,\"sinogram_intuitive_180\",180)\n",
    "    return sinogram"
   ]
  },
  {
   "cell_type": "code",
   "execution_count": 14,
   "id": "54ce705a",
   "metadata": {},
   "outputs": [],
   "source": [
    "def create_sinogram_intuitive_param_180(strips,slope):\n",
    "    sinogram=Image.new('L',(HALF_ANGLES,PROJECTIONS))\n",
    "    pixels=sinogram.load()\n",
    "    for idx in range(START_PERIOD*ANGLES,(START_PERIOD+1)*ANGLES):\n",
    "        strip=np.mean(np.array(strips[idx]),axis=0)\n",
    "        i=idx-START_PERIOD*ANGLES\n",
    "        for j in range(PROJECTIONS):\n",
    "            pixels[(i+j*slope)%HALF_ANGLES,j]=int(strip[j]/2)\n",
    "    plot_sinogram(sinogram,\"sinogram_intuitive_180\",180)\n",
    "    return sinogram"
   ]
  },
  {
   "cell_type": "code",
   "execution_count": 17,
   "id": "22fb41eb",
   "metadata": {},
   "outputs": [],
   "source": [
    "def my_round(v,maxi):\n",
    "    return min(maxi-1,round(v))"
   ]
  },
  {
   "cell_type": "code",
   "execution_count": 24,
   "id": "a3baf5d2",
   "metadata": {},
   "outputs": [],
   "source": [
    "def my_round_vec(v,maxi):\n",
    "    return np.minimum(np.round(v),maxi-1)"
   ]
  },
  {
   "cell_type": "code",
   "execution_count": 16,
   "id": "ff66cfec",
   "metadata": {},
   "outputs": [],
   "source": [
    "def create_sinogram_trigonometry_360(strips):\n",
    "    \n",
    "    sinogram=Image.new('L',(ANGLES,PROJECTIONS))#,color=128)\n",
    "    pixels=sinogram.load()\n",
    "    central_angles=np.linspace(0,FULL_CIRCLE,ANGLES)\n",
    "    displacement_angles=np.linspace(0,HALF_VIEW_ANGLE,HALF_PROJECTIONS,endpoint=False)\n",
    "    displacements=np.sin(displacement_angles)*SMALL_R\n",
    "    \n",
    "    \n",
    "    for idx in range(START_PERIOD*ANGLES,(START_PERIOD+1)*ANGLES):\n",
    "        \n",
    "        strip=np.min(np.array(strips[idx]),axis=0)\n",
    "        i=idx-START_PERIOD*ANGLES\n",
    "        \n",
    "        for j in range(HALF_PROJECTIONS):\n",
    "            angle_rad=(central_angles[i]+displacement_angles[j])%FULL_CIRCLE\n",
    "            angle_pixel=my_round(ANGLES*angle_rad/FULL_CIRCLE,ANGLES)\n",
    "            projection_pixel=my_round(HALF_PROJECTIONS+HALF_PROJECTIONS*(displacements[j]/MAX_DISPLACEMENT),PROJECTIONS)\n",
    "            pixels[angle_pixel,projection_pixel]=int(strip[HALF_PROJECTIONS+j])\n",
    "        \n",
    "        for j in range(HALF_PROJECTIONS):\n",
    "            angle_rad=(central_angles[i]-displacement_angles[j]+FULL_CIRCLE)%FULL_CIRCLE\n",
    "            angle_pixel=my_round(ANGLES*angle_rad/FULL_CIRCLE,ANGLES)\n",
    "            projection_pixel=my_round(HALF_PROJECTIONS-HALF_PROJECTIONS*(displacements[j]/MAX_DISPLACEMENT),PROJECTIONS)\n",
    "            pixels[angle_pixel,projection_pixel]=int(strip[HALF_PROJECTIONS-j])\n",
    "    \n",
    "    \n",
    "    plot_sinogram(sinogram, \"sinogram_trigonometry_360\",360)\n",
    "    return sinogram"
   ]
  },
  {
   "cell_type": "code",
   "execution_count": 17,
   "id": "8d5f601b",
   "metadata": {},
   "outputs": [],
   "source": [
    "def create_sinogram_trigonometry_reverse_360(strips):\n",
    "    \n",
    "    sinogram=Image.new('L',(ANGLES,PROJECTIONS))#,color=128)\n",
    "    pixels=sinogram.load()\n",
    "    central_angles=np.linspace(0,FULL_CIRCLE,ANGLES)\n",
    "    displacement_angles=np.linspace(0,HALF_VIEW_ANGLE,HALF_PROJECTIONS,endpoint=False)\n",
    "    displacements=np.sin(displacement_angles)*SMALL_R\n",
    "    \n",
    "    \n",
    "    for idx in range(START_PERIOD*ANGLES,(START_PERIOD+1)*ANGLES):\n",
    "        \n",
    "        strip=np.min(np.array(strips[idx]),axis=0)\n",
    "        i=idx-START_PERIOD*ANGLES\n",
    "        \n",
    "        for j in range(HALF_PROJECTIONS):\n",
    "            angle_rad=(central_angles[i]+displacement_angles[j])%FULL_CIRCLE\n",
    "            angle_pixel=my_round(ANGLES*angle_rad/FULL_CIRCLE,ANGLES)\n",
    "            projection_pixel=my_round(HALF_PROJECTIONS+HALF_PROJECTIONS*(displacements[j]/MAX_DISPLACEMENT),PROJECTIONS)\n",
    "            pixels[angle_pixel,projection_pixel]=int(strip[HALF_PROJECTIONS+j])\n",
    "        \n",
    "        for j in range(HALF_PROJECTIONS):\n",
    "            angle_rad=(central_angles[i]-displacement_angles[j]+FULL_CIRCLE)%FULL_CIRCLE\n",
    "            angle_pixel=my_round(ANGLES*angle_rad/FULL_CIRCLE,ANGLES)\n",
    "            projection_pixel=my_round(HALF_PROJECTIONS-HALF_PROJECTIONS*(displacements[j]/MAX_DISPLACEMENT),PROJECTIONS)\n",
    "            pixels[angle_pixel,projection_pixel]=int(strip[HALF_PROJECTIONS-j])\n",
    "    \n",
    "    \n",
    "    plot_sinogram(sinogram, \"sinogram_trigonometry_360\",360)\n",
    "    return sinogram"
   ]
  },
  {
   "cell_type": "code",
   "execution_count": 18,
   "id": "eab4fd5a",
   "metadata": {},
   "outputs": [],
   "source": [
    "def create_sinogram_trigonometry_normal(strips):\n",
    "    \n",
    "    sinogram=Image.new('L',(HALF_ANGLES,PROJECTIONS))#,color=128)\n",
    "    pixels=sinogram.load()\n",
    "    central_angles=np.linspace(0,FULL_CIRCLE,ANGLES)\n",
    "    displacement_angles=np.linspace(-HALF_VIEW_ANGLE,HALF_VIEW_ANGLE,PROJECTIONS,endpoint=False)  #[::-1]\n",
    "    displacements=np.sin(displacement_angles)*SMALL_R\n",
    "    \n",
    "    \n",
    "    for idx in range(START_PERIOD*ANGLES,(START_PERIOD+1)*ANGLES):\n",
    "        \n",
    "        strip=np.mean(np.array(strips[idx]),axis=0)\n",
    "        i=idx-START_PERIOD*ANGLES\n",
    "        \n",
    "        for j in range(PROJECTIONS):\n",
    "            normal_angle=(central_angles[i]+displacement_angles[j]+PERPENDICULAR_ANGLE)%FULL_CIRCLE\n",
    "            projection_dist=displacements[j]\n",
    "            if normal_angle > SEMI_CIRCLE+PERPENDICULAR_ANGLE:\n",
    "                normal_angle-=SEMI_CIRCLE\n",
    "                projection_dist*=(-1)\n",
    "            projection_pixel=my_round(PROJECTIONS*((projection_dist-MAX_DISPLACEMENT)/(2*MAX_DISPLACEMENT)),PROJECTIONS)\n",
    "            angle_pixel=my_round(HALF_ANGLES*(normal_angle/SEMI_CIRCLE),HALF_ANGLES)\n",
    "            pixels[angle_pixel,projection_pixel]+=int(strip[j]/2)\n",
    "            \n",
    "    plot_sinogram(sinogram, \"sinogram_trigonometry_normal\",180)\n",
    "    return sinogram"
   ]
  },
  {
   "cell_type": "code",
   "execution_count": 19,
   "id": "03fb5d29",
   "metadata": {},
   "outputs": [],
   "source": [
    "def create_sinogram_trigonometry_180(strips):\n",
    "    \n",
    "    sinogram=Image.new('L',(HALF_ANGLES,PROJECTIONS))#,color=128)\n",
    "    pixels=sinogram.load()\n",
    "    central_angles=np.linspace(0,FULL_CIRCLE,ANGLES)\n",
    "    displacement_angles=np.linspace(0,HALF_VIEW_ANGLE,HALF_PROJECTIONS,endpoint=False)\n",
    "    displacements=np.sin(displacement_angles)*SMALL_R\n",
    "    \n",
    "    \n",
    "    for idx in range(START_PERIOD*ANGLES,(START_PERIOD+1)*ANGLES):\n",
    "        \n",
    "        strip=np.mean(np.array(strips[idx]),axis=0)\n",
    "        i=idx-START_PERIOD*ANGLES\n",
    "        \n",
    "        for j in range(HALF_PROJECTIONS):\n",
    "            angle_rad=(central_angles[i]+displacement_angles[j])%FULL_CIRCLE\n",
    "            angle_pixel=my_round(HALF_ANGLES*angle_rad/FULL_CIRCLE,HALF_ANGLES)\n",
    "            projection_pixel=my_round(HALF_PROJECTIONS+HALF_PROJECTIONS*(displacements[j]/MAX_DISPLACEMENT),PROJECTIONS)\n",
    "            pixels[angle_pixel,projection_pixel]+=int(strip[HALF_PROJECTIONS+j]/2)\n",
    "        \n",
    "        for j in range(HALF_PROJECTIONS):\n",
    "            angle_rad=(central_angles[i]-displacement_angles[j]+FULL_CIRCLE)%FULL_CIRCLE\n",
    "            angle_pixel=my_round(HALF_ANGLES*angle_rad/FULL_CIRCLE,HALF_ANGLES)\n",
    "            projection_pixel=my_round(HALF_PROJECTIONS-HALF_PROJECTIONS*(displacements[j]/MAX_DISPLACEMENT),PROJECTIONS)\n",
    "            pixels[angle_pixel,projection_pixel]+=int(strip[HALF_PROJECTIONS-j]/2)\n",
    "    plot_sinogram(sinogram, \"sinogram_trigonometry_180\",180)\n",
    "    return sinogram"
   ]
  },
  {
   "cell_type": "code",
   "execution_count": null,
   "id": "cdd5902e",
   "metadata": {},
   "outputs": [],
   "source": [
    "def create_sinogram_trigonometry_reverse_old(strips):\n",
    "    \n",
    "    sinogram=Image.new('L',(HALF_ANGLES,PROJECTIONS),color=0)\n",
    "    pixels=sinogram.load()\n",
    "    \n",
    "    for angle_pixel in range(HALF_ANGLES):\n",
    "        theta=SEMI_CIRCLE*angle_pixel/HALF_ANGLES\n",
    "        for proj_pixel in range(PROJECTIONS):\n",
    "            s=-MAX_DISPLACEMENT+(proj_pixel/PROJECTIONS)*2*MAX_DISPLACEMENT\n",
    "            beta=math.asin(s/SMALL_R)\n",
    "            alpha=theta-beta\n",
    "            \n",
    "            P=my_round(PROJECTIONS*((HALF_VIEW_ANGLE+beta)/VIEW_ANGLE),PROJECTIONS)\n",
    "            V=my_round(HALF_ANGLES*(alpha/SEMI_CIRCLE),HALF_ANGLES)\n",
    "            val=np.mean(np.array(strips[START_PERIOD*ANGLES+V]),axis=0)[P]\n",
    "            \n",
    "            pixels[angle_pixel, my_round(PROJECTIONS-proj_pixel,PROJECTIONS)]=int(val)\n",
    "        \n",
    "            \n",
    "    plot_sinogram(sinogram, \"sinogram_trigonometry_reverse\",180)\n",
    "    return sinogram"
   ]
  },
  {
   "cell_type": "code",
   "execution_count": 21,
   "id": "f70df992",
   "metadata": {},
   "outputs": [],
   "source": [
    "def create_sinogram_trigonometry_reverse(strips):\n",
    "    \n",
    "    sinogram=Image.new('L',(HALF_ANGLES,PROJECTIONS),color=0)\n",
    "    pixels=sinogram.load()\n",
    "    \n",
    "    for angle_pixel in range(HALF_ANGLES):\n",
    "        theta=SEMI_CIRCLE*angle_pixel/HALF_ANGLES\n",
    "        for proj_pixel in range(PROJECTIONS):\n",
    "            s=-MAX_DISPLACEMENT+(proj_pixel/PROJECTIONS)*2*MAX_DISPLACEMENT\n",
    "            beta=math.asin(s/SMALL_R)\n",
    "            alpha=theta-beta\n",
    "            \n",
    "            P=my_round(PROJECTIONS*((HALF_VIEW_ANGLE+beta)/VIEW_ANGLE),PROJECTIONS)\n",
    "            V=my_round(HALF_ANGLES*(alpha/SEMI_CIRCLE),HALF_ANGLES)\n",
    "            val=np.mean(np.array(strips[START_PERIOD*ANGLES+V]),axis=0)[P]/2\n",
    "            \n",
    "            P_opposite=my_round(PROJECTIONS*((HALF_VIEW_ANGLE-beta)/VIEW_ANGLE),PROJECTIONS)\n",
    "            V_opposite=my_round(HALF_ANGLES*((alpha+SEMI_CIRCLE)/SEMI_CIRCLE),ANGLES)\n",
    "            val_opposite=np.mean(np.array(strips[START_PERIOD*ANGLES+V_opposite]),axis=0)[P_opposite]/2\n",
    "            \n",
    "            pixels[angle_pixel, my_round(PROJECTIONS-proj_pixel,PROJECTIONS)]=int(val+val_opposite)\n",
    "        \n",
    "            \n",
    "    plot_sinogram(sinogram, \"sinogram_trigonometry_reverse\",180)\n",
    "    return sinogram"
   ]
  },
  {
   "cell_type": "code",
   "execution_count": 32,
   "id": "db5a974b",
   "metadata": {},
   "outputs": [],
   "source": [
    "def create_sinogram_trigonometry_reverse_vectorized(strips): #Forget about it...\n",
    "    \n",
    "    sinogram=Image.new('L',(HALF_ANGLES,PROJECTIONS),color=0)\n",
    "    pixels=sinogram.load()\n",
    "    \n",
    "    angle_pixels=np.array(list(range(HALF_ANGLES)))\n",
    "    proj_pixels=np.array(list(range(PROJECTIONS)))\n",
    "    theta=angle_pixels*SEMI_CIRCLE/HALF_ANGLES\n",
    "    s=(proj_pixels/PROJECTIONS)*2*MAX_DISPLACEMENT-MAX_DISPLACEMENT\n",
    "\n",
    "    beta=np.arcsin(s/SMALL_R)\n",
    "    alpha=theta-beta\n",
    "            \n",
    "    P=my_round_vec(PROJECTIONS*((HALF_VIEW_ANGLE+beta)/VIEW_ANGLE),PROJECTIONS)\n",
    "    V=my_round_vec(HALF_ANGLES*(alpha/SEMI_CIRCLE),HALF_ANGLES)\n",
    "    val=np.mean(np.array(strips[START_PERIOD*ANGLES+V]),axis=0)[P]/2\n",
    "\n",
    "    P_opposite=my_round_vec(PROJECTIONS*((HALF_VIEW_ANGLE-beta)/VIEW_ANGLE),PROJECTIONS)\n",
    "    V_opposite=my_round_vec(HALF_ANGLES*((alpha+SEMI_CIRCLE)/SEMI_CIRCLE),ANGLES)\n",
    "    val_opposite=np.mean(np.array(strips[START_PERIOD*ANGLES+V_opposite]),axis=0)[P_opposite]/2\n",
    "\n",
    "    pixels[angle_pixel, my_round(PROJECTIONS-proj_pixel,PROJECTIONS)]=int(val+val_opposite)\n",
    "        \n",
    "            \n",
    "    plot_sinogram(sinogram, \"sinogram_trigonometry_reverse\",180)\n",
    "    return sinogram"
   ]
  },
  {
   "cell_type": "code",
   "execution_count": 39,
   "id": "94b5a111",
   "metadata": {},
   "outputs": [],
   "source": [
    "def set_pixel(inp):\n",
    "    (strips, pixels, angle_pixel, proj_pixel)=inp\n",
    "    \n",
    "    theta=SEMI_CIRCLE*angle_pixel/HALF_ANGLES\n",
    "    s=-MAX_DISPLACEMENT+(proj_pixel/PROJECTIONS)*2*MAX_DISPLACEMENT\n",
    "    \n",
    "    beta=math.asin(s/SMALL_R)\n",
    "    alpha=theta-beta\n",
    "\n",
    "    P=my_round(PROJECTIONS*((HALF_VIEW_ANGLE+beta)/VIEW_ANGLE),PROJECTIONS)\n",
    "    V=my_round(HALF_ANGLES*(alpha/SEMI_CIRCLE),HALF_ANGLES)\n",
    "    val=np.mean(np.array(strips[START_PERIOD*ANGLES+V]),axis=0)[P]/2\n",
    "\n",
    "    P_opposite=my_round(PROJECTIONS*((HALF_VIEW_ANGLE-beta)/VIEW_ANGLE),PROJECTIONS)\n",
    "    V_opposite=my_round(HALF_ANGLES*((alpha+SEMI_CIRCLE)/SEMI_CIRCLE),ANGLES)\n",
    "    val_opposite=np.mean(np.array(strips[START_PERIOD*ANGLES+V_opposite]),axis=0)[P_opposite]/2\n",
    "    \n",
    "    pixels[angle_pixel, my_round(PROJECTIONS-proj_pixel,PROJECTIONS)]=int(val+val_opposite)\n",
    "    \n",
    "\n",
    "def create_sinogram_parallel(strips, parallel_jobs=mp.cpu_count()): #VEEEEEERY SLOW, I DON'T HAVE A CLUE WHY\n",
    "    pixels=np.zeros((HALF_ANGLES,PROJECTIONS))\n",
    "    \n",
    "    with mp.Manager() as manager:\n",
    "        shared_pixels = manager.list(pixels)\n",
    "        pool = mp.Pool(parallel_jobs)\n",
    "        pixel_cnt=HALF_ANGLES*PROJECTIONS\n",
    "        idxs=list(itertools.product(list(range(HALF_ANGLES)),list(range(PROJECTIONS))))\n",
    "        angle_idxs=[x for (x,y) in idxs]\n",
    "        proj_idxs=[y for (x,y) in idxs]\n",
    "        pool.map(set_pixel, zip([strips]*pixel_cnt,[shared_pixels]*pixel_cnt,angle_idxs,proj_idxs))\n",
    "        pixels=np.array(list(shared_pixels))\n",
    "    \n",
    "    sinogram=Image.fromarray(pixels, mode='L')\n",
    "    plot_sinogram(sinogram, \"sinogram_trigonometry_reverse\",180)\n",
    "    return sinogram"
   ]
  },
  {
   "cell_type": "markdown",
   "id": "5d346a95",
   "metadata": {},
   "source": [
    "### Creating sinograms from views"
   ]
  },
  {
   "cell_type": "code",
   "execution_count": null,
   "id": "ce03661f",
   "metadata": {},
   "outputs": [],
   "source": [
    "sino=create_sinogram_parallel(strips[\"280\"])"
   ]
  },
  {
   "cell_type": "code",
   "execution_count": null,
   "id": "3c27570f",
   "metadata": {
    "scrolled": true
   },
   "outputs": [],
   "source": [
    "sinograms=dict()\n",
    "for dose, views in strips.items():\n",
    "    sinograms[dose]=create_sinogram_trigonometry_reverse(views)"
   ]
  },
  {
   "cell_type": "code",
   "execution_count": null,
   "id": "c2726c43",
   "metadata": {
    "scrolled": true
   },
   "outputs": [],
   "source": [
    "for method in [create_sinogram_stupid_360, create_sinogram_stupid_180, create_sinogram_intuitive_360, create_sinogram_intuitive_180, create_sinogram_trigonometry_360, create_sinogram_trigonometry_180]:\n",
    "    method(strips)"
   ]
  },
  {
   "cell_type": "code",
   "execution_count": null,
   "id": "6a71577f",
   "metadata": {},
   "outputs": [],
   "source": [
    "sinogram=create_sinogram_stupid_180(strips)"
   ]
  },
  {
   "cell_type": "code",
   "execution_count": null,
   "id": "cbdaa3bb",
   "metadata": {},
   "outputs": [],
   "source": [
    "sinogram=create_sinogram_trigonometry_360(strips)"
   ]
  },
  {
   "cell_type": "code",
   "execution_count": null,
   "id": "32d81f57",
   "metadata": {},
   "outputs": [],
   "source": [
    "sinogram.resize((1440, 896), Image.BICUBIC)"
   ]
  },
  {
   "cell_type": "markdown",
   "id": "40279099",
   "metadata": {},
   "source": [
    "## Image restoration / interpolation"
   ]
  },
  {
   "cell_type": "code",
   "execution_count": null,
   "id": "3ed7a951",
   "metadata": {},
   "outputs": [],
   "source": [
    "def remove_horizontal_lines(sinogram): #Might be needed if using trigonometry and rounding\n",
    "    gray = np.array(sinogram)\n",
    "    thresh = cv2.threshold(gray, 0, 255, cv2.THRESH_BINARY_INV + cv2.THRESH_OTSU)[1]\n",
    "\n",
    "    horizontal_kernel = cv2.getStructuringElement(cv2.MORPH_RECT, (25, 1))\n",
    "    detected_lines = cv2.morphologyEx(thresh, cv2.MORPH_OPEN,\n",
    "    horizontal_kernel, iterations=2)\n",
    "\n",
    "    cnts = cv2.findContours(detected_lines, cv2.RETR_EXTERNAL, cv2.CHAIN_APPROX_SIMPLE)\n",
    "    cnts = cnts[0] if len(cnts) == 2 else cnts[1]\n",
    "\n",
    "    for c in cnts:\n",
    "        cv2.drawContours(gray, [c], -1, 255, 2)\n",
    "\n",
    "    repair_kernel = cv2.getStructuringElement(cv2.MORPH_RECT, (1, 6))\n",
    "\n",
    "    result = 255 - cv2.morphologyEx(255 - gray, cv2.MORPH_CLOSE, repair_kernel,\n",
    "    iterations=1)\n",
    "\n",
    "    plt.imshow(result, cmap = 'gray')#, interpolation = 'bicubic')\n",
    "    return result"
   ]
  },
  {
   "cell_type": "code",
   "execution_count": null,
   "id": "01ffbb33",
   "metadata": {},
   "outputs": [],
   "source": [
    "def remove_horizontal_lines2(sinogram):\n",
    "    gray = np.array(sinogram)\n",
    "    thresh = cv2.threshold(gray, 0, 255, cv2.THRESH_BINARY_INV + cv2.THRESH_OTSU)[1]\n",
    "\n",
    "    # Remove horizontal\n",
    "    horizontal_kernel = cv2.getStructuringElement(cv2.MORPH_RECT, (100,1))\n",
    "    detected_lines = cv2.morphologyEx(thresh, cv2.MORPH_OPEN, horizontal_kernel, iterations=2)\n",
    "    #print(detected_lines)\n",
    "    cnts = cv2.findContours(detected_lines, cv2.RETR_EXTERNAL, cv2.CHAIN_APPROX_SIMPLE)\n",
    "    cnts = cnts[0] if len(cnts) == 2 else cnts[1]\n",
    "    for c in cnts:\n",
    "        cv2.drawContours(gray, [c], -1, 255, 2)\n",
    "\n",
    "    # Repair image\n",
    "    repair_kernel = cv2.getStructuringElement(cv2.MORPH_RECT, (1,6))\n",
    "    result = 255 - cv2.morphologyEx(255 - gray, cv2.MORPH_CLOSE, repair_kernel, iterations=1)\n",
    "\n",
    "    plt.imshow(result, cmap = 'gray')\n",
    "    plt.imshow(detected_lines, cmap='gray')\n",
    "    return result"
   ]
  },
  {
   "cell_type": "code",
   "execution_count": null,
   "id": "1144db3c",
   "metadata": {},
   "outputs": [],
   "source": [
    "def remove_horizontal_lines3(sinogram):\n",
    "    gray = np.array(sinogram)\n",
    "    edges = cv2.Canny(gray,50,150,apertureSize = 3)\n",
    "    lines = cv2.HoughLinesP(image=edges,rho=1,theta=np.pi/180, threshold=100,lines=np.array([]), minLineLength=100,maxLineGap=80)\n",
    "    a,b,c = lines.shape\n",
    "    for i in range(a):\n",
    "        #TODO: instead should smooth/interpolate these lines, not draw them in black, but I don't know how to do it.\n",
    "        cv2.line(gray, (lines[i][0][0], lines[i][0][1]), (lines[i][0][2], lines[i][0][3]), (0, 0, 255), 3, cv2.LINE_AA)\n",
    "    plt.imshow(gray, cmap='gray')"
   ]
  },
  {
   "cell_type": "code",
   "execution_count": null,
   "id": "a8b1b2ad",
   "metadata": {},
   "outputs": [],
   "source": [
    "remove_horizontal_lines3(sinogram)"
   ]
  },
  {
   "cell_type": "code",
   "execution_count": null,
   "id": "4ee6ac16",
   "metadata": {},
   "outputs": [],
   "source": [
    "remove_horizontal_lines3(sinogram)"
   ]
  },
  {
   "cell_type": "code",
   "execution_count": null,
   "id": "aa09ee51",
   "metadata": {},
   "outputs": [],
   "source": [
    "sinogram.resize((45, 56), Image.BICUBIC)"
   ]
  },
  {
   "cell_type": "code",
   "execution_count": null,
   "id": "ce07883e",
   "metadata": {},
   "outputs": [],
   "source": [
    "sinogram.filter(ImageFilter.GaussianBlur(1))"
   ]
  },
  {
   "cell_type": "code",
   "execution_count": null,
   "id": "c7b58d86",
   "metadata": {},
   "outputs": [],
   "source": [
    "sinogram.filter(ImageFilter.SMOOTH_MORE)"
   ]
  },
  {
   "cell_type": "markdown",
   "id": "ed2e9a4f",
   "metadata": {},
   "source": [
    "## Save nice results"
   ]
  },
  {
   "cell_type": "code",
   "execution_count": null,
   "id": "d7a55503",
   "metadata": {},
   "outputs": [],
   "source": [
    "sinogram.save(f\"/mnt/idms/PROJECTS/Lung/sinogram_Domi/spr_dose{dose}/best_sinogram.jpg\")"
   ]
  },
  {
   "cell_type": "markdown",
   "id": "953d14e5",
   "metadata": {},
   "source": [
    "## Inverse Radon"
   ]
  },
  {
   "cell_type": "code",
   "execution_count": 27,
   "id": "8ef97152",
   "metadata": {},
   "outputs": [],
   "source": [
    "theta = np.linspace(0, 180, 1440, endpoint=False)\n",
    "reconstruction_fbp = iradon(np.array(sinogram),theta=theta)#, output_size=128)#, circle=True)"
   ]
  },
  {
   "cell_type": "code",
   "execution_count": 24,
   "id": "79c50219",
   "metadata": {},
   "outputs": [
    {
     "data": {
      "image/png": "[encoded data removed]",
      "text/plain": [
       "<Figure size 432x288 with 1 Axes>"
      ]
     },
     "metadata": {
      "needs_background": "light"
     },
     "output_type": "display_data"
    }
   ],
   "source": [
    "plt.title(\"Reconstruction\\nFiltered back projection\")\n",
    "plt.imshow(reconstruction_fbp, cmap=plt.cm.Greys_r)\n",
    "plt.show()"
   ]
  },
  {
   "cell_type": "code",
   "execution_count": 33,
   "id": "2bcb95e8",
   "metadata": {},
   "outputs": [
    {
     "data": {
      "image/png": "[encoded data removed]",
      "text/plain": [
       "<Figure size 432x288 with 1 Axes>"
      ]
     },
     "metadata": {
      "needs_background": "light"
     },
     "output_type": "display_data"
    }
   ],
   "source": [
    "theta = np.linspace(0, 180, 1440, endpoint=False)\n",
    "reconstruction_fbp = iradon(np.array(sinogram_),theta=theta)#, output_size=128)#, circle=True)\n",
    "plt.title(\"Reconstruction\\nFiltered back projection\")\n",
    "plt.imshow(reconstruction_fbp, cmap=plt.cm.Greys_r)\n",
    "plt.show()"
   ]
  },
  {
   "cell_type": "markdown",
   "id": "e98f652e",
   "metadata": {},
   "source": [
    "## Further experiment"
   ]
  },
  {
   "cell_type": "markdown",
   "id": "aae000a8",
   "metadata": {},
   "source": [
    "### Adding shift"
   ]
  },
  {
   "cell_type": "code",
   "execution_count": null,
   "id": "17aeafea",
   "metadata": {},
   "outputs": [],
   "source": [
    "for i in np.asarray(np.linspace(0,2880,10)).astype(int):\n",
    "    print(i)\n",
    "    sinogram = create_sinogram_stupid_360(strips,shift=i)\n",
    "    theta = np.linspace(0, 360, 2880, endpoint=False)\n",
    "    reconstruction_fbp = iradon(np.array(sinogram),theta=theta, output_size=512)#, circle=True)\n",
    "    \n",
    "    plt.figure()\n",
    "    plt.title(\"Reconstruction\\nFiltered back projection\")\n",
    "    plt.imshow(reconstruction_fbp, cmap=plt.cm.Greys_r)\n",
    "    plt.show()"
   ]
  },
  {
   "cell_type": "code",
   "execution_count": null,
   "id": "a1c0ff5f",
   "metadata": {},
   "outputs": [],
   "source": [
    "for s in np.linspace(0,MAX_DISPLACEMENT,HALF_PROJECTIONS):\n",
    "    for theta in np.linspace(0,HALF_VIEW_ANGLE,HALF_ANGLES):\n",
    "        alpha=theta-math.asin(s/SMALL_R)\n",
    "        print(alpha)"
   ]
  },
  {
   "cell_type": "code",
   "execution_count": null,
   "id": "ee277748",
   "metadata": {},
   "outputs": [],
   "source": []
  }
 ],
 "metadata": {
  "kernelspec": {
   "display_name": "Python 3",
   "language": "python",
   "name": "python3"
  },
  "language_info": {
   "codemirror_mode": {
    "name": "ipython",
    "version": 3
   },
   "file_extension": ".py",
   "mimetype": "text/x-python",
   "name": "python",
   "nbconvert_exporter": "python",
   "pygments_lexer": "ipython3",
   "version": "3.6.13"
  }
 },
 "nbformat": 4,
 "nbformat_minor": 5
}
