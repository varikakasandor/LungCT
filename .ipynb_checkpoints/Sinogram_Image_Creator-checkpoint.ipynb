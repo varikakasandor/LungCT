{
 "cells": [
  {
   "cell_type": "code",
   "execution_count": 2,
   "id": "17a832bf",
   "metadata": {},
   "outputs": [],
   "source": [
    "import pandas as pd\n",
    "import multiprocessing as mp\n",
    "import glob\n",
    "import numpy as np\n",
    "import matplotlib.pyplot as plt\n",
    "\n",
    "from skimage.io import imread\n",
    "\n",
    "from skimage.data import shepp_logan_phantom\n",
    "from skimage.transform import radon, rescale\n",
    "\n",
    "import pickle\n",
    "import os\n",
    "\n",
    "from PIL import Image, ImageEnhance, ImageFilter\n",
    "\n",
    "from skimage.transform import iradon\n",
    "from skimage.transform import iradon_sart\n",
    "\n",
    "import math\n",
    "\n",
    "import time"
   ]
  },
  {
   "cell_type": "markdown",
   "id": "6238be58",
   "metadata": {},
   "source": [
    "### Multi-threaded reading of view measurements from csv"
   ]
  },
  {
   "cell_type": "code",
   "execution_count": null,
   "id": "91edf690",
   "metadata": {},
   "outputs": [
    {
     "name": "stdout",
     "output_type": "stream",
     "text": [
      "Reading of input started\n",
      "It will take approximately 5.0 minutes\n"
     ]
    },
    {
     "name": "stderr",
     "output_type": "stream",
     "text": [
      "/home/andor/anaconda3/envs/CT4/lib/python3.6/site-packages/ipykernel_launcher.py:17: UserWarning: genfromtxt: Empty input file: \"/mnt/idms/PROJECTS/Lung/sinogram_Domi/spr_dose020/out/data_48390.csv\"\n"
     ]
    },
    {
     "name": "stdout",
     "output_type": "stream",
     "text": [
      "ERROR at case number 48390 in file /mnt/idms/PROJECTS/Lung/sinogram_Domi/spr_dose020/out/data_48390.csv\n"
     ]
    },
    {
     "name": "stderr",
     "output_type": "stream",
     "text": [
      "/home/andor/anaconda3/envs/CT4/lib/python3.6/site-packages/ipykernel_launcher.py:17: UserWarning: genfromtxt: Empty input file: \"/mnt/idms/PROJECTS/Lung/sinogram_Domi/spr_dose020/out/data_48391.csv\"\n"
     ]
    },
    {
     "name": "stdout",
     "output_type": "stream",
     "text": [
      "ERROR at case number 48391 in file /mnt/idms/PROJECTS/Lung/sinogram_Domi/spr_dose020/out/data_48391.csv\n"
     ]
    }
   ],
   "source": [
    "cnt=0\n",
    "csv_paths=sorted(glob.glob(\"/mnt/idms/PROJECTS/Lung/sinogram_Domi/spr_dose020/out/*.csv\"),key=lambda x:int(x[59:-4]))\n",
    "max_cnt=len(csv_paths)\n",
    "#max_cnt=15000 #SHOULD BE REMOVED WHEN RUN ON ALL VIEWS\n",
    "\n",
    "start = time.time()\n",
    "print(\"Reading of input started\")\n",
    "print(f\"It will take approximately {5.0*max_cnt/len(csv_paths)} minutes\")\n",
    "\n",
    "with mp.Manager() as manager:    \n",
    "    strips = mp.Manager().list([None]*max_cnt)\n",
    "    def set_strip(inp):\n",
    "        (csv_path, idx)=inp\n",
    "        try:\n",
    "            arr=np.genfromtxt(csv_path,delimiter=',')\n",
    "            arr=np.exp(arr)\n",
    "            arr=np.clip(arr,0,255)\n",
    "            arr=np.uint8(arr)\n",
    "            im=Image.fromarray(arr)\n",
    "            strips[idx]=im\n",
    "        except:\n",
    "            print(f\"ERROR in file {csv_path}\")\n",
    "\n",
    "    pool = mp.Pool(mp.cpu_count())\n",
    "    pool.map(set_strip, zip(csv_paths[:max_cnt],range(max_cnt)))\n",
    "strips=list(strips)\n",
    "strips=list(filter(None, strips))\n",
    "\n",
    "end = time.time()\n",
    "print(\"Reading of input has finished\")\n",
    "print(f\"{len(strips)} views were read\")\n",
    "print(f\"It took {(end - start)/60} minutes\")"
   ]
  },
  {
   "cell_type": "markdown",
   "id": "bc5af50f",
   "metadata": {},
   "source": [
    "### Create sinogram from views"
   ]
  },
  {
   "cell_type": "code",
   "execution_count": null,
   "id": "ee0c5663",
   "metadata": {},
   "outputs": [],
   "source": [
    "ANGLES=720*2*2\n",
    "HALF_ANGLES=ANGLES//2\n",
    "PROJECTIONS=896\n",
    "HALF_PROJECTIONS=PROJECTIONS//2\n",
    "START_PERIOD=2\n",
    "SMALL_R=518\n",
    "BIG_R=910\n",
    "FULL_CIRCLE=2*math.pi\n",
    "SEMI_CIRCLE=FULL_CIRCLE/2"
   ]
  },
  {
   "cell_type": "code",
   "execution_count": null,
   "id": "e438bdfd",
   "metadata": {},
   "outputs": [],
   "source": [
    "MAX_DISPLACEMENT=math.sqrt(SMALL_R**2-(BIG_R/2)**2)\n",
    "HALF_VIEW_ANGLE=math.asin(MAX_DISPLACEMENT/SMALL_R)\n",
    "VIEW_ANGLE=2*HALF_VIEW_ANGLE"
   ]
  },
  {
   "cell_type": "code",
   "execution_count": null,
   "id": "83467687",
   "metadata": {},
   "outputs": [],
   "source": [
    "def plot(sinogram, method):\n",
    "    plt.figure()\n",
    "    plt.title(method)\n",
    "    plt.xlabel('angle (deg)')\n",
    "    plt.ylabel('projection (pixel)')\n",
    "    np.arange(0.0, 180.0, step=30.0)\n",
    "    plt.imshow(sinogram,cmap=plt.cm.Greys_r)"
   ]
  },
  {
   "cell_type": "code",
   "execution_count": null,
   "id": "ad91d3f2",
   "metadata": {},
   "outputs": [],
   "source": [
    "def create_sinogram_stupid_360(strips):\n",
    "    sinogram = Image.new('L', (ANGLES,PROJECTIONS))\n",
    "    for idx in range(START_PERIOD*ANGLES,(START_PERIOD+1)*ANGLES):\n",
    "        strip=Image.fromarray(np.expand_dims(np.mean(np.array(strips[idx]),axis=0),axis=1))\n",
    "        i=idx-START_PERIOD*ANGLES\n",
    "        sinogram.paste(strip, (i, 0))\n",
    "    plot(sinogram,\"sinogram_stupid_360\")\n",
    "    return sinogram"
   ]
  },
  {
   "cell_type": "code",
   "execution_count": null,
   "id": "0e98cf73",
   "metadata": {},
   "outputs": [],
   "source": [
    "def create_sinogram_stupid_180(strips):\n",
    "    sinogram = Image.new('L', (HALF_ANGLES,PROJECTIONS))\n",
    "    pixels=sinogram.load()\n",
    "    for idx in range(START_PERIOD*ANGLES,(START_PERIOD+1)*ANGLES):\n",
    "        strip=np.mean(np.array(strips[idx]),axis=0)\n",
    "        i=(idx-START_PERIOD*ANGLES)%HALF_ANGLES\n",
    "        for j in range(PROJECTIONS):\n",
    "            pixels[i,j]+=int(strip[j])\n",
    "    plot(sinogram,\"sinogram_stupid_180\")\n",
    "    return sinogram"
   ]
  },
  {
   "cell_type": "code",
   "execution_count": null,
   "id": "79b38027",
   "metadata": {},
   "outputs": [],
   "source": [
    "def create_sinogram_stupid_full(strips):\n",
    "    num=len(strips)\n",
    "    sinogram = Image.new('L', (PROJECTIONS, num))\n",
    "    for i in range(num):\n",
    "        strip=Image.fromarray(np.expand_dims(np.mean(np.array(strips[i]),axis=0),axis=1))\n",
    "        sinogram.paste(strip, (i, 0))\n",
    "    plot(sinogram,\"sinogram_stupid_full\")\n",
    "    return sinogram"
   ]
  },
  {
   "cell_type": "code",
   "execution_count": null,
   "id": "a4bbd135",
   "metadata": {},
   "outputs": [],
   "source": [
    "def create_sinogram_intuitive_360(strips):\n",
    "    sinogram=Image.new('L',(ANGLES,PROJECTIONS))\n",
    "    pixels=sinogram.load()\n",
    "    for idx in range(START_PERIOD*ANGLES,(START_PERIOD+1)*ANGLES):\n",
    "        strip=np.mean(np.array(strips[idx]),axis=0)\n",
    "        i=idx-START_PERIOD*ANGLES\n",
    "        for j in range(PROJECTIONS):\n",
    "            pixels[(i+j)%ANGLES,j]=int(strip[j])\n",
    "    plot(sinogram,\"sinogram_intuitive_360\")\n",
    "    return sinogram"
   ]
  },
  {
   "cell_type": "code",
   "execution_count": null,
   "id": "c4182762",
   "metadata": {},
   "outputs": [],
   "source": [
    "def create_sinogram_intuitive_180(strips):\n",
    "    sinogram=Image.new('L',(HALF_ANGLES,PROJECTIONS))\n",
    "    pixels=sinogram.load()\n",
    "    for idx in range(START_PERIOD*ANGLES,(START_PERIOD+1)*ANGLES):\n",
    "        strip=np.mean(np.array(strips[idx]),axis=0)\n",
    "        i=idx-START_PERIOD*ANGLES\n",
    "        for j in range(PROJECTIONS):\n",
    "            pixels[(i+j)%HALF_ANGLES,j]=int(strip[j])\n",
    "    plot(sinogram,\"sinogram_intuitive_180\")\n",
    "    return sinogram"
   ]
  },
  {
   "cell_type": "code",
   "execution_count": null,
   "id": "54ce705a",
   "metadata": {},
   "outputs": [],
   "source": [
    "def create_sinogram_intuitive_param(strips,slope):\n",
    "    sinogram=Image.new('L',(ANGLES,PROJECTIONS))\n",
    "    pixels=sinogram.load()\n",
    "    for idx in range(START_PERIOD*ANGLES,(START_PERIOD+1)*ANGLES):\n",
    "        strip=np.mean(np.array(strips[idx]),axis=0)\n",
    "        i=idx-START_PERIOD*ANGLES\n",
    "        for j in range(PROJECTIONS):\n",
    "            pixels[(int(i+slope*j))%ANGLES,j]=int(strip[j])\n",
    "    plot(sinogram,\"sinogram_intuitive_param\")\n",
    "    return sinogram"
   ]
  },
  {
   "cell_type": "code",
   "execution_count": null,
   "id": "22fb41eb",
   "metadata": {},
   "outputs": [],
   "source": [
    "def my_round(v,maxi):\n",
    "    return min(maxi-1,round(v))"
   ]
  },
  {
   "cell_type": "code",
   "execution_count": null,
   "id": "ff66cfec",
   "metadata": {},
   "outputs": [],
   "source": [
    "def create_sinogram_trigonometry_360(strips):\n",
    "    \n",
    "    sinogram=Image.new('L',(ANGLES,PROJECTIONS))#,color=128)\n",
    "    pixels=sinogram.load()\n",
    "    central_angles=np.linspace(0,FULL_CIRCLE,ANGLES)\n",
    "    displacement_angles=np.linspace(0,HALF_VIEW_ANGLE,HALF_PROJECTIONS,endpoint=False)\n",
    "    displacements=np.sin(displacement_angles)*SMALL_R\n",
    "    \n",
    "    \n",
    "    for idx in range(START_PERIOD*ANGLES,(START_PERIOD+1)*ANGLES):\n",
    "        \n",
    "        strip=np.min(np.array(strips[idx]),axis=0)\n",
    "        i=idx-START_PERIOD*ANGLES\n",
    "        \n",
    "        for j in range(HALF_PROJECTIONS):\n",
    "            angle_rad=(central_angles[i]+displacement_angles[j])%FULL_CIRCLE\n",
    "            angle_pixel=my_round(ANGLES*angle_rad/FULL_CIRCLE,ANGLES)\n",
    "            projection_pixel=my_round(HALF_PROJECTIONS+HALF_PROJECTIONS*(displacements[j]/MAX_DISPLACEMENT),PROJECTIONS)\n",
    "            pixels[angle_pixel,projection_pixel]=int(strip[HALF_PROJECTIONS+j])\n",
    "        \n",
    "        for j in range(HALF_PROJECTIONS):\n",
    "            angle_rad=(central_angles[i]-displacement_angles[j]+FULL_CIRCLE)%FULL_CIRCLE\n",
    "            angle_pixel=my_round(ANGLES*angle_rad/FULL_CIRCLE,ANGLES)\n",
    "            projection_pixel=my_round(HALF_PROJECTIONS-HALF_PROJECTIONS*(displacements[j]/MAX_DISPLACEMENT),PROJECTIONS)\n",
    "            pixels[angle_pixel,projection_pixel]=int(strip[HALF_PROJECTIONS-j])\n",
    "    \n",
    "    \n",
    "    plot(sinogram, \"sinogram_trigonometry_360\")\n",
    "    return sinogram"
   ]
  },
  {
   "cell_type": "code",
   "execution_count": null,
   "id": "03fb5d29",
   "metadata": {},
   "outputs": [],
   "source": [
    "def create_sinogram_trigonometry_180(strips):\n",
    "    \n",
    "    sinogram=Image.new('L',(HALF_ANGLES,PROJECTIONS),color=0)\n",
    "    pixels=sinogram.load()\n",
    "    central_angles=np.linspace(0,FULL_CIRCLE,ANGLES)\n",
    "    displacement_angles=np.linspace(0,HALF_VIEW_ANGLE,HALF_PROJECTIONS,endpoint=False)\n",
    "    displacements=np.sin(displacement_angles)*SMALL_R\n",
    "    \n",
    "    \n",
    "    for idx in range(START_PERIOD*ANGLES,(START_PERIOD+1)*ANGLES):\n",
    "        \n",
    "        strip=np.mean(np.array(strips[idx]),axis=0)\n",
    "        i=idx-START_PERIOD*ANGLES\n",
    "        \n",
    "        for j in range(HALF_PROJECTIONS):\n",
    "            angle_rad=(central_angles[i]+displacement_angles[j])%FULL_CIRCLE\n",
    "            angle_pixel=my_round(HALF_ANGLES*angle_rad/FULL_CIRCLE,HALF_ANGLES)\n",
    "            projection_pixel=my_round(HALF_PROJECTIONS+HALF_PROJECTIONS*(displacements[j]/MAX_DISPLACEMENT),PROJECTIONS)\n",
    "            pixels[angle_pixel,projection_pixel]+=int(strip[HALF_PROJECTIONS+j])\n",
    "        \n",
    "        for j in range(HALF_PROJECTIONS):\n",
    "            angle_rad=(central_angles[i]-displacement_angles[j]+FULL_CIRCLE)%FULL_CIRCLE\n",
    "            angle_pixel=my_round(HALF_ANGLES*angle_rad/FULL_CIRCLE,HALF_ANGLES)\n",
    "            projection_pixel=my_round(HALF_PROJECTIONS-HALF_PROJECTIONS*(displacements[j]/MAX_DISPLACEMENT),PROJECTIONS)\n",
    "            pixels[angle_pixel,projection_pixel]+=int(strip[HALF_PROJECTIONS-j])\n",
    "    plot(sinogram, \"sinogram_trigonometry_180\")\n",
    "    return sinogram"
   ]
  },
  {
   "cell_type": "markdown",
   "id": "5d346a95",
   "metadata": {},
   "source": [
    "### Comparing methods"
   ]
  },
  {
   "cell_type": "code",
   "execution_count": null,
   "id": "c2726c43",
   "metadata": {
    "scrolled": true
   },
   "outputs": [],
   "source": [
    "for method in [create_sinogram_stupid_360, create_sinogram_stupid_180, create_sinogram_intuitive_360, create_sinogram_intuitive_360, create_sinogram_trigonometry_360, create_sinogram_trigonometry_180]:\n",
    "    method(strips)"
   ]
  },
  {
   "cell_type": "code",
   "execution_count": null,
   "id": "6a71577f",
   "metadata": {},
   "outputs": [],
   "source": [
    "sinogram=create_sinogram_intuitive_180(strips)"
   ]
  },
  {
   "cell_type": "code",
   "execution_count": null,
   "id": "94e9a0e0",
   "metadata": {},
   "outputs": [],
   "source": [
    "sinogram=create_sinogram_trigonometry2(strips)"
   ]
  },
  {
   "cell_type": "code",
   "execution_count": null,
   "id": "2023c252",
   "metadata": {},
   "outputs": [],
   "source": [
    "sinogram=create_sinogram_trigonometry2(strips)"
   ]
  },
  {
   "cell_type": "code",
   "execution_count": null,
   "id": "ad680956",
   "metadata": {},
   "outputs": [],
   "source": [
    "sinogram=create_sinogram_trigonometry(strips)"
   ]
  },
  {
   "cell_type": "code",
   "execution_count": null,
   "id": "3adaacde",
   "metadata": {},
   "outputs": [],
   "source": [
    "sinogram=create_sinogram_stupid_180(strips)"
   ]
  },
  {
   "cell_type": "code",
   "execution_count": null,
   "id": "32d81f57",
   "metadata": {},
   "outputs": [],
   "source": [
    "sinogram.resize((720, 896), Image.BICUBIC)"
   ]
  },
  {
   "cell_type": "code",
   "execution_count": null,
   "id": "aa09ee51",
   "metadata": {},
   "outputs": [],
   "source": [
    "sinogram.resize((45, 56), Image.BICUBIC)"
   ]
  },
  {
   "cell_type": "code",
   "execution_count": null,
   "id": "ce07883e",
   "metadata": {},
   "outputs": [],
   "source": [
    "sinogram.filter(ImageFilter.GaussianBlur(1))"
   ]
  },
  {
   "cell_type": "code",
   "execution_count": null,
   "id": "c7b58d86",
   "metadata": {},
   "outputs": [],
   "source": [
    "sinogram.filter(ImageFilter.SMOOTH_MORE)"
   ]
  },
  {
   "cell_type": "code",
   "execution_count": null,
   "id": "df221cfb",
   "metadata": {},
   "outputs": [],
   "source": [
    "for method in [create_sinogram_stupid,create_sinogram_intuitive,create_sinogram_trigonometry]:\n",
    "    method(strips)\n",
    "#sinogram_stupid=create_sinogram_stupid(strips)"
   ]
  },
  {
   "cell_type": "code",
   "execution_count": null,
   "id": "7d015dae",
   "metadata": {},
   "outputs": [],
   "source": [
    "#sinogram.save(\"/mnt/idms/PROJECTS/Lung/sinogram_Domi/spr_dose020/first_sinogram.jpg\")"
   ]
  },
  {
   "cell_type": "code",
   "execution_count": null,
   "id": "fb1b45e5",
   "metadata": {},
   "outputs": [],
   "source": [
    "sinogram.show()"
   ]
  },
  {
   "cell_type": "markdown",
   "id": "953d14e5",
   "metadata": {},
   "source": [
    "### Inverse Radon"
   ]
  },
  {
   "cell_type": "code",
   "execution_count": null,
   "id": "3cad3b3d",
   "metadata": {},
   "outputs": [],
   "source": [
    "sino_arr=np.transpose(np.array(sinogram))\n",
    "sino_arr.shape"
   ]
  },
  {
   "cell_type": "code",
   "execution_count": null,
   "id": "8ef97152",
   "metadata": {},
   "outputs": [],
   "source": [
    "theta = np.linspace(0., 360., 1440, endpoint=False)\n",
    "reconstruction_fbp = iradon(np.array(sinogram))#, theta=theta, output_size=512)#, circle=True)"
   ]
  },
  {
   "cell_type": "code",
   "execution_count": null,
   "id": "176cc2cf",
   "metadata": {},
   "outputs": [],
   "source": [
    "plt.title(\"Reconstruction\\nFiltered back projection\")\n",
    "plt.imshow(reconstruction_fbp, cmap=plt.cm.Greys_r)\n",
    "plt.show()"
   ]
  },
  {
   "cell_type": "code",
   "execution_count": null,
   "id": "92bd6dc0",
   "metadata": {},
   "outputs": [],
   "source": [
    "2+3"
   ]
  },
  {
   "cell_type": "code",
   "execution_count": null,
   "id": "446f6de6",
   "metadata": {
    "scrolled": true
   },
   "outputs": [],
   "source": [
    "sinogram.show()"
   ]
  },
  {
   "cell_type": "code",
   "execution_count": null,
   "id": "e0e574cc",
   "metadata": {},
   "outputs": [],
   "source": [
    "np.max(np.array(sinogram))"
   ]
  },
  {
   "cell_type": "code",
   "execution_count": null,
   "id": "a56869bc",
   "metadata": {},
   "outputs": [],
   "source": []
  }
 ],
 "metadata": {
  "kernelspec": {
   "display_name": "Python 3",
   "language": "python",
   "name": "python3"
  },
  "language_info": {
   "codemirror_mode": {
    "name": "ipython",
    "version": 3
   },
   "file_extension": ".py",
   "mimetype": "text/x-python",
   "name": "python",
   "nbconvert_exporter": "python",
   "pygments_lexer": "ipython3",
   "version": "3.6.13"
  }
 },
 "nbformat": 4,
 "nbformat_minor": 5
}
