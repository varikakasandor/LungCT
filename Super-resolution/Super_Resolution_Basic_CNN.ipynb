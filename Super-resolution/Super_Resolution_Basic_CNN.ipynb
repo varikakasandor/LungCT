{
 "cells": [
  {
   "cell_type": "code",
   "execution_count": 1,
   "metadata": {},
   "outputs": [],
   "source": [
    "#Fundamentals\n",
    "import numpy as np\n",
    "import h5py\n",
    "import pandas as pd\n",
    "import matplotlib.pyplot as plt\n",
    "import random\n",
    "import math\n",
    "import pydicom\n",
    "\n",
    "#System\n",
    "import os\n",
    "import glob\n",
    "import time\n",
    "import multiprocess as mp\n",
    "import torch.multiprocessing as tmp\n",
    "import gc\n",
    "import copy\n",
    "\n",
    "#Pytorch\n",
    "import torch\n",
    "import torch.optim as optim\n",
    "import torch.nn as nn\n",
    "import torch.nn.functional as F\n",
    "from torchvision import transforms, utils\n",
    "from torch.utils.data import Dataset, DataLoader\n",
    "\n",
    "#Sklearn\n",
    "from sklearn.model_selection import train_test_split"
   ]
  },
  {
   "cell_type": "markdown",
   "metadata": {},
   "source": [
    "## Settings"
   ]
  },
  {
   "cell_type": "code",
   "execution_count": 2,
   "metadata": {},
   "outputs": [],
   "source": [
    "folder=\"/mnt/idms/PROJECTS/Lung/LungCT/Super-resolution\""
   ]
  },
  {
   "cell_type": "code",
   "execution_count": 3,
   "metadata": {},
   "outputs": [],
   "source": [
    "device = torch.device(\"cuda\" if torch.cuda.is_available() else \"cpu\")"
   ]
  },
  {
   "cell_type": "code",
   "execution_count": 4,
   "metadata": {},
   "outputs": [],
   "source": [
    "tmp.set_start_method('spawn',force='True')"
   ]
  },
  {
   "cell_type": "code",
   "execution_count": 5,
   "metadata": {},
   "outputs": [],
   "source": [
    "number_of_epochs = 80\n",
    "learning_rate = 0.05\n",
    "batch_size=16"
   ]
  },
  {
   "cell_type": "markdown",
   "metadata": {},
   "source": [
    "## Helper functions"
   ]
  },
  {
   "cell_type": "code",
   "execution_count": 34,
   "metadata": {},
   "outputs": [],
   "source": [
    "def plot_slices(ct_):\n",
    "    ct, path=ct_\n",
    "    print(path)\n",
    "    for sl in ct:\n",
    "        plt.figure()\n",
    "        plt.imshow(sl.pixel_array, cmap=\"gray\")\n",
    "        plt.show()"
   ]
  },
  {
   "cell_type": "markdown",
   "metadata": {},
   "source": [
    "## Reading of Ulyssys input data"
   ]
  },
  {
   "cell_type": "code",
   "execution_count": null,
   "metadata": {},
   "outputs": [],
   "source": [
    "def create_triplets_from_case(case_path, idx):\n",
    "    \"\"\"\n",
    "    Ideas for improvement:\n",
    "    -Why do we have to double the number of slices? Couldn't we predict not 1, but more in-between?\n",
    "    -Why to take just the neighbouring ones?\n",
    "    -Now the triplets are (1,2,3),(4,5,6),(7,8,9)..., but could get more triplets by (1,2,3), (2,3,4), (3,4,5)...\n",
    "    \"\"\"\n",
    "    npz=np.load(case_path)\n",
    "    ct=npz[npz.files[0]]\n",
    "    ct=np.moveaxis(ct,-1,0)\n",
    "    ct=ct[:(len(ct)-(len(ct)%3))]\n",
    "    case_triplets=np.asarray(np.split(ct,len(ct)//3))\n",
    "    case_triplets=(case_triplets-np.min(case_triplets))/(np.max(case_triplets)-np.min(case_triplets))\n",
    "    print(f\"Case {idx+1} is done\")\n",
    "    return case_triplets\n",
    "    \n",
    "def create_all_triplets(parallel_jobs=mp.cpu_count(), max_cases=None):#, save=False):\n",
    "    ct_path=\"/mnt/idms/PROJECTS/Lung/Tudo-Ulyssys-Unzipped\"\n",
    "    case_paths=list(glob.glob(f'{ct_path}/*/*.npz'))\n",
    "    if max_cases:\n",
    "        case_paths=case_paths[:max_cases]\n",
    "    with mp.Pool(parallel_jobs) as pool: #get_context(\"spawn\")\n",
    "        triplets = pool.starmap(create_triplets_from_case, zip(case_paths,list(range(len(case_paths)))))\n",
    "    pool.join() #Maybe helps\n",
    "\n",
    "    \"\"\"if save:\n",
    "        with h5py.File(f\"{folder}/data/input_data.h5\", 'w') as h5f:\n",
    "            h5f.create_dataset('triplets_per_patients', data=np.asarray(triplets))#, dtype=object))\n",
    "    \"\"\"\n",
    "    return triplets"
   ]
  },
  {
   "cell_type": "code",
   "execution_count": null,
   "metadata": {},
   "outputs": [],
   "source": [
    "%%time\n",
    "triplets=create_all_triplets(max_cases=1, parallel_jobs=5) #VEEEERY SLOW WITH MORE MAX_CASES, 5000 DOESN'T EVEN RUN\n",
    "#I COULDN'T FIND THE EXACT CAUSE, BUT IT CAN DEADLOCK WITH TOO MANY PARALLEL_JOBS AND MAX_CASES"
   ]
  },
  {
   "cell_type": "markdown",
   "metadata": {},
   "source": [
    "## Dataloaders"
   ]
  },
  {
   "cell_type": "code",
   "execution_count": null,
   "metadata": {},
   "outputs": [],
   "source": [
    "class Triplets(Dataset):\n",
    "    \n",
    "    def __init__(self, data, triplets_per_case=20, transform=None):\n",
    "        self.data = []\n",
    "        self.len=len(data)*triplets_per_case\n",
    "        for case in data:\n",
    "            self.data+=list(case[np.random.choice(case.shape[0], triplets_per_case, replace=False),:,:,:])\n",
    "        self.data=np.asarray(self.data)\n",
    "        self.transform = transform\n",
    "            \n",
    "        \n",
    "    def __getitem__(self, idx):\n",
    "        xs=(self.data[idx,0,:,:],self.data[idx,2,:,:])\n",
    "        y=self.data[idx,1,:,:]\n",
    "        if self.transform:\n",
    "            xs=tuple(self.transform(x) for x in xs)\n",
    "            y=self.transform(y)\n",
    "        return xs, y\n",
    "    \n",
    "    def __len__ (self):\n",
    "        return self.len"
   ]
  },
  {
   "cell_type": "code",
   "execution_count": null,
   "metadata": {},
   "outputs": [],
   "source": [
    "train_transform = transforms.Compose([ #Now composition is unnecessary, but maybe more transforms will be added\n",
    "    transforms.ToTensor()\n",
    "])\n",
    "\n",
    "test_transform = transforms.Compose([\n",
    "    transforms.ToTensor()\n",
    "])\n",
    "    \n",
    "train_dataset_raw, test_dataset_raw = train_test_split(triplets, test_size=0.2, shuffle=True)\n",
    "    \n",
    "train_dataset = Triplets(train_dataset_raw, transform=train_transform)\n",
    "train_loader = DataLoader(dataset=train_dataset, batch_size=batch_size, shuffle=True)\n",
    "    \n",
    "test_dataset = Triplets(test_dataset_raw, transform=test_transform)\n",
    "test_loader = DataLoader(dataset=test_dataset, batch_size=1, shuffle=False)"
   ]
  },
  {
   "cell_type": "markdown",
   "metadata": {},
   "source": [
    "## Neural network"
   ]
  },
  {
   "cell_type": "code",
   "execution_count": 9,
   "metadata": {},
   "outputs": [],
   "source": [
    "class ConvNet(nn.Module):\n",
    "    def __init__(self):\n",
    "        super(ConvNet, self).__init__()\n",
    "        self.conv1 = nn.Conv2d(1, 64, 9, padding = 4)\n",
    "        self.conv2 = nn.Conv2d(64, 32, 1, padding = 0)\n",
    "        self.conv3 = nn.Conv2d(32, 32, 5, padding = 2)\n",
    "        self.conv4 = nn.Conv2d(32, 1, 1, padding = 0)\n",
    "        \n",
    "    def forward(self, x1, x3):\n",
    "        x1 = F.selu(self.conv1(x1))\n",
    "        x1 = F.selu(self.conv2(x1))\n",
    "        x1 = F.selu(self.conv3(x1))\n",
    "        x3 = F.selu(self.conv1(x3))\n",
    "        x3 = F.selu(self.conv2(x3))\n",
    "        x3 = F.selu(self.conv3(x3))\n",
    "        out = torch.cat((x1, x3), dim=1)\n",
    "        out = F.selu(self.conv2(out))\n",
    "        out = F.selu(self.conv3(out))\n",
    "        out = F.selu(self.conv4(out))\n",
    "        return out"
   ]
  },
  {
   "cell_type": "markdown",
   "metadata": {},
   "source": [
    "## Training"
   ]
  },
  {
   "cell_type": "code",
   "execution_count": null,
   "metadata": {},
   "outputs": [],
   "source": [
    "def train_step(model,device,optimizer,criterion,train_loader, log_freq=5):\n",
    "    \n",
    "    for batch_idx, (xs, ys) in enumerate(train_loader):\n",
    "        xs=[x.to(device, dtype=torch.float) for x in xs]\n",
    "        ys=ys.to(device, dtype=torch.float)\n",
    "        outputs = model(xs[0],xs[1])\n",
    "        loss = criterion(outputs, ys)\n",
    "        optimizer.zero_grad()\n",
    "        loss.backward()\n",
    "        optimizer.step()\n",
    "        if batch_idx % log_freq == 0:\n",
    "            print(f\"Batch {batch_idx+1} / {len(train_loader)} | Loss = {loss.item()}\")"
   ]
  },
  {
   "cell_type": "code",
   "execution_count": null,
   "metadata": {},
   "outputs": [],
   "source": [
    "def evaluate(model,device=device,criterion=nn.SmoothL1Loss(),test_loader=test_loader, plot_result=False, plot_error=True):\n",
    "    #plot_error only applies if plot_result is True\n",
    "    total_loss=0\n",
    "    with torch.no_grad():\n",
    "        for batch_idx, (xs, ys) in enumerate(test_loader):\n",
    "            xs=[x.to(device, dtype=torch.float) for x in xs]\n",
    "            ys=ys.to(device, dtype=torch.float)\n",
    "            pred_tensor = model(xs[0],xs[1])\n",
    "            loss = criterion(pred_tensor, ys)\n",
    "            total_loss+=loss.item()\n",
    "            \n",
    "            if plot_result:\n",
    "                \n",
    "                pred_np=pred_tensor[0,0,:,:].cpu().detach().numpy()\n",
    "                x1_np=xs[0][0,0,:,:].cpu().detach().numpy()\n",
    "                x3_np=xs[1][0,0,:,:].cpu().detach().numpy()\n",
    "                y_np=ys[0,0,:,:].cpu().detach().numpy()\n",
    "                \n",
    "                components=5 if plot_error else 4\n",
    "                fig, axs = plt.subplots(1, components, figsize=(8*components,8))\n",
    "                axs[0].set_title(\"Previous\")\n",
    "                axs[1].set_title(\"Next\")\n",
    "                axs[2].set_title(\"Correct middle\")\n",
    "                axs[3].set_title(\"Predicted middle\")\n",
    "                \n",
    "                axs[0].imshow(x1_np,cmap=plt.cm.Greys_r)\n",
    "                axs[1].imshow(x3_np,cmap=plt.cm.Greys_r)\n",
    "                axs[2].imshow(y_np,cmap=plt.cm.Greys_r)\n",
    "                axs[3].imshow(pred_np,cmap=plt.cm.Greys_r)\n",
    "                \n",
    "                if plot_error:\n",
    "                    axs[4].set_title(\"Error\")\n",
    "                    axs[4].imshow(np.abs(pred_np-y_np),cmap=plt.cm.Greys_r)\n",
    "                \n",
    "                plt.show()\n",
    "                \n",
    "    avg_loss=total_loss/len(test_loader)\n",
    "    print(f\"The average test loss is {avg_loss}.\")\n",
    "    return avg_loss"
   ]
  },
  {
   "cell_type": "code",
   "execution_count": null,
   "metadata": {
    "scrolled": true
   },
   "outputs": [],
   "source": [
    "def train_model(model = ConvNet(), criterion = nn.SmoothL1Loss(), optimizer = optim.SGD,\n",
    "                  learning_rate=learning_rate, number_of_epochs=number_of_epochs,\n",
    "                  train_loader=train_loader, test_loader=test_loader,\n",
    "                  device=device, plot_loss=True):\n",
    "    \n",
    "    model=model.to(device)\n",
    "    optimizer=optimizer(model.parameters(),lr=learning_rate)\n",
    "    \n",
    "    best_sofar=None\n",
    "    test_losses=[]\n",
    "    \n",
    "    print(\"Training has started.\")\n",
    "    for epoch in range(number_of_epochs):\n",
    "        print(f\"EPOCH {epoch} HAS STARTED.\")\n",
    "        train_step(model,device,optimizer,criterion,train_loader)\n",
    "        test_loss=evaluate(model,device,criterion,test_loader)\n",
    "        test_losses.append(test_loss)\n",
    "        if not best_sofar or test_loss<best_sofar:\n",
    "            best_sofar=test_loss\n",
    "            print(f\"BEST TEST LOSS SO FAR HAS IMPROVED TO {test_loss}!\")\n",
    "    \n",
    "    if plot_loss:\n",
    "        plt.figure()\n",
    "        plt.title(\"Test losses\")\n",
    "        plt.plot(test_losses)\n",
    "        plt.show()\n",
    "    print(\"Training has finished.\")\n",
    "    return model"
   ]
  },
  {
   "cell_type": "code",
   "execution_count": null,
   "metadata": {},
   "outputs": [],
   "source": [
    "trained_model=train_model()"
   ]
  },
  {
   "cell_type": "markdown",
   "metadata": {},
   "source": [
    "## Saving the model"
   ]
  },
  {
   "cell_type": "code",
   "execution_count": null,
   "metadata": {},
   "outputs": [],
   "source": [
    "model_number=1\n",
    "base_models_path=\"/mnt/idms/PROJECTS/Lung/Super-resolution/models\"\n",
    "while os.path.exists(f\"{base_models_path}/{model_number}.pth\"):\n",
    "    model_number+=1\n",
    "torch.save(trained_model, f\"{base_models_path}/{model_number}.pth\")"
   ]
  },
  {
   "cell_type": "markdown",
   "metadata": {},
   "source": [
    "## Testing on same Ulyssys data"
   ]
  },
  {
   "cell_type": "code",
   "execution_count": null,
   "metadata": {},
   "outputs": [],
   "source": [
    "average_test_loss=evaluate(trained_model,plot_result=True)"
   ]
  },
  {
   "cell_type": "code",
   "execution_count": null,
   "metadata": {},
   "outputs": [],
   "source": [
    "for param in trained_model.parameters():\n",
    "    print(param.data)"
   ]
  },
  {
   "cell_type": "markdown",
   "metadata": {},
   "source": [
    "## Running on LIDC-IDRI data"
   ]
  },
  {
   "cell_type": "code",
   "execution_count": 5,
   "metadata": {},
   "outputs": [],
   "source": [
    "def create_slices_from_case(case_path):\n",
    "    print(f\"CT {case_path} has started\")\n",
    "    slice_paths=list(glob.glob(f'{case_path}/*'))\n",
    "    ct=[pydicom.dcmread(slice_path) for slice_path in slice_paths]\n",
    "    ct=sorted(ct, key=lambda x:x.SliceLocation)\n",
    "    print(f\"CT {case_path} is done\")\n",
    "    return ct, case_path"
   ]
  },
  {
   "cell_type": "code",
   "execution_count": 6,
   "metadata": {},
   "outputs": [],
   "source": [
    "def create_all_cases(parallel_jobs=mp.cpu_count(), max_cases=None):\n",
    "    ct_path=\"/mnt/idms/PROJECTS/Lung/LIDC-IDRI\"\n",
    "    case_paths=list(glob.glob(f'{ct_path}/*'))\n",
    "    if max_cases:\n",
    "        case_paths=case_paths[:max_cases]\n",
    "    with mp.Pool(parallel_jobs) as pool: #get_context(\"spawn\")\n",
    "        cases = pool.map(create_slices_from_case, case_paths)\n",
    "    pool.join() #Maybe helps\n",
    "\n",
    "    return cases"
   ]
  },
  {
   "cell_type": "code",
   "execution_count": 7,
   "metadata": {},
   "outputs": [
    {
     "name": "stdout",
     "output_type": "stream",
     "text": [
      "CT /mnt/idms/PROJECTS/Lung/LIDC-IDRI/LIDC-IDRI-0447 has started\n",
      "CT /mnt/idms/PROJECTS/Lung/LIDC-IDRI/LIDC-IDRI-0447 is done\n",
      "CPU times: user 785 ms, sys: 535 ms, total: 1.32 s\n",
      "Wall time: 11.3 s\n"
     ]
    }
   ],
   "source": [
    "%%time\n",
    "original_cts=create_all_cases(max_cases=1, parallel_jobs=1)"
   ]
  },
  {
   "cell_type": "code",
   "execution_count": 16,
   "metadata": {},
   "outputs": [
    {
     "data": {
      "text/plain": [
       "Dataset.file_meta -------------------------------\n",
       "(0002, 0000) File Meta Information Group Length  UL: 204\n",
       "(0002, 0001) File Meta Information Version       OB: b'\\x00\\x01'\n",
       "(0002, 0002) Media Storage SOP Class UID         UI: CT Image Storage\n",
       "(0002, 0003) Media Storage SOP Instance UID      UI: 1.3.6.1.4.1.14519.5.2.1.6279.6001.142768823987696751030166377050\n",
       "(0002, 0010) Transfer Syntax UID                 UI: Implicit VR Little Endian\n",
       "(0002, 0012) Implementation Class UID            UI: 1.3.6.1.4.1.22213.1.143\n",
       "(0002, 0013) Implementation Version Name         SH: '0.5'\n",
       "(0002, 0016) Source Application Entity Title     AE: 'POSDA'\n",
       "-------------------------------------------------\n",
       "(0008, 0005) Specific Character Set              CS: 'ISO_IR 100'\n",
       "(0008, 0008) Image Type                          CS: ['ORIGINAL', 'PRIMARY', 'AXIAL']\n",
       "(0008, 0012) Instance Creation Date              DA: '20000101'\n",
       "(0008, 0013) Instance Creation Time              TM: '095239'\n",
       "(0008, 0016) SOP Class UID                       UI: CT Image Storage\n",
       "(0008, 0018) SOP Instance UID                    UI: 1.3.6.1.4.1.14519.5.2.1.6279.6001.142768823987696751030166377050\n",
       "(0008, 0020) Study Date                          DA: '20000101'\n",
       "(0008, 0021) Series Date                         DA: '20000101'\n",
       "(0008, 0022) Acquisition Date                    DA: '20000101'\n",
       "(0008, 0023) Content Date                        DA: '20000101'\n",
       "(0008, 0024) Overlay Date                        DA: '20000101'\n",
       "(0008, 0025) Curve Date                          DA: '20000101'\n",
       "(0008, 002a) Acquisition DateTime                DT: '20000101'\n",
       "(0008, 0030) Study Time                          TM: '094901'\n",
       "(0008, 0031) Series Time                         TM: '095017'\n",
       "(0008, 0032) Acquisition Time                    TM: '095032'\n",
       "(0008, 0050) Accession Number                    SH: ''\n",
       "(0008, 0060) Modality                            CS: 'CT'\n",
       "(0008, 0070) Manufacturer                        LO: 'GE MEDICAL SYSTEMS'\n",
       "(0008, 0090) Referring Physician's Name          PN: ''\n",
       "(0008, 1010) Station Name                        SH: 'J014_OC0'\n",
       "(0008, 1030) Study Description                   LO: 'CT GUIDED LUNG B'\n",
       "(0008, 1090) Manufacturer's Model Name           LO: 'LightSpeed Ultra'\n",
       "(0010, 0010) Patient's Name                      PN: ''\n",
       "(0010, 0020) Patient ID                          LO: 'LIDC-IDRI-0447'\n",
       "(0010, 0030) Patient's Birth Date                DA: ''\n",
       "(0010, 0040) Patient's Sex                       CS: ''\n",
       "(0010, 21d0) Last Menstrual Date                 DA: '20000101'\n",
       "(0012, 0062) Patient Identity Removed            CS: 'YES'\n",
       "(0012, 0063) De-identification Method            LO: 'DCM:113100/113105/113107/113108/113109/113111'\n",
       "(0013, 0010) Private Creator                     LO: 'CTP'\n",
       "(0013, 1010) Private tag data                    UN: b'LIDC-IDRI '\n",
       "(0013, 1013) Private tag data                    UN: b'62796001'\n",
       "(0018, 0015) Body Part Examined                  CS: 'CHEST'\n",
       "(0018, 0022) Scan Options                        CS: 'HELICAL MODE'\n",
       "(0018, 0050) Slice Thickness                     DS: \"1.25\"\n",
       "(0018, 0060) KVP                                 DS: \"120.0\"\n",
       "(0018, 0090) Data Collection Diameter            DS: \"500.0\"\n",
       "(0018, 1020) Software Versions                   LO: 'LightSpeedApps308I.2_H3.1M5'\n",
       "(0018, 1030) Protocol Name                       LO: '5.13 LUNG SCREEN'\n",
       "(0018, 1100) Reconstruction Diameter             DS: \"281.0\"\n",
       "(0018, 1110) Distance Source to Detector         DS: \"949.075012\"\n",
       "(0018, 1111) Distance Source to Patient          DS: \"541.0\"\n",
       "(0018, 1120) Gantry/Detector Tilt                DS: \"0.0\"\n",
       "(0018, 1130) Table Height                        DS: \"157.0\"\n",
       "(0018, 1140) Rotation Direction                  CS: 'CW'\n",
       "(0018, 1150) Exposure Time                       IS: \"554\"\n",
       "(0018, 1151) X-Ray Tube Current                  IS: \"80\"\n",
       "(0018, 1152) Exposure                            IS: \"637\"\n",
       "(0018, 1160) Filter Type                         SH: 'BODY FILTER'\n",
       "(0018, 1170) Generator Power                     IS: \"9600\"\n",
       "(0018, 1190) Focal Spot(s)                       DS: \"0.7\"\n",
       "(0018, 1210) Convolution Kernel                  SH: 'BONE'\n",
       "(0018, 5100) Patient Position                    CS: 'HFS'\n",
       "(0020, 000d) Study Instance UID                  UI: 1.3.6.1.4.1.14519.5.2.1.6279.6001.377835929784075736831041456357\n",
       "(0020, 000e) Series Instance UID                 UI: 1.3.6.1.4.1.14519.5.2.1.6279.6001.109002525524522225658609808059\n",
       "(0020, 0010) Study ID                            SH: ''\n",
       "(0020, 0011) Series Number                       IS: \"2\"\n",
       "(0020, 0012) Acquisition Number                  IS: \"1\"\n",
       "(0020, 0013) Instance Number                     IS: \"161\"\n",
       "(0020, 0032) Image Position (Patient)            DS: [-187.699997, -108.300003, -194.000000]\n",
       "(0020, 0037) Image Orientation (Patient)         DS: [1.000000, 0.000000, 0.000000, 0.000000, 1.000000, 0.000000]\n",
       "(0020, 0052) Frame of Reference UID              UI: 1.3.6.1.4.1.14519.5.2.1.6279.6001.273993538288323061859070643273\n",
       "(0020, 1040) Position Reference Indicator        LO: 'SN'\n",
       "(0020, 1041) Slice Location                      DS: \"-194.0\"\n",
       "(0028, 0002) Samples per Pixel                   US: 1\n",
       "(0028, 0004) Photometric Interpretation          CS: 'MONOCHROME2'\n",
       "(0028, 0010) Rows                                US: 512\n",
       "(0028, 0011) Columns                             US: 512\n",
       "(0028, 0030) Pixel Spacing                       DS: [0.548828, 0.548828]\n",
       "(0028, 0100) Bits Allocated                      US: 16\n",
       "(0028, 0101) Bits Stored                         US: 16\n",
       "(0028, 0102) High Bit                            US: 15\n",
       "(0028, 0103) Pixel Representation                US: 1\n",
       "(0028, 0120) Pixel Padding Value                 SS: -2000\n",
       "(0028, 0303) Longitudinal Temporal Information M CS: 'MODIFIED'\n",
       "(0028, 1050) Window Center                       DS: \"40.0\"\n",
       "(0028, 1051) Window Width                        DS: \"350.0\"\n",
       "(0028, 1052) Rescale Intercept                   DS: \"-1024.0\"\n",
       "(0028, 1053) Rescale Slope                       DS: \"1.0\"\n",
       "(0038, 0020) Admitting Date                      DA: '20000101'\n",
       "(0040, 0002) Scheduled Procedure Step Start Date DA: '20000101'\n",
       "(0040, 0004) Scheduled Procedure Step End Date   DA: '20000101'\n",
       "(0040, 0244) Performed Procedure Step Start Date DA: '20000101'\n",
       "(0040, 2016) Placer Order Number / Imaging Servi LO: ''\n",
       "(0040, 2017) Filler Order Number / Imaging Servi LO: ''\n",
       "(0040, a075) Verifying Observer Name             PN: 'Removed by CTP'\n",
       "(0040, a123) Person Name                         PN: 'Removed by CTP'\n",
       "(0070, 0084) Content Creator's Name              PN: ''\n",
       "(7fe0, 0010) Pixel Data                          OW: Array of 524288 elements"
      ]
     },
     "execution_count": 16,
     "metadata": {},
     "output_type": "execute_result"
    }
   ],
   "source": [
    "original_cts[0][0][0]"
   ]
  },
  {
   "cell_type": "code",
   "execution_count": 10,
   "metadata": {},
   "outputs": [
    {
     "data": {
      "text/plain": [
       "ConvNet(\n",
       "  (conv1): Conv2d(1, 64, kernel_size=(9, 9), stride=(1, 1), padding=(4, 4))\n",
       "  (conv2): Conv2d(64, 32, kernel_size=(1, 1), stride=(1, 1))\n",
       "  (conv3): Conv2d(32, 32, kernel_size=(5, 5), stride=(1, 1), padding=(2, 2))\n",
       "  (conv4): Conv2d(32, 1, kernel_size=(1, 1), stride=(1, 1))\n",
       ")"
      ]
     },
     "execution_count": 10,
     "metadata": {},
     "output_type": "execute_result"
    }
   ],
   "source": [
    "loaded_model = torch.load(\"/mnt/idms/PROJECTS/Lung/LungCT/Super-resolution/models/4.pth\")\n",
    "loaded_model.eval()"
   ]
  },
  {
   "cell_type": "code",
   "execution_count": 11,
   "metadata": {},
   "outputs": [],
   "source": [
    "def create_super_resoluted(ct_):\n",
    "    path=ct_[1]\n",
    "    print(f\"{path} has started.\")\n",
    "    ct=ct_[0]\n",
    "    super_resoluted=[]\n",
    "    for i in range(len(ct)-1):\n",
    "        \n",
    "        super_resoluted.append(ct[i])\n",
    "        \n",
    "        \n",
    "        x1=transforms.ToTensor()(ct[i].pixel_array.astype(np.int16))\n",
    "        x1=x1.unsqueeze(0)\n",
    "        x1=x1.to(device, dtype=torch.float)\n",
    "        prev_min=torch.min(x1).item()\n",
    "        prev_max=torch.max(x1).item()\n",
    "        x1=(x1-prev_min)/(prev_max-prev_min)\n",
    "        \n",
    "        x2=transforms.ToTensor()(ct[i+1].pixel_array.astype(np.int16))\n",
    "        x2=x2.unsqueeze(0)\n",
    "        x2=x2.to(device, dtype=torch.float)\n",
    "        x2=(x2-torch.min(x2))/(torch.max(x2)-torch.min(x2))\n",
    "        \n",
    "        \n",
    "        res=loaded_model(x1,x2)\n",
    "        res_np=res.detach().cpu().squeeze().numpy()\n",
    "        res_np=(prev_max-prev_min)*res_np+prev_min\n",
    "        \n",
    "        middle=copy.deepcopy(ct[i])\n",
    "        middle.SliceLocation=(float(ct[i].SliceLocation)+float(ct[i+1].SliceLocation))/2\n",
    "        middle.PixelData=res_np.astype(np.int16).tobytes()\n",
    "        \n",
    "        super_resoluted.append(middle)\n",
    "        \n",
    "        \n",
    "        del x1\n",
    "        del x2\n",
    "        del res\n",
    "        torch.cuda.empty_cache()\n",
    "    \n",
    "    super_resoluted.append(ct[-1])\n",
    "    for sl in super_resoluted:\n",
    "        sl.SliceThickness=float(sl.SliceThickness)/2\n",
    "        \n",
    "    \n",
    "    print(f\"{path} is done.\")\n",
    "    return super_resoluted, path"
   ]
  },
  {
   "cell_type": "code",
   "execution_count": 20,
   "metadata": {},
   "outputs": [],
   "source": [
    "def create_all_super_resoluted_cts_parallel(original_cts, parallel_jobs=tmp.cpu_count()):\n",
    "    #MULTIPROCESSING AND PYTORCH MULTIPROCESSING DON'T WORK IN JUPYTER NOTEBOOK SOMETIMES\n",
    "    with tmp.Pool(parallel_jobs) as pool:\n",
    "        super_resoluted_cts = pool.starmap(create_super_resoluted, original_cts)\n",
    "    pool.join()\n",
    "    return super_resoluted_cts\n",
    "\n",
    "def create_all_super_resoluted_cts_sequential(original_cts):\n",
    "    super_resoluted_cts=[]\n",
    "    for ct in original_cts:\n",
    "        curr=create_super_resoluted(ct)\n",
    "        super_resoluted_cts.append(curr)\n",
    "    return super_resoluted_cts"
   ]
  },
  {
   "cell_type": "code",
   "execution_count": 21,
   "metadata": {},
   "outputs": [
    {
     "name": "stdout",
     "output_type": "stream",
     "text": [
      "/mnt/idms/PROJECTS/Lung/LIDC-IDRI/LIDC-IDRI-0447 has started.\n",
      "/mnt/idms/PROJECTS/Lung/LIDC-IDRI/LIDC-IDRI-0447 is done.\n",
      "/mnt/idms/PROJECTS/Lung/LIDC-IDRI/LIDC-IDRI-0831 has started.\n",
      "/mnt/idms/PROJECTS/Lung/LIDC-IDRI/LIDC-IDRI-0831 is done.\n",
      "/mnt/idms/PROJECTS/Lung/LIDC-IDRI/LIDC-IDRI-0564 has started.\n",
      "/mnt/idms/PROJECTS/Lung/LIDC-IDRI/LIDC-IDRI-0564 is done.\n",
      "/mnt/idms/PROJECTS/Lung/LIDC-IDRI/LIDC-IDRI-0723 has started.\n",
      "/mnt/idms/PROJECTS/Lung/LIDC-IDRI/LIDC-IDRI-0723 is done.\n",
      "/mnt/idms/PROJECTS/Lung/LIDC-IDRI/LIDC-IDRI-0632 has started.\n",
      "/mnt/idms/PROJECTS/Lung/LIDC-IDRI/LIDC-IDRI-0632 is done.\n",
      "/mnt/idms/PROJECTS/Lung/LIDC-IDRI/LIDC-IDRI-0135 has started.\n",
      "/mnt/idms/PROJECTS/Lung/LIDC-IDRI/LIDC-IDRI-0135 is done.\n",
      "/mnt/idms/PROJECTS/Lung/LIDC-IDRI/LIDC-IDRI-0415 has started.\n",
      "/mnt/idms/PROJECTS/Lung/LIDC-IDRI/LIDC-IDRI-0415 is done.\n",
      "/mnt/idms/PROJECTS/Lung/LIDC-IDRI/LIDC-IDRI-0403 has started.\n",
      "/mnt/idms/PROJECTS/Lung/LIDC-IDRI/LIDC-IDRI-0403 is done.\n",
      "/mnt/idms/PROJECTS/Lung/LIDC-IDRI/LIDC-IDRI-0601 has started.\n",
      "/mnt/idms/PROJECTS/Lung/LIDC-IDRI/LIDC-IDRI-0601 is done.\n",
      "/mnt/idms/PROJECTS/Lung/LIDC-IDRI/LIDC-IDRI-0229 has started.\n",
      "/mnt/idms/PROJECTS/Lung/LIDC-IDRI/LIDC-IDRI-0229 is done.\n",
      "/mnt/idms/PROJECTS/Lung/LIDC-IDRI/LIDC-IDRI-0577 has started.\n",
      "/mnt/idms/PROJECTS/Lung/LIDC-IDRI/LIDC-IDRI-0577 is done.\n",
      "/mnt/idms/PROJECTS/Lung/LIDC-IDRI/LIDC-IDRI-0022 has started.\n",
      "/mnt/idms/PROJECTS/Lung/LIDC-IDRI/LIDC-IDRI-0022 is done.\n",
      "/mnt/idms/PROJECTS/Lung/LIDC-IDRI/LIDC-IDRI-0055 has started.\n",
      "/mnt/idms/PROJECTS/Lung/LIDC-IDRI/LIDC-IDRI-0055 is done.\n",
      "/mnt/idms/PROJECTS/Lung/LIDC-IDRI/LIDC-IDRI-0141 has started.\n",
      "/mnt/idms/PROJECTS/Lung/LIDC-IDRI/LIDC-IDRI-0141 is done.\n",
      "/mnt/idms/PROJECTS/Lung/LIDC-IDRI/LIDC-IDRI-0190 has started.\n",
      "/mnt/idms/PROJECTS/Lung/LIDC-IDRI/LIDC-IDRI-0190 is done.\n",
      "/mnt/idms/PROJECTS/Lung/LIDC-IDRI/LIDC-IDRI-0436 has started.\n",
      "/mnt/idms/PROJECTS/Lung/LIDC-IDRI/LIDC-IDRI-0436 is done.\n",
      "/mnt/idms/PROJECTS/Lung/LIDC-IDRI/LIDC-IDRI-0234 has started.\n",
      "/mnt/idms/PROJECTS/Lung/LIDC-IDRI/LIDC-IDRI-0234 is done.\n",
      "/mnt/idms/PROJECTS/Lung/LIDC-IDRI/LIDC-IDRI-0690 has started.\n",
      "/mnt/idms/PROJECTS/Lung/LIDC-IDRI/LIDC-IDRI-0690 is done.\n",
      "/mnt/idms/PROJECTS/Lung/LIDC-IDRI/LIDC-IDRI-0528 has started.\n",
      "/mnt/idms/PROJECTS/Lung/LIDC-IDRI/LIDC-IDRI-0528 is done.\n",
      "/mnt/idms/PROJECTS/Lung/LIDC-IDRI/LIDC-IDRI-0251 has started.\n",
      "/mnt/idms/PROJECTS/Lung/LIDC-IDRI/LIDC-IDRI-0251 is done.\n",
      "/mnt/idms/PROJECTS/Lung/LIDC-IDRI/LIDC-IDRI-0269 has started.\n",
      "/mnt/idms/PROJECTS/Lung/LIDC-IDRI/LIDC-IDRI-0269 is done.\n",
      "/mnt/idms/PROJECTS/Lung/LIDC-IDRI/LIDC-IDRI-0702 has started.\n",
      "/mnt/idms/PROJECTS/Lung/LIDC-IDRI/LIDC-IDRI-0702 is done.\n",
      "/mnt/idms/PROJECTS/Lung/LIDC-IDRI/LIDC-IDRI-0231 has started.\n",
      "/mnt/idms/PROJECTS/Lung/LIDC-IDRI/LIDC-IDRI-0231 is done.\n",
      "/mnt/idms/PROJECTS/Lung/LIDC-IDRI/LIDC-IDRI-0770 has started.\n",
      "/mnt/idms/PROJECTS/Lung/LIDC-IDRI/LIDC-IDRI-0770 is done.\n",
      "/mnt/idms/PROJECTS/Lung/LIDC-IDRI/LIDC-IDRI-0710 has started.\n",
      "/mnt/idms/PROJECTS/Lung/LIDC-IDRI/LIDC-IDRI-0710 is done.\n",
      "/mnt/idms/PROJECTS/Lung/LIDC-IDRI/LIDC-IDRI-0389 has started.\n",
      "/mnt/idms/PROJECTS/Lung/LIDC-IDRI/LIDC-IDRI-0389 is done.\n",
      "/mnt/idms/PROJECTS/Lung/LIDC-IDRI/LIDC-IDRI-0481 has started.\n",
      "/mnt/idms/PROJECTS/Lung/LIDC-IDRI/LIDC-IDRI-0481 is done.\n",
      "/mnt/idms/PROJECTS/Lung/LIDC-IDRI/LIDC-IDRI-0852 has started.\n",
      "/mnt/idms/PROJECTS/Lung/LIDC-IDRI/LIDC-IDRI-0852 is done.\n",
      "/mnt/idms/PROJECTS/Lung/LIDC-IDRI/LIDC-IDRI-0745 has started.\n",
      "/mnt/idms/PROJECTS/Lung/LIDC-IDRI/LIDC-IDRI-0745 is done.\n",
      "/mnt/idms/PROJECTS/Lung/LIDC-IDRI/LIDC-IDRI-0946 has started.\n",
      "/mnt/idms/PROJECTS/Lung/LIDC-IDRI/LIDC-IDRI-0946 is done.\n",
      "/mnt/idms/PROJECTS/Lung/LIDC-IDRI/LIDC-IDRI-0942 has started.\n",
      "/mnt/idms/PROJECTS/Lung/LIDC-IDRI/LIDC-IDRI-0942 is done.\n",
      "/mnt/idms/PROJECTS/Lung/LIDC-IDRI/LIDC-IDRI-0725 has started.\n",
      "/mnt/idms/PROJECTS/Lung/LIDC-IDRI/LIDC-IDRI-0725 is done.\n",
      "/mnt/idms/PROJECTS/Lung/LIDC-IDRI/LIDC-IDRI-0543 has started.\n",
      "/mnt/idms/PROJECTS/Lung/LIDC-IDRI/LIDC-IDRI-0543 is done.\n",
      "/mnt/idms/PROJECTS/Lung/LIDC-IDRI/LIDC-IDRI-0151 has started.\n",
      "/mnt/idms/PROJECTS/Lung/LIDC-IDRI/LIDC-IDRI-0151 is done.\n",
      "/mnt/idms/PROJECTS/Lung/LIDC-IDRI/LIDC-IDRI-0796 has started.\n",
      "/mnt/idms/PROJECTS/Lung/LIDC-IDRI/LIDC-IDRI-0796 is done.\n",
      "/mnt/idms/PROJECTS/Lung/LIDC-IDRI/LIDC-IDRI-0192 has started.\n",
      "/mnt/idms/PROJECTS/Lung/LIDC-IDRI/LIDC-IDRI-0192 is done.\n",
      "/mnt/idms/PROJECTS/Lung/LIDC-IDRI/LIDC-IDRI-0968 has started.\n",
      "/mnt/idms/PROJECTS/Lung/LIDC-IDRI/LIDC-IDRI-0968 is done.\n",
      "/mnt/idms/PROJECTS/Lung/LIDC-IDRI/LIDC-IDRI-0895 has started.\n",
      "/mnt/idms/PROJECTS/Lung/LIDC-IDRI/LIDC-IDRI-0895 is done.\n",
      "/mnt/idms/PROJECTS/Lung/LIDC-IDRI/LIDC-IDRI-0595 has started.\n",
      "/mnt/idms/PROJECTS/Lung/LIDC-IDRI/LIDC-IDRI-0595 is done.\n",
      "/mnt/idms/PROJECTS/Lung/LIDC-IDRI/LIDC-IDRI-0663 has started.\n",
      "/mnt/idms/PROJECTS/Lung/LIDC-IDRI/LIDC-IDRI-0663 is done.\n",
      "/mnt/idms/PROJECTS/Lung/LIDC-IDRI/LIDC-IDRI-0299 has started.\n",
      "/mnt/idms/PROJECTS/Lung/LIDC-IDRI/LIDC-IDRI-0299 is done.\n",
      "/mnt/idms/PROJECTS/Lung/LIDC-IDRI/LIDC-IDRI-0883 has started.\n",
      "/mnt/idms/PROJECTS/Lung/LIDC-IDRI/LIDC-IDRI-0883 is done.\n",
      "/mnt/idms/PROJECTS/Lung/LIDC-IDRI/LIDC-IDRI-0712 has started.\n",
      "/mnt/idms/PROJECTS/Lung/LIDC-IDRI/LIDC-IDRI-0712 is done.\n",
      "/mnt/idms/PROJECTS/Lung/LIDC-IDRI/LIDC-IDRI-0825 has started.\n",
      "/mnt/idms/PROJECTS/Lung/LIDC-IDRI/LIDC-IDRI-0825 is done.\n",
      "/mnt/idms/PROJECTS/Lung/LIDC-IDRI/LIDC-IDRI-0121 has started.\n",
      "/mnt/idms/PROJECTS/Lung/LIDC-IDRI/LIDC-IDRI-0121 is done.\n",
      "/mnt/idms/PROJECTS/Lung/LIDC-IDRI/LIDC-IDRI-0900 has started.\n",
      "/mnt/idms/PROJECTS/Lung/LIDC-IDRI/LIDC-IDRI-0900 is done.\n",
      "/mnt/idms/PROJECTS/Lung/LIDC-IDRI/LIDC-IDRI-0830 has started.\n",
      "/mnt/idms/PROJECTS/Lung/LIDC-IDRI/LIDC-IDRI-0830 is done.\n",
      "/mnt/idms/PROJECTS/Lung/LIDC-IDRI/LIDC-IDRI-0768 has started.\n",
      "/mnt/idms/PROJECTS/Lung/LIDC-IDRI/LIDC-IDRI-0768 is done.\n",
      "/mnt/idms/PROJECTS/Lung/LIDC-IDRI/LIDC-IDRI-0400 has started.\n",
      "/mnt/idms/PROJECTS/Lung/LIDC-IDRI/LIDC-IDRI-0400 is done.\n",
      "/mnt/idms/PROJECTS/Lung/LIDC-IDRI/LIDC-IDRI-0658 has started.\n",
      "/mnt/idms/PROJECTS/Lung/LIDC-IDRI/LIDC-IDRI-0658 is done.\n",
      "/mnt/idms/PROJECTS/Lung/LIDC-IDRI/LIDC-IDRI-0195 has started.\n",
      "/mnt/idms/PROJECTS/Lung/LIDC-IDRI/LIDC-IDRI-0195 is done.\n",
      "/mnt/idms/PROJECTS/Lung/LIDC-IDRI/LIDC-IDRI-0479 has started.\n",
      "/mnt/idms/PROJECTS/Lung/LIDC-IDRI/LIDC-IDRI-0479 is done.\n",
      "/mnt/idms/PROJECTS/Lung/LIDC-IDRI/LIDC-IDRI-0970 has started.\n",
      "/mnt/idms/PROJECTS/Lung/LIDC-IDRI/LIDC-IDRI-0970 is done.\n",
      "/mnt/idms/PROJECTS/Lung/LIDC-IDRI/LIDC-IDRI-0289 has started.\n",
      "/mnt/idms/PROJECTS/Lung/LIDC-IDRI/LIDC-IDRI-0289 is done.\n",
      "/mnt/idms/PROJECTS/Lung/LIDC-IDRI/LIDC-IDRI-0549 has started.\n",
      "/mnt/idms/PROJECTS/Lung/LIDC-IDRI/LIDC-IDRI-0549 is done.\n",
      "/mnt/idms/PROJECTS/Lung/LIDC-IDRI/LIDC-IDRI-0442 has started.\n",
      "/mnt/idms/PROJECTS/Lung/LIDC-IDRI/LIDC-IDRI-0442 is done.\n",
      "/mnt/idms/PROJECTS/Lung/LIDC-IDRI/LIDC-IDRI-0667 has started.\n",
      "/mnt/idms/PROJECTS/Lung/LIDC-IDRI/LIDC-IDRI-0667 is done.\n",
      "/mnt/idms/PROJECTS/Lung/LIDC-IDRI/LIDC-IDRI-0009 has started.\n",
      "/mnt/idms/PROJECTS/Lung/LIDC-IDRI/LIDC-IDRI-0009 is done.\n",
      "/mnt/idms/PROJECTS/Lung/LIDC-IDRI/LIDC-IDRI-0064 has started.\n",
      "/mnt/idms/PROJECTS/Lung/LIDC-IDRI/LIDC-IDRI-0064 is done.\n",
      "/mnt/idms/PROJECTS/Lung/LIDC-IDRI/LIDC-IDRI-0902 has started.\n",
      "/mnt/idms/PROJECTS/Lung/LIDC-IDRI/LIDC-IDRI-0902 is done.\n",
      "/mnt/idms/PROJECTS/Lung/LIDC-IDRI/LIDC-IDRI-0309 has started.\n",
      "/mnt/idms/PROJECTS/Lung/LIDC-IDRI/LIDC-IDRI-0309 is done.\n",
      "/mnt/idms/PROJECTS/Lung/LIDC-IDRI/LIDC-IDRI-0582 has started.\n",
      "/mnt/idms/PROJECTS/Lung/LIDC-IDRI/LIDC-IDRI-0582 is done.\n",
      "/mnt/idms/PROJECTS/Lung/LIDC-IDRI/LIDC-IDRI-0657 has started.\n",
      "/mnt/idms/PROJECTS/Lung/LIDC-IDRI/LIDC-IDRI-0657 is done.\n",
      "/mnt/idms/PROJECTS/Lung/LIDC-IDRI/LIDC-IDRI-0328 has started.\n",
      "/mnt/idms/PROJECTS/Lung/LIDC-IDRI/LIDC-IDRI-0328 is done.\n",
      "/mnt/idms/PROJECTS/Lung/LIDC-IDRI/LIDC-IDRI-0818 has started.\n",
      "/mnt/idms/PROJECTS/Lung/LIDC-IDRI/LIDC-IDRI-0818 is done.\n",
      "/mnt/idms/PROJECTS/Lung/LIDC-IDRI/LIDC-IDRI-0887 has started.\n",
      "/mnt/idms/PROJECTS/Lung/LIDC-IDRI/LIDC-IDRI-0887 is done.\n",
      "/mnt/idms/PROJECTS/Lung/LIDC-IDRI/LIDC-IDRI-0756 has started.\n",
      "/mnt/idms/PROJECTS/Lung/LIDC-IDRI/LIDC-IDRI-0756 is done.\n",
      "/mnt/idms/PROJECTS/Lung/LIDC-IDRI/LIDC-IDRI-0874 has started.\n",
      "/mnt/idms/PROJECTS/Lung/LIDC-IDRI/LIDC-IDRI-0874 is done.\n",
      "/mnt/idms/PROJECTS/Lung/LIDC-IDRI/LIDC-IDRI-0311 has started.\n"
     ]
    },
    {
     "name": "stdout",
     "output_type": "stream",
     "text": [
      "/mnt/idms/PROJECTS/Lung/LIDC-IDRI/LIDC-IDRI-0311 is done.\n",
      "/mnt/idms/PROJECTS/Lung/LIDC-IDRI/LIDC-IDRI-0896 has started.\n",
      "/mnt/idms/PROJECTS/Lung/LIDC-IDRI/LIDC-IDRI-0896 is done.\n",
      "/mnt/idms/PROJECTS/Lung/LIDC-IDRI/LIDC-IDRI-0877 has started.\n",
      "/mnt/idms/PROJECTS/Lung/LIDC-IDRI/LIDC-IDRI-0877 is done.\n",
      "/mnt/idms/PROJECTS/Lung/LIDC-IDRI/LIDC-IDRI-0206 has started.\n",
      "/mnt/idms/PROJECTS/Lung/LIDC-IDRI/LIDC-IDRI-0206 is done.\n",
      "/mnt/idms/PROJECTS/Lung/LIDC-IDRI/LIDC-IDRI-0455 has started.\n",
      "/mnt/idms/PROJECTS/Lung/LIDC-IDRI/LIDC-IDRI-0455 is done.\n",
      "/mnt/idms/PROJECTS/Lung/LIDC-IDRI/LIDC-IDRI-0383 has started.\n",
      "/mnt/idms/PROJECTS/Lung/LIDC-IDRI/LIDC-IDRI-0383 is done.\n",
      "/mnt/idms/PROJECTS/Lung/LIDC-IDRI/LIDC-IDRI-0884 has started.\n",
      "/mnt/idms/PROJECTS/Lung/LIDC-IDRI/LIDC-IDRI-0884 is done.\n",
      "/mnt/idms/PROJECTS/Lung/LIDC-IDRI/LIDC-IDRI-0175 has started.\n",
      "/mnt/idms/PROJECTS/Lung/LIDC-IDRI/LIDC-IDRI-0175 is done.\n",
      "/mnt/idms/PROJECTS/Lung/LIDC-IDRI/LIDC-IDRI-0182 has started.\n",
      "/mnt/idms/PROJECTS/Lung/LIDC-IDRI/LIDC-IDRI-0182 is done.\n",
      "/mnt/idms/PROJECTS/Lung/LIDC-IDRI/LIDC-IDRI-0338 has started.\n",
      "/mnt/idms/PROJECTS/Lung/LIDC-IDRI/LIDC-IDRI-0338 is done.\n",
      "/mnt/idms/PROJECTS/Lung/LIDC-IDRI/LIDC-IDRI-0832 has started.\n",
      "/mnt/idms/PROJECTS/Lung/LIDC-IDRI/LIDC-IDRI-0832 is done.\n",
      "/mnt/idms/PROJECTS/Lung/LIDC-IDRI/LIDC-IDRI-0087 has started.\n",
      "/mnt/idms/PROJECTS/Lung/LIDC-IDRI/LIDC-IDRI-0087 is done.\n"
     ]
    }
   ],
   "source": [
    "#super_resoluted_cts=create_all_super_resoluted_cts_parallel(original_cts, parallel_jobs=10)\n",
    "super_resoluted_cts=create_all_super_resoluted_cts_sequential(original_cts)"
   ]
  },
  {
   "cell_type": "code",
   "execution_count": 27,
   "metadata": {},
   "outputs": [
    {
     "data": {
      "text/plain": [
       "'/mnt/idms/PROJECTS/Lung/LIDC-IDRI/LIDC-IDRI-0447'"
      ]
     },
     "execution_count": 27,
     "metadata": {},
     "output_type": "execute_result"
    }
   ],
   "source": [
    "super_resoluted_cts[0][1]"
   ]
  },
  {
   "cell_type": "markdown",
   "metadata": {},
   "source": [
    "## Save superresoluted CTs"
   ]
  },
  {
   "cell_type": "code",
   "execution_count": 32,
   "metadata": {},
   "outputs": [],
   "source": [
    "def save_ct(ct, ct_path):\n",
    "    print(f\"{ct_path} has started.\")\n",
    "    l=ct_path.split(\"/\")\n",
    "    new_ct_path=f'{\"/\".join(l[:-1])}-SuperResoluted/{l[-1]}'\n",
    "    if not os.path.exists(new_ct_path):\n",
    "        os.mkdir(new_ct_path)\n",
    "    for idx,dc in enumerate(ct):\n",
    "        slice_path=f'{new_ct_path}/{idx}.dcm'\n",
    "        dc.save_as(slice_path)\n",
    "    \n",
    "    print(f\"{ct_path} is done.\")\n",
    "\n",
    "def save_all_cts(cts, parallel_jobs=mp.cpu_count()):\n",
    "    \n",
    "    print(\"Saving of superresoluted CTs has started.\")\n",
    "    \n",
    "    with mp.Pool(parallel_jobs) as pool:\n",
    "        _ = pool.starmap(save_ct, cts)\n",
    "    pool.join()\n",
    "    \n",
    "    print(\"Saving of superresoluted CTs has finished.\")"
   ]
  },
  {
   "cell_type": "code",
   "execution_count": 33,
   "metadata": {},
   "outputs": [
    {
     "name": "stdout",
     "output_type": "stream",
     "text": [
      "Saving superresoluted CTs has started.\n",
      "/mnt/idms/PROJECTS/Lung/LIDC-IDRI/LIDC-IDRI-0447 has started.\n",
      "/mnt/idms/PROJECTS/Lung/LIDC-IDRI/LIDC-IDRI-0447 is done.\n",
      "/mnt/idms/PROJECTS/Lung/LIDC-IDRI/LIDC-IDRI-0831 has started.\n",
      "/mnt/idms/PROJECTS/Lung/LIDC-IDRI/LIDC-IDRI-0564 has started.\n",
      "/mnt/idms/PROJECTS/Lung/LIDC-IDRI/LIDC-IDRI-0831 is done.\n",
      "/mnt/idms/PROJECTS/Lung/LIDC-IDRI/LIDC-IDRI-0723 has started.\n",
      "/mnt/idms/PROJECTS/Lung/LIDC-IDRI/LIDC-IDRI-0564 is done.\n",
      "/mnt/idms/PROJECTS/Lung/LIDC-IDRI/LIDC-IDRI-0632 has started.\n",
      "/mnt/idms/PROJECTS/Lung/LIDC-IDRI/LIDC-IDRI-0723 is done.\n",
      "/mnt/idms/PROJECTS/Lung/LIDC-IDRI/LIDC-IDRI-0632 is done.\n",
      "/mnt/idms/PROJECTS/Lung/LIDC-IDRI/LIDC-IDRI-0135 has started.\n",
      "/mnt/idms/PROJECTS/Lung/LIDC-IDRI/LIDC-IDRI-0135 is done.\n",
      "/mnt/idms/PROJECTS/Lung/LIDC-IDRI/LIDC-IDRI-0415 has started.\n",
      "/mnt/idms/PROJECTS/Lung/LIDC-IDRI/LIDC-IDRI-0415 is done.\n",
      "/mnt/idms/PROJECTS/Lung/LIDC-IDRI/LIDC-IDRI-0403 has started.\n",
      "/mnt/idms/PROJECTS/Lung/LIDC-IDRI/LIDC-IDRI-0403 is done.\n",
      "/mnt/idms/PROJECTS/Lung/LIDC-IDRI/LIDC-IDRI-0601 has started.\n",
      "/mnt/idms/PROJECTS/Lung/LIDC-IDRI/LIDC-IDRI-0229 has started.\n",
      "/mnt/idms/PROJECTS/Lung/LIDC-IDRI/LIDC-IDRI-0601 is done.\n",
      "/mnt/idms/PROJECTS/Lung/LIDC-IDRI/LIDC-IDRI-0229 is done.\n",
      "/mnt/idms/PROJECTS/Lung/LIDC-IDRI/LIDC-IDRI-0577 has started.\n",
      "/mnt/idms/PROJECTS/Lung/LIDC-IDRI/LIDC-IDRI-0577 is done.\n",
      "/mnt/idms/PROJECTS/Lung/LIDC-IDRI/LIDC-IDRI-0022 has started.\n",
      "/mnt/idms/PROJECTS/Lung/LIDC-IDRI/LIDC-IDRI-0022 is done.\n",
      "/mnt/idms/PROJECTS/Lung/LIDC-IDRI/LIDC-IDRI-0055 has started.\n",
      "/mnt/idms/PROJECTS/Lung/LIDC-IDRI/LIDC-IDRI-0055 is done.\n",
      "/mnt/idms/PROJECTS/Lung/LIDC-IDRI/LIDC-IDRI-0141 has started.\n",
      "/mnt/idms/PROJECTS/Lung/LIDC-IDRI/LIDC-IDRI-0190 has started.\n",
      "/mnt/idms/PROJECTS/Lung/LIDC-IDRI/LIDC-IDRI-0190 is done.\n",
      "/mnt/idms/PROJECTS/Lung/LIDC-IDRI/LIDC-IDRI-0436 has started.\n",
      "/mnt/idms/PROJECTS/Lung/LIDC-IDRI/LIDC-IDRI-0141 is done.\n",
      "/mnt/idms/PROJECTS/Lung/LIDC-IDRI/LIDC-IDRI-0436 is done.\n",
      "/mnt/idms/PROJECTS/Lung/LIDC-IDRI/LIDC-IDRI-0234 has started.\n",
      "/mnt/idms/PROJECTS/Lung/LIDC-IDRI/LIDC-IDRI-0234 is done.\n",
      "/mnt/idms/PROJECTS/Lung/LIDC-IDRI/LIDC-IDRI-0690 has started.\n",
      "/mnt/idms/PROJECTS/Lung/LIDC-IDRI/LIDC-IDRI-0690 is done.\n",
      "/mnt/idms/PROJECTS/Lung/LIDC-IDRI/LIDC-IDRI-0528 has started.\n",
      "/mnt/idms/PROJECTS/Lung/LIDC-IDRI/LIDC-IDRI-0528 is done.\n",
      "/mnt/idms/PROJECTS/Lung/LIDC-IDRI/LIDC-IDRI-0251 has started.\n",
      "/mnt/idms/PROJECTS/Lung/LIDC-IDRI/LIDC-IDRI-0251 is done.\n",
      "/mnt/idms/PROJECTS/Lung/LIDC-IDRI/LIDC-IDRI-0269 has started.\n",
      "/mnt/idms/PROJECTS/Lung/LIDC-IDRI/LIDC-IDRI-0269 is done.\n",
      "/mnt/idms/PROJECTS/Lung/LIDC-IDRI/LIDC-IDRI-0702 has started.\n",
      "/mnt/idms/PROJECTS/Lung/LIDC-IDRI/LIDC-IDRI-0231 has started.\n",
      "/mnt/idms/PROJECTS/Lung/LIDC-IDRI/LIDC-IDRI-0231 is done.\n",
      "/mnt/idms/PROJECTS/Lung/LIDC-IDRI/LIDC-IDRI-0702 is done.\n",
      "/mnt/idms/PROJECTS/Lung/LIDC-IDRI/LIDC-IDRI-0770 has started.\n",
      "/mnt/idms/PROJECTS/Lung/LIDC-IDRI/LIDC-IDRI-0770 is done.\n",
      "/mnt/idms/PROJECTS/Lung/LIDC-IDRI/LIDC-IDRI-0710 has started.\n",
      "/mnt/idms/PROJECTS/Lung/LIDC-IDRI/LIDC-IDRI-0389 has started.\n",
      "/mnt/idms/PROJECTS/Lung/LIDC-IDRI/LIDC-IDRI-0389 is done.\n",
      "/mnt/idms/PROJECTS/Lung/LIDC-IDRI/LIDC-IDRI-0710 is done.\n",
      "/mnt/idms/PROJECTS/Lung/LIDC-IDRI/LIDC-IDRI-0481 has started.\n",
      "/mnt/idms/PROJECTS/Lung/LIDC-IDRI/LIDC-IDRI-0852 has started.\n",
      "/mnt/idms/PROJECTS/Lung/LIDC-IDRI/LIDC-IDRI-0481 is done.\n",
      "/mnt/idms/PROJECTS/Lung/LIDC-IDRI/LIDC-IDRI-0852 is done.\n",
      "/mnt/idms/PROJECTS/Lung/LIDC-IDRI/LIDC-IDRI-0745 has started.\n",
      "/mnt/idms/PROJECTS/Lung/LIDC-IDRI/LIDC-IDRI-0745 is done.\n",
      "/mnt/idms/PROJECTS/Lung/LIDC-IDRI/LIDC-IDRI-0946 has started.\n",
      "/mnt/idms/PROJECTS/Lung/LIDC-IDRI/LIDC-IDRI-0946 is done.\n",
      "/mnt/idms/PROJECTS/Lung/LIDC-IDRI/LIDC-IDRI-0942 has started.\n",
      "/mnt/idms/PROJECTS/Lung/LIDC-IDRI/LIDC-IDRI-0942 is done.\n",
      "/mnt/idms/PROJECTS/Lung/LIDC-IDRI/LIDC-IDRI-0725 has started.\n",
      "/mnt/idms/PROJECTS/Lung/LIDC-IDRI/LIDC-IDRI-0725 is done.\n",
      "/mnt/idms/PROJECTS/Lung/LIDC-IDRI/LIDC-IDRI-0543 has started.\n",
      "/mnt/idms/PROJECTS/Lung/LIDC-IDRI/LIDC-IDRI-0151 has started.\n",
      "/mnt/idms/PROJECTS/Lung/LIDC-IDRI/LIDC-IDRI-0151 is done.\n",
      "/mnt/idms/PROJECTS/Lung/LIDC-IDRI/LIDC-IDRI-0543 is done.\n",
      "/mnt/idms/PROJECTS/Lung/LIDC-IDRI/LIDC-IDRI-0796 has started.\n",
      "/mnt/idms/PROJECTS/Lung/LIDC-IDRI/LIDC-IDRI-0796 is done.\n",
      "/mnt/idms/PROJECTS/Lung/LIDC-IDRI/LIDC-IDRI-0192 has started.\n",
      "/mnt/idms/PROJECTS/Lung/LIDC-IDRI/LIDC-IDRI-0192 is done.\n",
      "/mnt/idms/PROJECTS/Lung/LIDC-IDRI/LIDC-IDRI-0968 has started.\n",
      "/mnt/idms/PROJECTS/Lung/LIDC-IDRI/LIDC-IDRI-0968 is done.\n",
      "/mnt/idms/PROJECTS/Lung/LIDC-IDRI/LIDC-IDRI-0895 has started.\n",
      "/mnt/idms/PROJECTS/Lung/LIDC-IDRI/LIDC-IDRI-0595 has started.\n",
      "/mnt/idms/PROJECTS/Lung/LIDC-IDRI/LIDC-IDRI-0595 is done.\n",
      "/mnt/idms/PROJECTS/Lung/LIDC-IDRI/LIDC-IDRI-0895 is done.\n",
      "/mnt/idms/PROJECTS/Lung/LIDC-IDRI/LIDC-IDRI-0663 has started.\n",
      "/mnt/idms/PROJECTS/Lung/LIDC-IDRI/LIDC-IDRI-0663 is done.\n",
      "/mnt/idms/PROJECTS/Lung/LIDC-IDRI/LIDC-IDRI-0299 has started.\n",
      "/mnt/idms/PROJECTS/Lung/LIDC-IDRI/LIDC-IDRI-0883 has started.\n",
      "/mnt/idms/PROJECTS/Lung/LIDC-IDRI/LIDC-IDRI-0299 is done.\n",
      "/mnt/idms/PROJECTS/Lung/LIDC-IDRI/LIDC-IDRI-0712 has started.\n",
      "/mnt/idms/PROJECTS/Lung/LIDC-IDRI/LIDC-IDRI-0883 is done.\n",
      "/mnt/idms/PROJECTS/Lung/LIDC-IDRI/LIDC-IDRI-0712 is done.\n",
      "/mnt/idms/PROJECTS/Lung/LIDC-IDRI/LIDC-IDRI-0825 has started.\n",
      "/mnt/idms/PROJECTS/Lung/LIDC-IDRI/LIDC-IDRI-0825 is done.\n",
      "/mnt/idms/PROJECTS/Lung/LIDC-IDRI/LIDC-IDRI-0121 has started.\n",
      "/mnt/idms/PROJECTS/Lung/LIDC-IDRI/LIDC-IDRI-0121 is done.\n",
      "/mnt/idms/PROJECTS/Lung/LIDC-IDRI/LIDC-IDRI-0900 has started.\n",
      "/mnt/idms/PROJECTS/Lung/LIDC-IDRI/LIDC-IDRI-0830 has started.\n",
      "/mnt/idms/PROJECTS/Lung/LIDC-IDRI/LIDC-IDRI-0900 is done.\n",
      "/mnt/idms/PROJECTS/Lung/LIDC-IDRI/LIDC-IDRI-0768 has started.\n",
      "/mnt/idms/PROJECTS/Lung/LIDC-IDRI/LIDC-IDRI-0830 is done.\n",
      "/mnt/idms/PROJECTS/Lung/LIDC-IDRI/LIDC-IDRI-0768 is done.\n",
      "/mnt/idms/PROJECTS/Lung/LIDC-IDRI/LIDC-IDRI-0400 has started.\n",
      "/mnt/idms/PROJECTS/Lung/LIDC-IDRI/LIDC-IDRI-0400 is done.\n",
      "/mnt/idms/PROJECTS/Lung/LIDC-IDRI/LIDC-IDRI-0658 has started.\n",
      "/mnt/idms/PROJECTS/Lung/LIDC-IDRI/LIDC-IDRI-0195 has started.\n",
      "/mnt/idms/PROJECTS/Lung/LIDC-IDRI/LIDC-IDRI-0658 is done.\n",
      "/mnt/idms/PROJECTS/Lung/LIDC-IDRI/LIDC-IDRI-0195 is done.\n",
      "/mnt/idms/PROJECTS/Lung/LIDC-IDRI/LIDC-IDRI-0479 has started.\n",
      "/mnt/idms/PROJECTS/Lung/LIDC-IDRI/LIDC-IDRI-0970 has started.\n",
      "/mnt/idms/PROJECTS/Lung/LIDC-IDRI/LIDC-IDRI-0970 is done.\n",
      "/mnt/idms/PROJECTS/Lung/LIDC-IDRI/LIDC-IDRI-0289 has started.\n",
      "/mnt/idms/PROJECTS/Lung/LIDC-IDRI/LIDC-IDRI-0479 is done.\n",
      "/mnt/idms/PROJECTS/Lung/LIDC-IDRI/LIDC-IDRI-0289 is done.\n",
      "/mnt/idms/PROJECTS/Lung/LIDC-IDRI/LIDC-IDRI-0549 has started.\n",
      "/mnt/idms/PROJECTS/Lung/LIDC-IDRI/LIDC-IDRI-0442 has started.\n",
      "/mnt/idms/PROJECTS/Lung/LIDC-IDRI/LIDC-IDRI-0549 is done.\n",
      "/mnt/idms/PROJECTS/Lung/LIDC-IDRI/LIDC-IDRI-0442 is done.\n",
      "/mnt/idms/PROJECTS/Lung/LIDC-IDRI/LIDC-IDRI-0667 has started.\n",
      "/mnt/idms/PROJECTS/Lung/LIDC-IDRI/LIDC-IDRI-0009 has started.\n",
      "/mnt/idms/PROJECTS/Lung/LIDC-IDRI/LIDC-IDRI-0064 has started.\n",
      "/mnt/idms/PROJECTS/Lung/LIDC-IDRI/LIDC-IDRI-0667 is done.\n",
      "/mnt/idms/PROJECTS/Lung/LIDC-IDRI/LIDC-IDRI-0009 is done.\n",
      "/mnt/idms/PROJECTS/Lung/LIDC-IDRI/LIDC-IDRI-0064 is done.\n",
      "/mnt/idms/PROJECTS/Lung/LIDC-IDRI/LIDC-IDRI-0902 has started.\n",
      "/mnt/idms/PROJECTS/Lung/LIDC-IDRI/LIDC-IDRI-0309 has started.\n",
      "/mnt/idms/PROJECTS/Lung/LIDC-IDRI/LIDC-IDRI-0902 is done.\n",
      "/mnt/idms/PROJECTS/Lung/LIDC-IDRI/LIDC-IDRI-0309 is done.\n",
      "/mnt/idms/PROJECTS/Lung/LIDC-IDRI/LIDC-IDRI-0582 has started.\n",
      "/mnt/idms/PROJECTS/Lung/LIDC-IDRI/LIDC-IDRI-0582 is done.\n",
      "/mnt/idms/PROJECTS/Lung/LIDC-IDRI/LIDC-IDRI-0657 has started.\n",
      "/mnt/idms/PROJECTS/Lung/LIDC-IDRI/LIDC-IDRI-0657 is done.\n",
      "/mnt/idms/PROJECTS/Lung/LIDC-IDRI/LIDC-IDRI-0328 has started.\n",
      "/mnt/idms/PROJECTS/Lung/LIDC-IDRI/LIDC-IDRI-0818 has started.\n",
      "/mnt/idms/PROJECTS/Lung/LIDC-IDRI/LIDC-IDRI-0887 has started.\n",
      "/mnt/idms/PROJECTS/Lung/LIDC-IDRI/LIDC-IDRI-0818 is done.\n",
      "/mnt/idms/PROJECTS/Lung/LIDC-IDRI/LIDC-IDRI-0887 is done.\n",
      "/mnt/idms/PROJECTS/Lung/LIDC-IDRI/LIDC-IDRI-0328 is done.\n",
      "/mnt/idms/PROJECTS/Lung/LIDC-IDRI/LIDC-IDRI-0756 has started.\n",
      "/mnt/idms/PROJECTS/Lung/LIDC-IDRI/LIDC-IDRI-0756 is done.\n",
      "/mnt/idms/PROJECTS/Lung/LIDC-IDRI/LIDC-IDRI-0874 has started.\n",
      "/mnt/idms/PROJECTS/Lung/LIDC-IDRI/LIDC-IDRI-0311 has started.\n",
      "/mnt/idms/PROJECTS/Lung/LIDC-IDRI/LIDC-IDRI-0311 is done.\n",
      "/mnt/idms/PROJECTS/Lung/LIDC-IDRI/LIDC-IDRI-0896 has started.\n",
      "/mnt/idms/PROJECTS/Lung/LIDC-IDRI/LIDC-IDRI-0874 is done.\n",
      "/mnt/idms/PROJECTS/Lung/LIDC-IDRI/LIDC-IDRI-0896 is done.\n",
      "/mnt/idms/PROJECTS/Lung/LIDC-IDRI/LIDC-IDRI-0877 has started.\n",
      "/mnt/idms/PROJECTS/Lung/LIDC-IDRI/LIDC-IDRI-0877 is done.\n",
      "/mnt/idms/PROJECTS/Lung/LIDC-IDRI/LIDC-IDRI-0206 has started.\n",
      "/mnt/idms/PROJECTS/Lung/LIDC-IDRI/LIDC-IDRI-0206 is done.\n",
      "/mnt/idms/PROJECTS/Lung/LIDC-IDRI/LIDC-IDRI-0455 has started.\n",
      "/mnt/idms/PROJECTS/Lung/LIDC-IDRI/LIDC-IDRI-0383 has started.\n",
      "/mnt/idms/PROJECTS/Lung/LIDC-IDRI/LIDC-IDRI-0455 is done.\n",
      "/mnt/idms/PROJECTS/Lung/LIDC-IDRI/LIDC-IDRI-0383 is done.\n",
      "/mnt/idms/PROJECTS/Lung/LIDC-IDRI/LIDC-IDRI-0884 has started.\n",
      "/mnt/idms/PROJECTS/Lung/LIDC-IDRI/LIDC-IDRI-0175 has started.\n",
      "/mnt/idms/PROJECTS/Lung/LIDC-IDRI/LIDC-IDRI-0884 is done.\n",
      "/mnt/idms/PROJECTS/Lung/LIDC-IDRI/LIDC-IDRI-0175 is done.\n",
      "/mnt/idms/PROJECTS/Lung/LIDC-IDRI/LIDC-IDRI-0182 has started.\n",
      "/mnt/idms/PROJECTS/Lung/LIDC-IDRI/LIDC-IDRI-0182 is done.\n",
      "/mnt/idms/PROJECTS/Lung/LIDC-IDRI/LIDC-IDRI-0338 has started.\n",
      "/mnt/idms/PROJECTS/Lung/LIDC-IDRI/LIDC-IDRI-0832 has started.\n",
      "/mnt/idms/PROJECTS/Lung/LIDC-IDRI/LIDC-IDRI-0832 is done.\n",
      "/mnt/idms/PROJECTS/Lung/LIDC-IDRI/LIDC-IDRI-0338 is done.\n",
      "/mnt/idms/PROJECTS/Lung/LIDC-IDRI/LIDC-IDRI-0087 has started.\n",
      "/mnt/idms/PROJECTS/Lung/LIDC-IDRI/LIDC-IDRI-0087 is done.\n",
      "Saving superresoluted CTs has finished.\n"
     ]
    }
   ],
   "source": [
    "save_all_cts(super_resoluted_cts, parallel_jobs=40)"
   ]
  },
  {
   "cell_type": "code",
   "execution_count": null,
   "metadata": {},
   "outputs": [],
   "source": [
    "plot_slices(super_resoluted_cts[0])"
   ]
  },
  {
   "cell_type": "code",
   "execution_count": null,
   "metadata": {},
   "outputs": [],
   "source": [
    "torch.cuda.empty_cache()"
   ]
  },
  {
   "cell_type": "code",
   "execution_count": 51,
   "metadata": {},
   "outputs": [
    {
     "data": {
      "text/plain": [
       "55091"
      ]
     },
     "execution_count": 51,
     "metadata": {},
     "output_type": "execute_result"
    }
   ],
   "source": [
    "len(glob.glob(\"/mnt/idms/PROJECTS/Lung/sinogram_Domi/spr_0001L/out/*\"))"
   ]
  },
  {
   "cell_type": "code",
   "execution_count": null,
   "metadata": {},
   "outputs": [],
   "source": []
  }
 ],
 "metadata": {
  "kernelspec": {
   "display_name": "Python 3",
   "language": "python",
   "name": "python3"
  },
  "language_info": {
   "codemirror_mode": {
    "name": "ipython",
    "version": 3
   },
   "file_extension": ".py",
   "mimetype": "text/x-python",
   "name": "python",
   "nbconvert_exporter": "python",
   "pygments_lexer": "ipython3",
   "version": "3.6.13"
  }
 },
 "nbformat": 4,
 "nbformat_minor": 2
}
