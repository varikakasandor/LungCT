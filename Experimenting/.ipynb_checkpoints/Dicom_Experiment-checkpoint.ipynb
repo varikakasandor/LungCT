{
 "cells": [
  {
   "cell_type": "code",
   "execution_count": null,
   "id": "47419530",
   "metadata": {},
   "outputs": [],
   "source": [
    "import os\n",
    "import glob\n",
    "import re\n",
    "import shutil\n",
    "import matplotlib.pyplot as plt\n",
    "#import pydicom\n",
    "import numpy as np\n",
    "import pandas as pd\n",
    "from PIL import Image,ImageFilter\n",
    "import tempfile\n",
    "import zipfile\n",
    "import multiprocessing as mp\n",
    "import json\n",
    "import pydicom\n",
    "import copy\n",
    "from distutils.dir_util import copy_tree"
   ]
  },
  {
   "cell_type": "code",
   "execution_count": null,
   "id": "b1431ea0",
   "metadata": {},
   "outputs": [],
   "source": [
    "samples[0]"
   ]
  },
  {
   "cell_type": "code",
   "execution_count": null,
   "id": "c51878d5",
   "metadata": {},
   "outputs": [],
   "source": [
    "cases=os.listdir(\"/mnt/idms/kdomokos/data/sinogram/20210901\")"
   ]
  },
  {
   "cell_type": "code",
   "execution_count": null,
   "id": "ec45d0b2",
   "metadata": {},
   "outputs": [],
   "source": [
    "def do_copy(case):\n",
    "    copy_tree(f\"/mnt/idms/kdomokos/data/sinogram/20210901/{case}\", f\"/mnt/idms/PROJECTS/Lung/sinogram_Domi/{case}\")"
   ]
  },
  {
   "cell_type": "code",
   "execution_count": null,
   "id": "dfe3bc31",
   "metadata": {},
   "outputs": [],
   "source": [
    "with mp.Pool(40) as pool:\n",
    "    _ = pool.map(do_copy, cases)\n",
    "pool.join()"
   ]
  },
  {
   "cell_type": "code",
   "execution_count": null,
   "id": "64fa2324",
   "metadata": {},
   "outputs": [],
   "source": [
    "len(glob.glob(\"/mnt/idms/home/andor/prep_result/*\"))"
   ]
  },
  {
   "cell_type": "code",
   "execution_count": null,
   "id": "85c9b7b3",
   "metadata": {},
   "outputs": [],
   "source": [
    "case_path=\"/mnt/idms/PROJECTS/Lung/LIDC-IDRI/LIDC-IDRI-0009\"\n",
    "for slice_path in glob.iglob(f'{case_path}/*'):\n",
    "    print(slice_path)\n",
    "    dc=pydicom.dcmread(slice_path)"
   ]
  },
  {
   "cell_type": "code",
   "execution_count": null,
   "id": "b23bdc3b",
   "metadata": {},
   "outputs": [],
   "source": [
    "type((f.pixel_array)[0][0])"
   ]
  },
  {
   "cell_type": "code",
   "execution_count": null,
   "id": "baabc56d",
   "metadata": {},
   "outputs": [],
   "source": [
    "print(ff)"
   ]
  },
  {
   "cell_type": "code",
   "execution_count": null,
   "id": "a19c4431",
   "metadata": {},
   "outputs": [],
   "source": [
    "slice_thickness"
   ]
  },
  {
   "cell_type": "code",
   "execution_count": null,
   "id": "d6c0f37c",
   "metadata": {},
   "outputs": [],
   "source": [
    "slice_thickness=f.get_item((18, 50))"
   ]
  },
  {
   "cell_type": "code",
   "execution_count": null,
   "id": "d373c9d4",
   "metadata": {},
   "outputs": [],
   "source": [
    "l=[np.array([1,2]), np.array([3,4,5])]\n",
    "for x in l:\n",
    "    x[0]=100"
   ]
  },
  {
   "cell_type": "code",
   "execution_count": null,
   "id": "5fa24001",
   "metadata": {},
   "outputs": [],
   "source": [
    "l"
   ]
  },
  {
   "cell_type": "code",
   "execution_count": null,
   "id": "c45bcc03",
   "metadata": {
    "scrolled": false
   },
   "outputs": [],
   "source": [
    "l=glob.glob(f\"/mnt/idms/PROJECTS/Lung/LIDC-IDRI-SuperResoluted/LIDC-IDRI-0151/*\")\n",
    "l=[pydicom.dcmread(p) for p in l]\n",
    "l=sorted(l, key=lambda s: s.SliceLocation)\n",
    "for d in l:\n",
    "    arr=d.pixel_array\n",
    "    plt.figure()\n",
    "    plt.imshow(arr, cmap='gray')\n",
    "    plt.show()"
   ]
  },
  {
   "cell_type": "code",
   "execution_count": null,
   "id": "c53466b7",
   "metadata": {},
   "outputs": [],
   "source": [
    "np.where(np.array([False, True, False, False, True]))"
   ]
  },
  {
   "cell_type": "code",
   "execution_count": null,
   "id": "956691df",
   "metadata": {},
   "outputs": [],
   "source": [
    "p=\"/mnt/idms/PROJECTS/Lung/Sinogram-20210901/PA2/ST1/SE5/000000EF\"\n",
    "a=pydicom.read_file(p).pixel_array\n",
    "plt.imshow(a, cmap=\"gray\")"
   ]
  },
  {
   "cell_type": "code",
   "execution_count": null,
   "id": "a6ff3202",
   "metadata": {},
   "outputs": [],
   "source": [
    "a=np.load(\"/mnt/idms/PROJECTS/Lung/Tudo-Ulyssys-Unzipped/50027/SE000010.npz\")\n",
    "a=a[a.files[0]]\n",
    "print(a.shape)\n",
    "for i in range(600):\n",
    "    img=a[:,:,i]\n",
    "    print(i)\n",
    "    plt.imshow(img,cmap=plt.cm.Greys_r)\n",
    "    plt.show()"
   ]
  },
  {
   "cell_type": "code",
   "execution_count": null,
   "id": "a56940fe",
   "metadata": {},
   "outputs": [],
   "source": [
    "for p in glob.iglob(\"/mnt/idms/PROJECTS/Lung/Tudo-Ulyssys-Unzipped/*/\"):\n",
    "    p=glob.glob(f\"{p}*.npz\")[0]\n",
    "    a=np.load(p)\n",
    "    a=a[a.files[0]]\n",
    "    sampled=a[:,:,np.random.randint(a.shape[2],size=10)]\n",
    "    for i in range(10):\n",
    "        print(p,i)\n",
    "        img=sampled[:,:,i]\n",
    "        plt.imshow(img,cmap=plt.cm.Greys_r)\n",
    "        plt.show()"
   ]
  },
  {
   "cell_type": "code",
   "execution_count": null,
   "id": "77075b3d",
   "metadata": {},
   "outputs": [],
   "source": [
    "with open(\"/mnt/idms/PROJECTS/Lung/Tudo-Ulyssys-Unzipped/50014/SE000013.json\") as f:\n",
    "    j = json.load(f)\n",
    "    print(dict(j))"
   ]
  },
  {
   "cell_type": "code",
   "execution_count": null,
   "id": "b64a38be",
   "metadata": {},
   "outputs": [],
   "source": [
    "a=np.array([[1,2,3],[4,5,6]])\n",
    "a[:,:1]"
   ]
  },
  {
   "cell_type": "code",
   "execution_count": null,
   "id": "f521158e",
   "metadata": {},
   "outputs": [],
   "source": [
    "pref=\"/mnt/idms/PROJECTS/Lung/sinogram_Domi\"\n",
    "for dose in [\"020\",\"080\",\"280\"]:\n",
    "    try:\n",
    "        os.makedirs(f\"/mnt/idms/PROJECTS/Lung/Gyula_images/spr_dose{dose}/sinograms\")\n",
    "        os.makedirs(f\"/mnt/idms/PROJECTS/Lung/Gyula_images/spr_dose{dose}/slices\")\n",
    "    except:\n",
    "        pass\n",
    "    for idx in np.linspace(0,256,10,endpoint=False).astype(int):\n",
    "        sino=np.load(f\"{pref}/spr_dose{dose}/sinograms/{idx}.npy\")\n",
    "        lung=np.load(f\"{pref}/spr_dose{dose}/slices/{idx}.npy\")\n",
    "        Image.fromarray(sino).convert('L').save(f\"/mnt/idms/PROJECTS/Lung/Gyula_images/spr_dose{dose}/sinograms/{idx}.jpeg\", optimize=True)\n",
    "        Image.fromarray(lung*255).convert('L').save(f\"/mnt/idms/PROJECTS/Lung/Gyula_images/spr_dose{dose}/slices/{idx}.jpeg\",optimize=True)\n",
    "        _,axs=plt.subplots(1,2)\n",
    "        axs[0].imshow(sino,cmap=plt.cm.Greys_r)\n",
    "        axs[1].imshow(lung,cmap=plt.cm.Greys_r)\n",
    "        plt.show()"
   ]
  },
  {
   "cell_type": "code",
   "execution_count": null,
   "id": "24e505c0",
   "metadata": {},
   "outputs": [],
   "source": [
    "for p in glob.glob(f\"/mnt/idms/PROJECTS/Lung/Tudo-Ulyssys-Unzipped/*/*.npz\"):\n",
    "    arr=np.load(p)\n",
    "    arr=arr[arr.files[0]]\n",
    "    slices=np.sort(np.random.choice(arr.shape[2],3,replace=False))\n",
    "    for i in slices:\n",
    "        plt.figure()\n",
    "        plt.imshow(arr[:,:,i], cmap=plt.cm.Greys_r)\n",
    "        plt.show()\n",
    "    print(f\"CASE {p} FINISHED\")"
   ]
  },
  {
   "cell_type": "code",
   "execution_count": null,
   "id": "926e1f8d",
   "metadata": {},
   "outputs": [],
   "source": [
    "np.min(arr), np.max(arr)"
   ]
  },
  {
   "cell_type": "code",
   "execution_count": null,
   "id": "e6e8f18c",
   "metadata": {},
   "outputs": [],
   "source": [
    "orig=(255*(arr-np.min(arr))/(np.max(arr)-np.min(arr))).astype(np.uint8)\n",
    "smoothed=np.array(Image.fromarray(orig, mode=\"L\").filter(ImageFilter.SMOOTH))#_MORE))\n",
    "smoothed_more=np.array(Image.fromarray(orig, mode=\"L\").filter(ImageFilter.SMOOTH_MORE))\n",
    "difference=np.abs(smoothed-orig)\n",
    "difference_more=np.abs(smoothed_more-orig)\n",
    "#print(np.unique(difference))\n",
    "#plt.imshow(difference, cmap=plt.cm.Greys_r)\n",
    "fig,axs=plt.subplots(1,5, figsize=(25,5))\n",
    "axs[0].imshow(orig, cmap=plt.cm.Greys_r)\n",
    "axs[1].imshow(smoothed, cmap=plt.cm.Greys_r)\n",
    "axs[2].imshow(smoothed_more, cmap=plt.cm.Greys_r)\n",
    "axs[3].imshow(difference, cmap=plt.cm.Greys_r)\n",
    "axs[4].imshow(difference_more, cmap=plt.cm.Greys_r)"
   ]
  },
  {
   "cell_type": "code",
   "execution_count": null,
   "id": "8367dd96",
   "metadata": {},
   "outputs": [],
   "source": [
    "Image.fromarray(arr, mode=\"RGB\")"
   ]
  },
  {
   "cell_type": "code",
   "execution_count": null,
   "id": "e534ee84",
   "metadata": {},
   "outputs": [],
   "source": [
    "dose=\"020\"\n",
    "for slice_number in range(200):\n",
    "    path=f\"/mnt/idms/PROJECTS/Lung/sinogram_Domi/spr_dose{dose}/slices/{slice_number}.npy\"\n",
    "    print(path)\n",
    "    arr=np.load(path)\n",
    "    plt.figure(figsize=(25,25))\n",
    "    plt.imshow(arr,cmap=plt.cm.Greys_r)\n",
    "    plt.show()"
   ]
  },
  {
   "cell_type": "code",
   "execution_count": null,
   "id": "6c02bc3a",
   "metadata": {},
   "outputs": [],
   "source": [
    "#Kód Andrásnak: CT szeletek beolvasása\n",
    " #\"020\" or \"080\" or \"280\"\n",
    "slice_number=\"120\" # from 0 up to 255\n"
   ]
  },
  {
   "cell_type": "code",
   "execution_count": null,
   "id": "6a8d9749",
   "metadata": {},
   "outputs": [],
   "source": [
    "import itertools\n",
    "from multiprocessing import Pool\n",
    "import functools\n",
    "\n",
    "def func(a, b):\n",
    "    print (a,b)\n",
    "\n",
    "def func_star(a_b):\n",
    "    \"\"\"Convert `f([1,2])` to `f(1,2)` call.\"\"\"\n",
    "    return func(*a_b)\n",
    "\n",
    "pool = Pool()\n",
    "b_args = [1,2,3]\n",
    "first_arg = 1\n",
    "f=functools.partial(func,first_arg)\n",
    "pool.starmap(f,b_args)\n",
    "#argzip=zip(a_args, itertools.repeat(second_arg))\n",
    "#pool.starmap(func, argzip)\n",
    "#pool.starmap(func, [(1,2),(2,3)])"
   ]
  },
  {
   "cell_type": "code",
   "execution_count": null,
   "id": "407ee759",
   "metadata": {},
   "outputs": [],
   "source": [
    "def f(a,b=5):\n",
    "    print(a,b)\n",
    "    \n",
    "f(2,3)"
   ]
  },
  {
   "cell_type": "code",
   "execution_count": null,
   "id": "7655aa60",
   "metadata": {},
   "outputs": [],
   "source": [
    "#from pydicom.data import get_testdata_files\n",
    "#filename = get_testdata_files(\"CT_small.dcm\")[0]\n",
    "ds = pydicom.dcmread(filename)\n",
    "plt.imshow(ds.pixel_array, cmap=plt.cm.bone) "
   ]
  },
  {
   "cell_type": "code",
   "execution_count": null,
   "id": "922687aa",
   "metadata": {},
   "outputs": [],
   "source": [
    "filename = \"/mnt/idms/PROJECTS/Lung/Kaggle-data/cancer_cases/home/peter/lung/data/stage1/stage1/229b8b785f880f61d8dad636c3dc2687/f1a23adea3019e89e938f9de24887ae6.dcm\"\n",
    "ds = pydicom.dcmread(filename)\n",
    "print((ds.pixel_array).shape)\n",
    "\n",
    "plt.imshow(ds.pixel_array, cmap=plt.cm.bone)\n",
    "\n",
    "data_img = Image.fromarray(ds.pixel_array)\n",
    "data_img_rotated = data_img.rotate(angle=45,resample=Image.BICUBIC,fillcolor=data_img.getpixel((0,0)))\n",
    "print(type(data_img_rotated))\n",
    "plt.imshow(data_img_rotated)"
   ]
  },
  {
   "cell_type": "code",
   "execution_count": null,
   "id": "f0d196fd",
   "metadata": {},
   "outputs": [],
   "source": [
    "from PIL import Image\n",
    "data_img = Image.fromarray(ds.pixel_array)\n",
    "data_img_rotated = data_img.rotate(angle=45,resample=Image.BICUBIC,fillcolor=data_img.getpixel((0,0)))"
   ]
  },
  {
   "cell_type": "code",
   "execution_count": null,
   "id": "7f08a723",
   "metadata": {},
   "outputs": [],
   "source": [
    "os.makedirs(os.path.join(\"./DSB2017/prep_result/\",\"46372/SE3217637\").rsplit('/',1)[0], exist_ok=True)"
   ]
  },
  {
   "cell_type": "code",
   "execution_count": null,
   "id": "4422f16b",
   "metadata": {},
   "outputs": [],
   "source": [
    "slices = [pydicom.read_file(s) for s in glob.glob(\"/mnt/idms/PROJECTS/Lung/Ulyssys-Lung-Data/56473/SE000006/*.dcm\")]\n",
    "slices.sort(key = lambda x: float(x.ImagePositionPatient[2]))\n",
    "for ds in slices:\n",
    "    plt.figure()\n",
    "    plt.imshow(ds.pixel_array, cmap=plt.cm.bone)\n",
    "    plt.show()"
   ]
  },
  {
   "cell_type": "code",
   "execution_count": null,
   "id": "7d201849",
   "metadata": {},
   "outputs": [],
   "source": [
    "slices = [pydicom.read_file(s) for s in glob.glob(\"./LymphoglandulaeMetastasis/54841/SE000006/*.dcm\")]\n",
    "slices.sort(key = lambda x: float(x.ImagePositionPatient[2]))\n"
   ]
  },
  {
   "cell_type": "code",
   "execution_count": null,
   "id": "09534170",
   "metadata": {},
   "outputs": [],
   "source": [
    "arr=slices[0].pixel_array\n",
    "arr_norm = (arr/4095.0)*256\n",
    "Image.fromarray(arr_norm).show()\n",
    "print(slices[0].pixel_array.shape)"
   ]
  },
  {
   "cell_type": "code",
   "execution_count": null,
   "id": "841cdb78",
   "metadata": {},
   "outputs": [],
   "source": [
    "np.save(\"./DSB2017/prep_result/53966/SE000007_clean\",np.zeros(4))"
   ]
  },
  {
   "cell_type": "code",
   "execution_count": null,
   "id": "90dd2a09",
   "metadata": {},
   "outputs": [],
   "source": [
    "filename_lymp = \"/mnt/idms/PROJECTS/Lung/LymphoglandulaeMetastasis/SE000006/50848-0584.dcm\"\n",
    "filename_lung=\"/mnt/idms/PROJECTS/Lung/LungMetastasis/SE000004/54680-0545.dcm\"\n",
    "lidc=\"/mnt/idms/PROJECTS/Lung/1-128.dcm\"\n",
    "\n",
    "ds = pydicom.dcmread(lidc)\n",
    "#print((ds.pixel_array).shape)\n",
    "\n",
    "plt.imshow(ds.pixel_array, cmap=plt.cm.bone)\n",
    "\n",
    "#data_img = Image.fromarray(ds.pixel_array)\n",
    "#data_img_rotated = data_img.rotate(angle=45,resample=Image.BICUBIC,fillcolor=data_img.getpixel((0,0)))\n",
    "#print(type(data_img_rotated))\n",
    "#plt.imshow(data_img)"
   ]
  },
  {
   "cell_type": "code",
   "execution_count": null,
   "id": "ff2d0ad8",
   "metadata": {},
   "outputs": [],
   "source": [
    "no_num=len(glob.glob('./NoMetastasis/*.txt'))\n",
    "lung_num=len(glob.glob('./LungMetastasis/*.txt'))\n",
    "lymp_num=len(glob.glob('./LymphoglandulaeMetastasis/*.txt'))\n",
    "ct_num=no_num+lung_num+lymp_num"
   ]
  },
  {
   "cell_type": "code",
   "execution_count": null,
   "id": "81afc130",
   "metadata": {},
   "outputs": [],
   "source": [
    "lung_labels=np.asarray([0]*no_num+[1]*lung_num+[0]*lymp_num).astype(np.float32)\n",
    "lymp_labels=np.asarray([0]*no_num+[0]*lung_num+[1]*lymp_num).astype(np.float32)"
   ]
  },
  {
   "cell_type": "code",
   "execution_count": null,
   "id": "95502fdd",
   "metadata": {},
   "outputs": [],
   "source": [
    "glob.glob('./NoMetastasis/*.txt')"
   ]
  },
  {
   "cell_type": "code",
   "execution_count": null,
   "id": "10ed377b",
   "metadata": {},
   "outputs": [],
   "source": [
    "\n",
    "\n",
    "dir_name = './NoMetastasis/'\n",
    "extension = \".zip\""
   ]
  },
  {
   "cell_type": "code",
   "execution_count": null,
   "id": "6dbb31c6",
   "metadata": {},
   "outputs": [],
   "source": [
    "os.chdir(dir_name) # change directory from working dir to dir with files\n",
    "\n",
    "for item in os.listdir(dir_name): # loop through items in dir\n",
    "    if item.endswith(extension): # check for \".zip\" extension\n",
    "        file_name = os.path.abspath(item) # get full path of files\n",
    "        zip_ref = zipfile.ZipFile(file_name) # create zipfile object\n",
    "        zip_ref.extractall(dir_name) # extract file to dir\n",
    "        zip_ref.close() # close file\n",
    "        os.remove(file_name) # delete zipped file"
   ]
  },
  {
   "cell_type": "code",
   "execution_count": null,
   "id": "1db77435",
   "metadata": {},
   "outputs": [],
   "source": [
    "def unzip_nometa(path):\n",
    "    with zipfile.ZipFile(path, 'r') as zip_ref:\n",
    "        zip_ref.extractall(f\"{path[:-4]}/\")"
   ]
  },
  {
   "cell_type": "code",
   "execution_count": null,
   "id": "01ebfdbb",
   "metadata": {},
   "outputs": [],
   "source": [
    "import multiprocessing as mp"
   ]
  },
  {
   "cell_type": "code",
   "execution_count": null,
   "id": "6e8380dc",
   "metadata": {},
   "outputs": [],
   "source": [
    "pool = mp.Pool(80)\n",
    "pool.map(unzip_nometa, list(glob.glob('./NoMetastasis/*.zip')))"
   ]
  },
  {
   "cell_type": "code",
   "execution_count": null,
   "id": "fe869f42",
   "metadata": {},
   "outputs": [],
   "source": [
    "for filename in glob.glob('./Tudo-Ulyssys/*.zip'):\n",
    "    print(filename)\n",
    "    with tempfile.TemporaryDirectory() as tmpdirname:\n",
    "        with zipfile.ZipFile(filename, 'r') as zip_ref:\n",
    "            zip_ref.extractall(f\"{tmpdirname}/asd\")\n",
    "        print(len([name for name in os.listdir(tmpdirname) if os.path.isfile(name)]))"
   ]
  },
  {
   "cell_type": "code",
   "execution_count": null,
   "id": "ebe0f27e",
   "metadata": {},
   "outputs": [],
   "source": [
    "s=\"./Tudo-Ulyssys/55308.zip\""
   ]
  },
  {
   "cell_type": "code",
   "execution_count": null,
   "id": "f6f4e4fc",
   "metadata": {},
   "outputs": [],
   "source": [
    "s[:-3]"
   ]
  },
  {
   "cell_type": "code",
   "execution_count": null,
   "id": "37825c05",
   "metadata": {},
   "outputs": [],
   "source": [
    "with zipfile.ZipFile(s, 'r') as zip_ref:\n",
    "    zip_ref.extractall(f\"./hello\")"
   ]
  },
  {
   "cell_type": "code",
   "execution_count": null,
   "id": "40a1819b",
   "metadata": {},
   "outputs": [],
   "source": [
    "len(glob.glob(\"/mnt/idms/home/andor/prep_result/*\"))"
   ]
  },
  {
   "cell_type": "code",
   "execution_count": null,
   "id": "46c53525",
   "metadata": {},
   "outputs": [],
   "source": [
    "ff=\"/mnt/idms/home/andor/bbox_result/*\"\n",
    "for p in glob.glob(ff):\n",
    "    arr=np.load(p)\n",
    "    print(arr.shape, np.unique(arr))"
   ]
  },
  {
   "cell_type": "code",
   "execution_count": null,
   "id": "b663bbf9",
   "metadata": {},
   "outputs": [],
   "source": []
  }
 ],
 "metadata": {
  "kernelspec": {
   "display_name": "Python 3",
   "language": "python",
   "name": "python3"
  },
  "language_info": {
   "codemirror_mode": {
    "name": "ipython",
    "version": 3
   },
   "file_extension": ".py",
   "mimetype": "text/x-python",
   "name": "python",
   "nbconvert_exporter": "python",
   "pygments_lexer": "ipython3",
   "version": "3.6.13"
  }
 },
 "nbformat": 4,
 "nbformat_minor": 5
}
