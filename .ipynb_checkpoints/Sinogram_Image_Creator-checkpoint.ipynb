{
 "cells": [
  {
   "cell_type": "code",
   "execution_count": null,
   "id": "17a832bf",
   "metadata": {},
   "outputs": [],
   "source": [
    "import math\n",
    "import pandas as pd\n",
    "import numpy as np\n",
    "import itertools, functools\n",
    "from collections import defaultdict\n",
    "import matplotlib.pyplot as plt\n",
    "from PIL import Image, ImageEnhance, ImageFilter\n",
    "\n",
    "from skimage.io import imread\n",
    "from skimage.data import shepp_logan_phantom\n",
    "from skimage.transform import iradon, iradon_sart, radon, rescale\n",
    "\n",
    "import pickle\n",
    "import os\n",
    "import multiprocessing as mp\n",
    "import glob\n",
    "\n",
    "import time"
   ]
  },
  {
   "cell_type": "markdown",
   "id": "953e979a",
   "metadata": {},
   "source": [
    "## Defining constants"
   ]
  },
  {
   "cell_type": "code",
   "execution_count": null,
   "id": "d6b99dc2",
   "metadata": {},
   "outputs": [],
   "source": [
    "DOSES=[\"020\",\"080\",\"280\"]"
   ]
  },
  {
   "cell_type": "code",
   "execution_count": null,
   "id": "495e86fe",
   "metadata": {},
   "outputs": [],
   "source": [
    "#SLICES=5 #How many slices/periods to load"
   ]
  },
  {
   "cell_type": "code",
   "execution_count": null,
   "id": "ae9176fa",
   "metadata": {},
   "outputs": [],
   "source": [
    "ANGLES=720*2*2 #Number of views to use for a sinogram\n",
    "HALF_ANGLES=ANGLES//2\n",
    "PROJECTIONS=896\n",
    "HALF_PROJECTIONS=PROJECTIONS//2\n",
    "START_PERIOD=7 #From where to take the views for the sinogram. If x, then view number x*ANGLES is the first view to use.\n",
    "SMALL_R=518\n",
    "BIG_R=910\n",
    "FULL_CIRCLE=2*math.pi\n",
    "SEMI_CIRCLE=FULL_CIRCLE/2\n",
    "PERPENDICULAR_ANGLE=math.pi/2\n",
    "THICKNESS=16"
   ]
  },
  {
   "cell_type": "code",
   "execution_count": null,
   "id": "d3ed8030",
   "metadata": {},
   "outputs": [],
   "source": [
    "MAX_DISPLACEMENT=math.sqrt(SMALL_R**2-(BIG_R/2)**2)\n",
    "HALF_VIEW_ANGLE=math.asin(MAX_DISPLACEMENT/SMALL_R)\n",
    "VIEW_ANGLE=2*HALF_VIEW_ANGLE"
   ]
  },
  {
   "cell_type": "markdown",
   "id": "6238be58",
   "metadata": {},
   "source": [
    "## Multi-threaded reading of view measurements from csv"
   ]
  },
  {
   "cell_type": "code",
   "execution_count": null,
   "id": "91edf690",
   "metadata": {},
   "outputs": [],
   "source": [
    "count_errors = itertools.count() #I am not perfectly sure if this is atomic.\n",
    "#Atomic stuff seems to be a surprising downside of Python\n",
    "# - at least I couldn't find trivial packages for this purpose.\n",
    "\n",
    "def set_strip(do_exp, csv_path):\n",
    "    \n",
    "    try:\n",
    "        arr=np.genfromtxt(csv_path,delimiter=',')\n",
    "    except: #Strangely, if the file is empty, sometimes it throughs an exception, but sometimes just a warning\n",
    "        value = next(count_errors)\n",
    "        print(f\"ERROR number {value} in file {csv_path}\")\n",
    "        return None\n",
    "    \n",
    "    \n",
    "    \n",
    "    if arr.size == 0: #Some csv-s are empty, DON'T KNOW WHY\n",
    "        value = next(count_errors)\n",
    "        print(f\"ERROR number {value} in file {csv_path}\")\n",
    "        return None\n",
    "    else:\n",
    "        if do_exp:\n",
    "            arr=np.exp(arr)\n",
    "            arr=np.clip(arr,0,255)\n",
    "            #arr=np.uint8(arr)\n",
    "        else:\n",
    "            arr=((arr-np.min(arr))/(np.max(arr)-np.min(arr)))*255\n",
    "        return arr\n",
    "        \n",
    "\n",
    "def get_strips(dose, do_exp=False, max_cnt=None, fill_nones=True, parallel_jobs=mp.cpu_count()):\n",
    "    views_location=f\"/mnt/idms/PROJECTS/Lung/sinogram_Domi/spr_dose{dose}/out\"\n",
    "    cnt=0\n",
    "    csv_paths=sorted(glob.glob(f\"{views_location}/*.csv\"),key=lambda x:int(x[59:-4]))\n",
    "    if not max_cnt:\n",
    "        max_cnt=len(csv_paths)\n",
    "\n",
    "    start = time.time()\n",
    "    print(f\"Reading of {dose} mAs dose input started\")\n",
    "    print(f\"It will take approximately {3.0*max_cnt/48000} minutes on Hulk5 or {5.0*max_cnt/48000} on Gpu2.\")\n",
    "\n",
    "    with mp.Pool(parallel_jobs) as pool:\n",
    "        strips = pool.map(functools.partial(set_strip,do_exp), csv_paths[:max_cnt])\n",
    "        if fill_nones:\n",
    "            strips_list=[]\n",
    "            last=None\n",
    "            for x in list(strips):\n",
    "                if x is not None:\n",
    "                    strips_list.append(x)\n",
    "                    last=x\n",
    "                elif last is not None:\n",
    "                    strips_list.append(last)\n",
    "                else:\n",
    "                    raise ValueError(\"The first is already empty\")            \n",
    "            strips=np.asarray(strips_list)\n",
    "        else:\n",
    "            strips=np.asarray([x for x in list(strips) if x is not None])\n",
    "        \n",
    "    end = time.time()\n",
    "    print(f\"Reading of {dose} mAs dose input has finished\")\n",
    "    print(f\"{len(strips)} views were read\")\n",
    "    print(f\"It took {(end - start)/60} minutes\")\n",
    "    \n",
    "    return strips"
   ]
  },
  {
   "cell_type": "code",
   "execution_count": null,
   "id": "00d9f250",
   "metadata": {
    "scrolled": true
   },
   "outputs": [],
   "source": [
    "used_doses=DOSES # OR [\"280\"]\n",
    "strips_exp=dict()\n",
    "for dose in used_doses:\n",
    "    strips_exp[dose]=get_strips(dose, do_exp=True)#, max_cnt=ANGLES*SLICES)"
   ]
  },
  {
   "cell_type": "code",
   "execution_count": null,
   "id": "242ec081",
   "metadata": {},
   "outputs": [],
   "source": [
    "used_doses=DOSES # OR [\"280\"]\n",
    "strips=dict()\n",
    "for dose in used_doses:\n",
    "    strips[dose]=get_strips(dose)#, max_cnt=ANGLES*SLICES)"
   ]
  },
  {
   "cell_type": "markdown",
   "id": "f02cfbde",
   "metadata": {},
   "source": [
    "## Helper functions"
   ]
  },
  {
   "cell_type": "code",
   "execution_count": null,
   "id": "2ea5e778",
   "metadata": {},
   "outputs": [],
   "source": [
    "def plot_sinogram(sinogram, method):\n",
    "    plt.figure()\n",
    "    plt.title(method)\n",
    "    plt.xlabel('angle (pixel)')\n",
    "    plt.ylabel('projection (pixel)')\n",
    "    plt.imshow(sinogram,cmap=plt.cm.Greys_r)\n",
    "    plt.show()"
   ]
  },
  {
   "cell_type": "code",
   "execution_count": null,
   "id": "a532b70c",
   "metadata": {},
   "outputs": [],
   "source": [
    "def plot_lung(lung, method):\n",
    "    plt.figure(figsize=(25,25))\n",
    "    plt.title(method)\n",
    "    plt.imshow(lung,cmap=plt.cm.Greys_r)\n",
    "    plt.show()"
   ]
  },
  {
   "cell_type": "markdown",
   "id": "bc5af50f",
   "metadata": {},
   "source": [
    "# Defining sinogram creators"
   ]
  },
  {
   "cell_type": "code",
   "execution_count": null,
   "id": "2c64310b",
   "metadata": {},
   "outputs": [],
   "source": [
    "def create_sinogram_experiment(views, half_angles=HALF_ANGLES, angles=ANGLES, projections=PROJECTIONS,\n",
    "                               max_displacement=MAX_DISPLACEMENT, half_view_angle=HALF_VIEW_ANGLE,\n",
    "                               view_angle=VIEW_ANGLE, small_r=SMALL_R):\n",
    "    \n",
    "    \"\"\"\n",
    "    Input:\n",
    "    views -- a numpy array with shape (ANGLES, PROJECTIONS)\n",
    "    \n",
    "    Returns:\n",
    "    a sinogram as a PIL image\n",
    "    \"\"\"\n",
    "    \n",
    "    semi_circle=math.pi\n",
    "    full_circle=2*semi_circle\n",
    "    \n",
    "    sinogram=Image.new('L',(half_angles,projections),color=0)\n",
    "    pixels=sinogram.load()\n",
    "    \n",
    "    \n",
    "    for angle_pixel in range(half_angles):\n",
    "        theta=semi_circle*angle_pixel/half_angles\n",
    "        for proj_pixel in range(projections):\n",
    "            s=-max_displacement+(proj_pixel/projections)*2*max_displacement\n",
    "            beta=math.asin(s/small_r)\n",
    "            alpha=(full_circle+theta-beta)%full_circle\n",
    "            alpha_opposite = (alpha+semi_circle+2*beta)%full_circle\n",
    "            \n",
    "            P=math.floor(projections*((half_view_angle+beta)/view_angle))\n",
    "            V=math.floor(angles*(alpha/full_circle))\n",
    "            val=views[V][P]/2\n",
    "            \n",
    "            P_opposite=math.floor(projections*((half_view_angle-beta)/view_angle)-1)\n",
    "            V_opposite=math.floor(angles*(alpha_opposite/full_circle))  \n",
    "            val_opposite=views[V_opposite][P_opposite]/2\n",
    "            \n",
    "            pixels[angle_pixel, proj_pixel]=int(val*2)#+val_opposite) #OR: projections-proj_pixel-1, to flip\n",
    "        \n",
    "    plot_sinogram(sinogram, \"sinogram\")\n",
    "    return sinogram"
   ]
  },
  {
   "cell_type": "markdown",
   "id": "7c76f49d",
   "metadata": {},
   "source": [
    "#### Official one(s)"
   ]
  },
  {
   "cell_type": "code",
   "execution_count": null,
   "id": "a96b194e",
   "metadata": {},
   "outputs": [],
   "source": [
    "def create_sinogram(views, half_angles=HALF_ANGLES, angles=ANGLES, projections=PROJECTIONS,\n",
    "                               max_displacement=MAX_DISPLACEMENT, half_view_angle=HALF_VIEW_ANGLE,\n",
    "                               view_angle=VIEW_ANGLE, small_r=SMALL_R):\n",
    "    \n",
    "    \"\"\"\n",
    "    Input:\n",
    "    views -- a numpy array with shape (ANGLES, PROJECTIONS)\n",
    "    \n",
    "    Returns:\n",
    "    a sinogram as a PIL image\n",
    "    \"\"\"\n",
    "    \n",
    "    semi_circle=math.pi\n",
    "    full_circle=2*semi_circle\n",
    "    \n",
    "    sinogram=Image.new('L',(half_angles,projections),color=0)\n",
    "    pixels=sinogram.load()\n",
    "    \n",
    "    \n",
    "    for angle_pixel in range(half_angles):\n",
    "        theta=semi_circle*angle_pixel/half_angles\n",
    "        for proj_pixel in range(projections):\n",
    "            s=-max_displacement+(proj_pixel/projections)*2*max_displacement\n",
    "            beta=math.asin(s/small_r)\n",
    "            alpha=(theta-beta+full_circle)%full_circle\n",
    "            alpha_opposite = (alpha+semi_circle+2*beta+full_circle)%full_circle\n",
    "            \n",
    "            P=math.floor(projections*((half_view_angle+beta)/view_angle))\n",
    "            V=math.floor(angles*(alpha/full_circle))\n",
    "            val=views[V][P]/2\n",
    "            \n",
    "            P_opposite=math.floor(projections*((half_view_angle-beta)/view_angle)-1)\n",
    "            V_opposite=math.floor(angles*(alpha_opposite/full_circle))  \n",
    "            val_opposite=views[V_opposite][P_opposite]/2\n",
    "            \n",
    "            pixels[angle_pixel, proj_pixel]=int(val*2)#+val_opposite) #OR: projections-proj_pixel-1, to flip\n",
    "        \n",
    "    #plot_sinogram(sinogram, \"sinogram\")\n",
    "    return sinogram"
   ]
  },
  {
   "cell_type": "markdown",
   "id": "5d346a95",
   "metadata": {},
   "source": [
    "# Creating sinograms from views"
   ]
  },
  {
   "cell_type": "code",
   "execution_count": null,
   "id": "8f8120df",
   "metadata": {
    "scrolled": true
   },
   "outputs": [],
   "source": [
    "def do_only_1_slice(strips, dose, slice_idx):\n",
    "    original_views=strips[dose]\n",
    "    views=original_views[:(len(original_views)-(len(original_views)%ANGLES))]\n",
    "    views_per_angle=len(views)//ANGLES\n",
    "    views=np.stack([views[i::ANGLES].reshape((views_per_angle*THICKNESS,PROJECTIONS)) for i in range(ANGLES)])\n",
    "    first_idxs=list(range(ANGLES))\n",
    "    z_deltas=np.ceil(np.linspace(0, -THICKNESS, ANGLES, endpoint=False)).astype(int)\n",
    "    split_views=[]\n",
    "    second_idxs=list(np.full(ANGLES,slice_idx)+z_deltas)\n",
    "    idxs=list(zip(first_idxs, second_idxs))\n",
    "    arr=np.array([np.copy(views[idx]) for idx in idxs])\n",
    "    sinoo=create_sinogram(arr)\n",
    "    lung = iradon(np.array(sinoo),theta=theta,circle=True)\n",
    "    plot_lung(lung,\"asd\")\n",
    "\n",
    "do_only_1_slice(strips, \"020\", 128) #strips_exp"
   ]
  },
  {
   "cell_type": "code",
   "execution_count": null,
   "id": "76ed292d",
   "metadata": {},
   "outputs": [],
   "source": [
    "def create_all_sinograms(dose, original_views, parallel_jobs=mp.cpu_count()):\n",
    "    print(f\"THE CREATION OF {dose} mAs SINOGRAMS HAS STARTED.\")\n",
    "    views=original_views[:(len(original_views)-(len(original_views)%ANGLES))]\n",
    "    views_per_angle=len(views)//ANGLES\n",
    "    views=np.stack([views[i::ANGLES].reshape((views_per_angle*THICKNESS,PROJECTIONS)) for i in range(ANGLES)])\n",
    "    first_idxs=list(range(ANGLES))\n",
    "    z_deltas=np.ceil(np.linspace(0, -THICKNESS, ANGLES, endpoint=False)).astype(int)\n",
    "    split_views=[]\n",
    "    for i in range(THICKNESS-1,views_per_angle*THICKNESS):\n",
    "        second_idxs=list(np.full(ANGLES,i)+z_deltas)\n",
    "        idxs=list(zip(first_idxs, second_idxs))\n",
    "        arr=np.array([np.copy(views[idx]) for idx in idxs])\n",
    "        split_views.append(arr)\n",
    "    with mp.Pool(parallel_jobs) as pool:\n",
    "        slices=pool.map(create_sinogram, split_views)\n",
    "    print(f\"THE CREATION OF {dose} mAs SINOGRAMS HAS FINISHED.\")\n",
    "    return slices"
   ]
  },
  {
   "cell_type": "code",
   "execution_count": null,
   "id": "f05c331e",
   "metadata": {},
   "outputs": [],
   "source": [
    "all_sinograms=dict()\n",
    "for dose, views in strips.items():\n",
    "        all_sinograms[dose]=create_all_sinograms(dose, views)"
   ]
  },
  {
   "cell_type": "markdown",
   "id": "40279099",
   "metadata": {},
   "source": [
    "## Image restoration / interpolation (NOT USED AT THE MOMENT)"
   ]
  },
  {
   "cell_type": "code",
   "execution_count": null,
   "id": "3ed7a951",
   "metadata": {},
   "outputs": [],
   "source": [
    "def remove_horizontal_lines(sinogram): #Might be needed if using trigonometry and rounding\n",
    "    gray = np.array(sinogram)\n",
    "    thresh = cv2.threshold(gray, 0, 255, cv2.THRESH_BINARY_INV + cv2.THRESH_OTSU)[1]\n",
    "\n",
    "    horizontal_kernel = cv2.getStructuringElement(cv2.MORPH_RECT, (25, 1))\n",
    "    detected_lines = cv2.morphologyEx(thresh, cv2.MORPH_OPEN,\n",
    "    horizontal_kernel, iterations=2)\n",
    "\n",
    "    cnts = cv2.findContours(detected_lines, cv2.RETR_EXTERNAL, cv2.CHAIN_APPROX_SIMPLE)\n",
    "    cnts = cnts[0] if len(cnts) == 2 else cnts[1]\n",
    "\n",
    "    for c in cnts:\n",
    "        cv2.drawContours(gray, [c], -1, 255, 2)\n",
    "\n",
    "    repair_kernel = cv2.getStructuringElement(cv2.MORPH_RECT, (1, 6))\n",
    "\n",
    "    result = 255 - cv2.morphologyEx(255 - gray, cv2.MORPH_CLOSE, repair_kernel,\n",
    "    iterations=1)\n",
    "\n",
    "    plt.imshow(result, cmap = 'gray')#, interpolation = 'bicubic')\n",
    "    return result"
   ]
  },
  {
   "cell_type": "code",
   "execution_count": null,
   "id": "01ffbb33",
   "metadata": {},
   "outputs": [],
   "source": [
    "def remove_horizontal_lines2(sinogram):\n",
    "    gray = np.array(sinogram)\n",
    "    thresh = cv2.threshold(gray, 0, 255, cv2.THRESH_BINARY_INV + cv2.THRESH_OTSU)[1]\n",
    "\n",
    "    # Remove horizontal\n",
    "    horizontal_kernel = cv2.getStructuringElement(cv2.MORPH_RECT, (100,1))\n",
    "    detected_lines = cv2.morphologyEx(thresh, cv2.MORPH_OPEN, horizontal_kernel, iterations=2)\n",
    "    #print(detected_lines)\n",
    "    cnts = cv2.findContours(detected_lines, cv2.RETR_EXTERNAL, cv2.CHAIN_APPROX_SIMPLE)\n",
    "    cnts = cnts[0] if len(cnts) == 2 else cnts[1]\n",
    "    for c in cnts:\n",
    "        cv2.drawContours(gray, [c], -1, 255, 2)\n",
    "\n",
    "    # Repair image\n",
    "    repair_kernel = cv2.getStructuringElement(cv2.MORPH_RECT, (1,6))\n",
    "    result = 255 - cv2.morphologyEx(255 - gray, cv2.MORPH_CLOSE, repair_kernel, iterations=1)\n",
    "\n",
    "    plt.imshow(result, cmap = 'gray')\n",
    "    plt.imshow(detected_lines, cmap='gray')\n",
    "    return result"
   ]
  },
  {
   "cell_type": "code",
   "execution_count": null,
   "id": "1144db3c",
   "metadata": {},
   "outputs": [],
   "source": [
    "def remove_horizontal_lines3(sinogram):\n",
    "    gray = np.array(sinogram)\n",
    "    edges = cv2.Canny(gray,50,150,apertureSize = 3)\n",
    "    lines = cv2.HoughLinesP(image=edges,rho=1,theta=np.pi/180, threshold=100,lines=np.array([]), minLineLength=100,maxLineGap=80)\n",
    "    a,b,c = lines.shape\n",
    "    for i in range(a):\n",
    "        #TODO: instead should smooth/interpolate these lines, not draw them in black, but I don't know how to do it.\n",
    "        cv2.line(gray, (lines[i][0][0], lines[i][0][1]), (lines[i][0][2], lines[i][0][3]), (0, 0, 255), 3, cv2.LINE_AA)\n",
    "    plt.imshow(gray, cmap='gray')"
   ]
  },
  {
   "cell_type": "code",
   "execution_count": null,
   "id": "8212817d",
   "metadata": {},
   "outputs": [],
   "source": [
    "def apply_filters(sinogram):\n",
    "    return sinogram.filter(ImageFilter.SMOOTH_MORE)\n",
    "    #return sinogram.resize((45, 56), Image.BICUBIC)"
   ]
  },
  {
   "cell_type": "markdown",
   "id": "ed2e9a4f",
   "metadata": {},
   "source": [
    "## Save nice sinograms"
   ]
  },
  {
   "cell_type": "code",
   "execution_count": null,
   "id": "1644c713",
   "metadata": {},
   "outputs": [],
   "source": [
    "for dose, sinograms in all_sinograms.items():\n",
    "    path=f\"/mnt/idms/PROJECTS/Lung/sinogram_Domi/spr_dose{dose}/sinograms\"\n",
    "    for idx, sinogram in enumerate(sinograms):\n",
    "        np.save(f\"{path}/{idx}.npy\",np.array(sinogram))\n",
    "        print(f\"Sinogram {idx} saved at {path}/{idx}.npy\")"
   ]
  },
  {
   "cell_type": "markdown",
   "id": "953d14e5",
   "metadata": {},
   "source": [
    "# Inverse Radon - Lung creation"
   ]
  },
  {
   "cell_type": "code",
   "execution_count": null,
   "id": "d62c99f1",
   "metadata": {},
   "outputs": [],
   "source": [
    "def create_lung(dose, idx, sinogram, theta = np.linspace(0, 180, 1440, endpoint=False)):\n",
    "    lung = iradon(np.array(sinogram),theta=theta,circle=True)\n",
    "    path=f\"/mnt/idms/PROJECTS/Lung/sinogram_Domi/spr_dose{dose}/slices/{idx}.npy\"\n",
    "    np.save(path,np.array(lung))\n",
    "    #plot_lung(lung, f\"Slice number {idx}\")\n",
    "    return lung"
   ]
  },
  {
   "cell_type": "code",
   "execution_count": null,
   "id": "0638e482",
   "metadata": {},
   "outputs": [],
   "source": [
    "def create_all_lungs(dose, sinograms, parallel_jobs=mp.cpu_count()):\n",
    "    print(f\"THE CREATION OF {dose} mAs SLICES HAS STARTED.\")\n",
    "    with mp.Pool(parallel_jobs) as pool:\n",
    "        slices=pool.starmap(functools.partial(create_lung,dose), zip(list(range(len(sinograms))),sinograms))\n",
    "    print(f\"THE CREATION OF {dose} mAs SLICES HAS FINISHED.\")\n",
    "    return slices"
   ]
  },
  {
   "cell_type": "code",
   "execution_count": null,
   "id": "6676e0ed",
   "metadata": {},
   "outputs": [],
   "source": [
    "cts=dict()\n",
    "for dose, sinograms in all_sinograms.items():\n",
    "    cts[dose]=create_all_lungs(dose, sinograms)"
   ]
  },
  {
   "cell_type": "markdown",
   "id": "e98f652e",
   "metadata": {},
   "source": [
    "### Further experimenting"
   ]
  },
  {
   "cell_type": "markdown",
   "id": "aae000a8",
   "metadata": {},
   "source": [
    "#### Adding shift"
   ]
  },
  {
   "cell_type": "code",
   "execution_count": null,
   "id": "17aeafea",
   "metadata": {},
   "outputs": [],
   "source": [
    "for i in np.asarray(np.linspace(0,2880,10)).astype(int):\n",
    "    sinogram = create_sinogram_stupid_360(strips,shift=i)\n",
    "    theta = np.linspace(0, 360, 2880, endpoint=False)\n",
    "    reconstruction_fbp = iradon(np.array(sinogram),theta=theta, output_size=512)#, circle=True)\n",
    "    \n",
    "    plt.figure()\n",
    "    plt.title(\"Reconstruction\\nFiltered back projection\")\n",
    "    plt.imshow(reconstruction_fbp, cmap=plt.cm.Greys_r)\n",
    "    plt.show()"
   ]
  },
  {
   "cell_type": "code",
   "execution_count": null,
   "id": "a1c0ff5f",
   "metadata": {},
   "outputs": [],
   "source": [
    "for s in np.linspace(0,MAX_DISPLACEMENT,HALF_PROJECTIONS):\n",
    "    for theta in np.linspace(0,HALF_VIEW_ANGLE,HALF_ANGLES):\n",
    "        alpha=theta-math.asin(s/SMALL_R)\n",
    "        print(alpha)"
   ]
  }
 ],
 "metadata": {
  "kernelspec": {
   "display_name": "Python 3",
   "language": "python",
   "name": "python3"
  },
  "language_info": {
   "codemirror_mode": {
    "name": "ipython",
    "version": 3
   },
   "file_extension": ".py",
   "mimetype": "text/x-python",
   "name": "python",
   "nbconvert_exporter": "python",
   "pygments_lexer": "ipython3",
   "version": "3.9.6"
  }
 },
 "nbformat": 4,
 "nbformat_minor": 5
}
