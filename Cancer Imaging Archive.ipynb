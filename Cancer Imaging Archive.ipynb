{
 "cells": [
  {
   "cell_type": "code",
   "execution_count": null,
   "id": "47419530",
   "metadata": {},
   "outputs": [],
   "source": [
    "%matplotlib notebook\n",
    "import os\n",
    "import glob\n",
    "import re\n",
    "import shutil\n",
    "import matplotlib.pyplot as plt\n",
    "import pydicom\n",
    "import numpy as np\n",
    "import pandas as pd\n",
    "from PIL import Image\n",
    "import tciaclient\n",
    "import pandas\n",
    "import zipfile\n",
    "import multiprocessing as mp\n",
    "import pylidc as pl\n",
    "import subprocess"
   ]
  },
  {
   "cell_type": "code",
   "execution_count": null,
   "id": "5246abec",
   "metadata": {},
   "outputs": [],
   "source": [
    "def getResponseString(response):\n",
    "    if response.getcode() is not 200:\n",
    "        raise ValueError(\"Server returned an error\")\n",
    "    else:\n",
    "        return response.read()"
   ]
  },
  {
   "cell_type": "code",
   "execution_count": null,
   "id": "9892b232",
   "metadata": {},
   "outputs": [],
   "source": [
    "api_key = \"16ade9bc-f2fa-4a37-b357-36466a0020fc\"\n",
    "baseUrl=\"https://services.cancerimagingarchive.net/services/v3\"\n",
    "resource = \"TCIA\""
   ]
  },
  {
   "cell_type": "code",
   "execution_count": null,
   "id": "5d35a859",
   "metadata": {},
   "outputs": [],
   "source": [
    "client = tciaclient.TCIAClient(baseUrl, resource)"
   ]
  },
  {
   "cell_type": "code",
   "execution_count": null,
   "id": "605da2ef",
   "metadata": {
    "scrolled": true
   },
   "outputs": [],
   "source": [
    "response = client.get_series(modality=\"CT\", collection=\"LIDC-IDRI\")#, bodyPartExamined=\"CHEST\")\n",
    "strRespSeries = getResponseString(response)\n",
    "\n",
    "df = pandas.io.json.read_json(strRespSeries)\n",
    "print(df[\"Modality\"].unique())"
   ]
  },
  {
   "cell_type": "code",
   "execution_count": null,
   "id": "f1cccf87",
   "metadata": {},
   "outputs": [],
   "source": [
    "labels=pd.read_csv(\"/mnt/idms/PROJECTS/Lung/LIDC_IDRI/Labels/LIDC-IDRI_MetaData.csv\")\n",
    "labels=labels.rename(columns={\"Study UID\":\"StudyInstanceUID\"})\n",
    "df=df.merge(labels,on=\"StudyInstanceUID\")[[\"SeriesInstanceUID\",\"Subject ID\"]]"
   ]
  },
  {
   "cell_type": "code",
   "execution_count": null,
   "id": "da6d65af",
   "metadata": {},
   "outputs": [],
   "source": [
    "downloadPath=\"/mnt/idms/PROJECTS/Lung/LIDC_IDRI2/\""
   ]
  },
  {
   "cell_type": "code",
   "execution_count": null,
   "id": "7e756599",
   "metadata": {},
   "outputs": [],
   "source": [
    "def download_zip(ids):\n",
    "    (uid,sid)=ids\n",
    "    zipFileName=f\"LIDC_IDRI_{sid}.zip\"\n",
    "    if not os.path.exists(f\"{downloadPath}{zipFileName}\"):\n",
    "        print(f\"{downloadPath}{zipFileName}\")\n",
    "        response = client.get_image(uid,downloadPath,zipFileName)"
   ]
  },
  {
   "cell_type": "code",
   "execution_count": null,
   "id": "417a2a9a",
   "metadata": {},
   "outputs": [],
   "source": [
    "pool = mp.Pool(80)\n",
    "pool.map(download_zip, zip(list(df[\"SeriesInstanceUID\"]),df[\"Subject ID\"]))"
   ]
  },
  {
   "cell_type": "code",
   "execution_count": null,
   "id": "df5544c6",
   "metadata": {},
   "outputs": [],
   "source": [
    "a=\"jfkldjfdklsfjdklsf.zip\"\n",
    "a[-4:]"
   ]
  },
  {
   "cell_type": "code",
   "execution_count": null,
   "id": "7901c74a",
   "metadata": {
    "scrolled": false
   },
   "outputs": [],
   "source": [
    "def unzip_LIDC(sid):\n",
    "    if not os.path.exists(f\"{downloadPath}{sid}\"):\n",
    "        try:\n",
    "            print(f\"{downloadPath}LIDC_IDRI_{sid}.zip GOOOOOD\")\n",
    "            with zipfile.ZipFile(f\"{downloadPath}LIDC_IDRI_{sid}.zip\", 'r') as zip_ref:\n",
    "                zip_ref.extractall(f\"{downloadPath}{sid}\")\n",
    "        except:\n",
    "            os.remove(f\"{downloadPath}LIDC_IDRI_{sid}.zip\")\n",
    "            print(f\"{downloadPath}LIDC_IDRI_{sid}.zip ERROR\")\n",
    "            #raise"
   ]
  },
  {
   "cell_type": "code",
   "execution_count": null,
   "id": "452b2867",
   "metadata": {},
   "outputs": [],
   "source": [
    "pool = mp.Pool(80)\n",
    "pool.map(unzip_LIDC, list(df[\"Subject ID\"]))"
   ]
  },
  {
   "cell_type": "code",
   "execution_count": null,
   "id": "922687aa",
   "metadata": {},
   "outputs": [],
   "source": [
    "filename = \"/mnt/idms/PROJECTS/Lung/Kaggle-data/cancer_cases/home/peter/lung/data/stage1/stage1/229b8b785f880f61d8dad636c3dc2687/f1a23adea3019e89e938f9de24887ae6.dcm\"\n",
    "ds = pydicom.dcmread(filename)\n",
    "print((ds.pixel_array).shape)\n",
    "\n",
    "plt.imshow(ds.pixel_array, cmap=plt.cm.bone)\n",
    "\n",
    "data_img = Image.fromarray(ds.pixel_array)\n",
    "data_img_rotated = data_img.rotate(angle=45,resample=Image.BICUBIC,fillcolor=data_img.getpixel((0,0)))\n",
    "print(type(data_img_rotated))\n",
    "plt.imshow(data_img_rotated)"
   ]
  },
  {
   "cell_type": "code",
   "execution_count": null,
   "id": "f0d196fd",
   "metadata": {},
   "outputs": [],
   "source": [
    "from PIL import Image\n",
    "data_img = Image.fromarray(ds.pixel_array)\n",
    "data_img_rotated = data_img.rotate(angle=45,resample=Image.BICUBIC,fillcolor=data_img.getpixel((0,0)))"
   ]
  },
  {
   "cell_type": "code",
   "execution_count": null,
   "id": "90dd2a09",
   "metadata": {},
   "outputs": [],
   "source": [
    "filename_lymp = \"/mnt/idms/PROJECTS/Lung/LymphoglandulaeMetastasis/SE000006/50848-0584.dcm\"\n",
    "filename_lung=\"/mnt/idms/PROJECTS/Lung/LungMetastasis/SE000004/54680-0545.dcm\"\n",
    "lidc=\"/mnt/idms/PROJECTS/Lung/LIDC_Proba/318-06a33f72aef6dc0e3b645cd7a50610a6.dcm\"\n",
    "ds = pydicom.dcmread(lidc)\n",
    "#print((ds.pixel_array).shape)\n",
    "\n",
    "plt.imshow(ds.pixel_array, cmap=plt.cm.bone)\n",
    "\n",
    "#data_img = Image.fromarray(ds.pixel_array)\n",
    "#data_img_rotated = data_img.rotate(angle=45,resample=Image.BICUBIC,fillcolor=data_img.getpixel((0,0)))\n",
    "#print(type(data_img_rotated))\n",
    "#plt.imshow(data_img)"
   ]
  },
  {
   "cell_type": "code",
   "execution_count": null,
   "id": "ff2d0ad8",
   "metadata": {},
   "outputs": [],
   "source": [
    "no_num=len(glob.glob('./NoMetastasis/*.txt'))\n",
    "lung_num=len(glob.glob('./LungMetastasis/*.txt'))\n",
    "lymp_num=len(glob.glob('./LymphoglandulaeMetastasis/*.txt'))\n",
    "ct_num=no_num+lung_num+lymp_num"
   ]
  },
  {
   "cell_type": "code",
   "execution_count": null,
   "id": "81afc130",
   "metadata": {},
   "outputs": [],
   "source": [
    "lung_labels=np.asarray([0]*no_num+[1]*lung_num+[0]*lymp_num).astype(np.float32)\n",
    "lymp_labels=np.asarray([0]*no_num+[0]*lung_num+[1]*lymp_num).astype(np.float32)\n",
    "\n",
    "print(lung_labels)\n",
    "\n",
    "print(lung_labels.shape)\n",
    "#for filename in glob.glob('./Tudo-Ulyssys/*.txt'):\n",
    "#    with open(filename, 'r', encoding='latin1', errors='ignore') as file:"
   ]
  },
  {
   "cell_type": "markdown",
   "id": "97fcb524",
   "metadata": {},
   "source": [
    "## Pylidc API"
   ]
  },
  {
   "cell_type": "code",
   "execution_count": 29,
   "id": "d475c7e8",
   "metadata": {},
   "outputs": [
    {
     "name": "stdout",
     "output_type": "stream",
     "text": [
      "Scan(id=1,patient_id=LIDC-IDRI-0078) has 4 nodules.\n",
      "Nodule 1 has 4 annotations.\n"
     ]
    },
    {
     "ename": "TypeError",
     "evalue": "vars() argument must have __dict__ attribute",
     "output_type": "error",
     "traceback": [
      "\u001b[0;31m---------------------------------------------------------------------------\u001b[0m",
      "\u001b[0;31mTypeError\u001b[0m                                 Traceback (most recent call last)",
      "\u001b[0;32m<ipython-input-29-90b79d249869>\u001b[0m in \u001b[0;36m<module>\u001b[0;34m\u001b[0m\n\u001b[1;32m      9\u001b[0m \u001b[0;32mfor\u001b[0m \u001b[0mi\u001b[0m\u001b[0;34m,\u001b[0m\u001b[0mnod\u001b[0m \u001b[0;32min\u001b[0m \u001b[0menumerate\u001b[0m\u001b[0;34m(\u001b[0m\u001b[0mnods\u001b[0m\u001b[0;34m)\u001b[0m\u001b[0;34m:\u001b[0m\u001b[0;34m\u001b[0m\u001b[0;34m\u001b[0m\u001b[0m\n\u001b[1;32m     10\u001b[0m     \u001b[0mprint\u001b[0m\u001b[0;34m(\u001b[0m\u001b[0;34m\"Nodule %d has %d annotations.\"\u001b[0m \u001b[0;34m%\u001b[0m \u001b[0;34m(\u001b[0m\u001b[0mi\u001b[0m\u001b[0;34m+\u001b[0m\u001b[0;36m1\u001b[0m\u001b[0;34m,\u001b[0m \u001b[0mlen\u001b[0m\u001b[0;34m(\u001b[0m\u001b[0mnods\u001b[0m\u001b[0;34m[\u001b[0m\u001b[0mi\u001b[0m\u001b[0;34m]\u001b[0m\u001b[0;34m)\u001b[0m\u001b[0;34m)\u001b[0m\u001b[0;34m)\u001b[0m\u001b[0;34m\u001b[0m\u001b[0;34m\u001b[0m\u001b[0m\n\u001b[0;32m---> 11\u001b[0;31m     \u001b[0mprint\u001b[0m\u001b[0;34m(\u001b[0m\u001b[0mvars\u001b[0m\u001b[0;34m(\u001b[0m\u001b[0mnods\u001b[0m\u001b[0;34m[\u001b[0m\u001b[0mi\u001b[0m\u001b[0;34m]\u001b[0m\u001b[0;34m)\u001b[0m\u001b[0;34m)\u001b[0m\u001b[0;34m\u001b[0m\u001b[0;34m\u001b[0m\u001b[0m\n\u001b[0m\u001b[1;32m     12\u001b[0m \u001b[0;31m# => Nodule 1 has 4 annotations.\u001b[0m\u001b[0;34m\u001b[0m\u001b[0;34m\u001b[0m\u001b[0;34m\u001b[0m\u001b[0m\n\u001b[1;32m     13\u001b[0m \u001b[0;31m# => Nodule 2 has 4 annotations.\u001b[0m\u001b[0;34m\u001b[0m\u001b[0;34m\u001b[0m\u001b[0;34m\u001b[0m\u001b[0m\n",
      "\u001b[0;31mTypeError\u001b[0m: vars() argument must have __dict__ attribute"
     ]
    }
   ],
   "source": [
    "pid = 'LIDC-IDRI-0078'\n",
    "scan = pl.query(pl.Scan).filter(pl.Scan.patient_id == pid).first()\n",
    "\n",
    "nods = scan.cluster_annotations()\n",
    "\n",
    "print(\"%s has %d nodules.\" % (scan, len(nods)))\n",
    "# => Scan(id=1,patient_id=LIDC-IDRI-0078) has 4 nodules.\n",
    "\n",
    "for i,nod in enumerate(nods):\n",
    "    print(\"Nodule %d has %d annotations.\" % (i+1, len(nods[i])))\n",
    "    print(vars(nods[i]))\n",
    "# => Nodule 1 has 4 annotations.\n",
    "# => Nodule 2 has 4 annotations.\n",
    "# => Nodule 3 has 1 annotations.\n",
    "# => Nodule 4 has 4 annotations.\n",
    "#scan.visualize(annotation_groups=nods)"
   ]
  },
  {
   "cell_type": "code",
   "execution_count": null,
   "id": "e3ac9750",
   "metadata": {},
   "outputs": [],
   "source": [
    "scan=list(pl.query(pl.Scan))[17]\n",
    "img_np=scan.to_volume()[:,:,40]\n",
    "maxi=np.max(img_np)\n",
    "mini=np.min(img_np)\n",
    "img_np=((img_np-mini)/(maxi-mini))*255\n",
    "Image.fromarray(img_np).show()"
   ]
  },
  {
   "cell_type": "code",
   "execution_count": null,
   "id": "51178f6d",
   "metadata": {},
   "outputs": [],
   "source": [
    "for scan in pl.query(pl.Scan):\n",
    "    print(scan)\n",
    "    #print(scan.cluster_annotations())\n",
    "    Image.fromarray(scan.to_volume()).show()\n",
    "    break"
   ]
  },
  {
   "cell_type": "code",
   "execution_count": null,
   "id": "a3e0a326",
   "metadata": {},
   "outputs": [],
   "source": [
    "scans.count()"
   ]
  },
  {
   "cell_type": "code",
   "execution_count": null,
   "id": "3fa7cb12",
   "metadata": {},
   "outputs": [],
   "source": [
    "vars(pl.Scan.scan)"
   ]
  },
  {
   "cell_type": "code",
   "execution_count": null,
   "id": "1d007fea",
   "metadata": {},
   "outputs": [],
   "source": [
    "path=\"/mnt/idms/PROJECTS/Lung/LIDC_IDRI/LIDC_IDRI_1.3.6.1.4.1.14519.5.2.1.6279.6001.179730018513720561213088132029\""
   ]
  },
  {
   "cell_type": "code",
   "execution_count": null,
   "id": "96bbcb0b",
   "metadata": {},
   "outputs": [],
   "source": [
    "for dcm in glob.glob(f\"{path}/*.dcm\"):\n",
    "    print(pydicom.read_file(dcm))"
   ]
  },
  {
   "cell_type": "code",
   "execution_count": null,
   "id": "81818d7a",
   "metadata": {},
   "outputs": [],
   "source": [
    "path=\"/mnt/idms/PROJECTS/Lung/LIDC_IDRI/\"\n",
    "for ct_path in glob.glob(f\"{path}/LIDC_IDRI*\"):\n",
    "    print(ct_path)\n",
    "    first_dcm=glob.glob(f\"{ct_path}/*\")[0]\n",
    "    patient_id=pydicom.read_file(first_dcm).PatientID\n",
    "    subprocess.call([\"mv\", ct_path, os.path.join(path,patient_id)])\n",
    "    print(os.path.join(path,patient_id))\n",
    "    #move(ct_path,os.path.join(path,patient_id))"
   ]
  },
  {
   "cell_type": "code",
   "execution_count": null,
   "id": "538d4310",
   "metadata": {},
   "outputs": [],
   "source": []
  }
 ],
 "metadata": {
  "kernelspec": {
   "display_name": "Python 3",
   "language": "python",
   "name": "python3"
  },
  "language_info": {
   "codemirror_mode": {
    "name": "ipython",
    "version": 3
   },
   "file_extension": ".py",
   "mimetype": "text/x-python",
   "name": "python",
   "nbconvert_exporter": "python",
   "pygments_lexer": "ipython3",
   "version": "3.6.13"
  }
 },
 "nbformat": 4,
 "nbformat_minor": 5
}
